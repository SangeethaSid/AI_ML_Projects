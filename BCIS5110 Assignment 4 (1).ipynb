{
 "cells": [
  {
   "cell_type": "markdown",
   "metadata": {},
   "source": [
    "## BCIS5110 - Assignment 4\n",
    "Q1: 10 points; Q2: 10 points. Q3: 15 points"
   ]
  },
  {
   "cell_type": "markdown",
   "metadata": {},
   "source": [
    "1. Write a program that:<br>\n",
    "1)\tDefines a list (anything of your choice)<br>\n",
    "2)\tAsks the user to input a guess<br>\n",
    "3)\tChecks whether the user input matches any item in your pre-defined list<br>\n",
    "4)\tIf yes, prints confirmation message<br>\n",
    "5)\tIf not, asks the user to try again<br>\n",
    "6)  keeps asking until the user gets it right once<br>"
   ]
  },
  {
   "cell_type": "code",
   "execution_count": 20,
   "metadata": {},
   "outputs": [
    {
     "name": "stdout",
     "output_type": "stream",
     "text": [
      "Guess my favorite fruit:grape\n",
      "try again\n",
      "Guess my favorite fruit:grap\n",
      "try again\n",
      "Guess my favorite fruit:grapes\n",
      "congrats\n"
     ]
    }
   ],
   "source": [
    "#Define a list\n",
    "a=['apples','oranges','mangoes','grapes','blackberry']\n",
    "\n",
    "for b in a:\n",
    "    b=input(\"Guess my favorite fruit:\")\n",
    "    if b in a:\n",
    "        print(\"congrats\")\n",
    "        break\n",
    "    else:\n",
    "        print(\"try again\")\n",
    "        continue\n",
    "    \n",
    "        \n",
    "        "
   ]
  },
  {
   "cell_type": "markdown",
   "metadata": {},
   "source": [
    "2. In data preparation, sometimes we need to replace missing values. At this point, we can view a column as a list, e.g. [1, 0, 0, 1, 'NA', 1, 0, 'NA']. 'NA' is the indicator of missing values. <br>\n",
    "Write a program to replace 'NA' with 1. So the output will be [1, 0, 0, 1, 1, 1, 0, 1]."
   ]
  },
  {
   "cell_type": "code",
   "execution_count": 79,
   "metadata": {},
   "outputs": [
    {
     "name": "stdout",
     "output_type": "stream",
     "text": [
      "[1, 0, 0, 1, 1, 1, 0, 1, 1]\n"
     ]
    }
   ],
   "source": [
    "listitems=[1,0,0,1,'NA',1,0,'NA','NA']\n",
    "for num,i in enumerate(listitems):\n",
    "    if i=='NA':\n",
    "        listitems[num]=1\n",
    "print(listitems)\n"
   ]
  },
  {
   "cell_type": "markdown",
   "metadata": {},
   "source": [
    "3. 1. Write a program that:<br>\n",
    "1)\tAsks the user to input a sequence of comma separated numbers, e.g., 4,6,7,454,78 (no space in between)<br>\n",
    "2)\tTransforms the input string into a list using the function split(). For example, userstr.split(',') will split the string userstr at each ',' and return a list of separated items.<br>\n",
    "3)\tChecks whether the user input is all-digit (use .isdigit() function). If yes, go to next step; if not, let the user try until they get it right.<br>\n",
    "4)\tConverts all items in the list into integer<br>\n",
    "5)\tAdds all numbers together and return the sum.<br>"
   ]
  },
  {
   "cell_type": "code",
   "execution_count": 124,
   "metadata": {},
   "outputs": [
    {
     "name": "stdout",
     "output_type": "stream",
     "text": [
      "Enter comma seperated integers: 1,2,a\n",
      "Enter again\n",
      "Enter comma seperated integers: 1,b,3\n",
      "Enter again\n",
      "Enter comma seperated integers: 1,2,3,4,5\n",
      "15\n"
     ]
    }
   ],
   "source": [
    "userList=[]\n",
    "result=0\n",
    "while True:\n",
    "    flag=1\n",
    "#input comma seperated input\n",
    "    userString=str(input(\"Enter comma seperated integers: \"))# str is not necessary as the integers are considered as string by default\n",
    "#converting a string to list\n",
    "    userList=userString.split(\",\")\n",
    "    for i in userList:\n",
    "        if not i.isdigit():\n",
    "            print(\"Enter again\")\n",
    "            flag=0\n",
    "            break;\n",
    "    if flag==1:\n",
    "        break;\n",
    "for i in userList:\n",
    "    result+=int(i)\n",
    "print(result)\n",
    "            \n",
    "        "
   ]
  },
  {
   "cell_type": "code",
   "execution_count": 126,
   "metadata": {},
   "outputs": [
    {
     "name": "stdout",
     "output_type": "stream",
     "text": [
      "Enter comma seperated integers: 5,6,g\n",
      "Enter again\n",
      "Enter comma seperated integers: 51,23,f\n",
      "Enter again\n",
      "Enter comma seperated integers: 51,23.44\n",
      "Enter again\n",
      "Enter comma seperated integers: 65,23,45\n",
      "Numbers are digits\n",
      "133\n"
     ]
    }
   ],
   "source": [
    "res=0\n",
    "while True:\n",
    "#input comma seperated input\n",
    "    userString=str(input(\"Enter comma seperated integers: \"))\n",
    "#converting a string to list\n",
    "    userList=userString.split(\",\")\n",
    "    flag=0\n",
    "    for i in userList:\n",
    "        if not i.isdigit():\n",
    "            print(\"Enter again\")\n",
    "            flag=1\n",
    "            break;\n",
    "    if flag==0:\n",
    "        print(\"Numbers are digits\")\n",
    "        break;\n",
    "res=[int(i) for i in userList]\n",
    "print(sum(res))        \n",
    "           "
   ]
  },
  {
   "cell_type": "code",
   "execution_count": null,
   "metadata": {},
   "outputs": [],
   "source": []
  }
 ],
 "metadata": {
  "kernelspec": {
   "display_name": "Python 3 (ipykernel)",
   "language": "python",
   "name": "python3"
  },
  "language_info": {
   "codemirror_mode": {
    "name": "ipython",
    "version": 3
   },
   "file_extension": ".py",
   "mimetype": "text/x-python",
   "name": "python",
   "nbconvert_exporter": "python",
   "pygments_lexer": "ipython3",
   "version": "3.9.7"
  }
 },
 "nbformat": 4,
 "nbformat_minor": 2
}

{
 "cells": [
  {
   "cell_type": "markdown",
   "metadata": {},
   "source": [
    "## BCIS5110 - Assignment 8&9\n",
    "5 points each except Q6 and Q7. 10 points each for Q6&7.\n",
    "## Assignment 10&11 starts after Q12 because we need to continue with the data that we modified in Assignment 8&9."
   ]
  },
  {
   "cell_type": "markdown",
   "metadata": {},
   "source": [
    "### In this assignment, we start to work on Kiva datasets."
   ]
  },
  {
   "cell_type": "code",
   "execution_count": 1,
   "metadata": {},
   "outputs": [],
   "source": [
    "# By default, when you run each cell, only the last output of the codes will show.\n",
    "# This code makes all outputs of a cell show.\n",
    "from IPython.core.interactiveshell import InteractiveShell\n",
    "InteractiveShell.ast_node_interactivity = \"all\""
   ]
  },
  {
   "cell_type": "code",
   "execution_count": 2,
   "metadata": {},
   "outputs": [],
   "source": [
    "#importing the packages\n",
    "#pandas is a software library written for the Python programming language for data manipulation and analysis.\n",
    "import pandas as pd\n",
    "#NumPy is a Python library used for working with arrays\n",
    "import numpy as np"
   ]
  },
  {
   "cell_type": "markdown",
   "metadata": {},
   "source": [
    "1. Read in the three tables (the original dataset you downloaded, not the sample I provided for your initial report.)"
   ]
  },
  {
   "cell_type": "code",
   "execution_count": 3,
   "metadata": {},
   "outputs": [],
   "source": [
    "#Read a comma-separated values (csv) file into DataFrame\n",
    "df1=pd.read_csv(\"loans_u.csv\")\n",
    "df2=pd.read_csv(\"lenders_u.csv\")\n",
    "df3=pd.read_csv(\"loans_lenders_u.csv\")"
   ]
  },
  {
   "cell_type": "markdown",
   "metadata": {},
   "source": [
    "2. Display the information about each dataframe."
   ]
  },
  {
   "cell_type": "code",
   "execution_count": 4,
   "metadata": {},
   "outputs": [
    {
     "data": {
      "text/html": [
       "<div>\n",
       "<style scoped>\n",
       "    .dataframe tbody tr th:only-of-type {\n",
       "        vertical-align: middle;\n",
       "    }\n",
       "\n",
       "    .dataframe tbody tr th {\n",
       "        vertical-align: top;\n",
       "    }\n",
       "\n",
       "    .dataframe thead th {\n",
       "        text-align: right;\n",
       "    }\n",
       "</style>\n",
       "<table border=\"1\" class=\"dataframe\">\n",
       "  <thead>\n",
       "    <tr style=\"text-align: right;\">\n",
       "      <th></th>\n",
       "      <th>LOAN_ID</th>\n",
       "      <th>LOAN_NAME</th>\n",
       "      <th>ORIGINAL_LANGUAGE</th>\n",
       "      <th>DESCRIPTION</th>\n",
       "      <th>DESCRIPTION_TRANSLATED</th>\n",
       "      <th>FUNDED_AMOUNT</th>\n",
       "      <th>LOAN_AMOUNT</th>\n",
       "      <th>STATUS</th>\n",
       "      <th>IMAGE_ID</th>\n",
       "      <th>VIDEO_ID</th>\n",
       "      <th>...</th>\n",
       "      <th>LENDER_TERM</th>\n",
       "      <th>NUM_LENDERS_TOTAL</th>\n",
       "      <th>NUM_JOURNAL_ENTRIES</th>\n",
       "      <th>NUM_BULK_ENTRIES</th>\n",
       "      <th>TAGS</th>\n",
       "      <th>BORROWER_NAMES</th>\n",
       "      <th>BORROWER_GENDERS</th>\n",
       "      <th>BORROWER_PICTURED</th>\n",
       "      <th>REPAYMENT_INTERVAL</th>\n",
       "      <th>DISTRIBUTION_MODEL</th>\n",
       "    </tr>\n",
       "  </thead>\n",
       "  <tbody>\n",
       "    <tr>\n",
       "      <th>0</th>\n",
       "      <td>1057058</td>\n",
       "      <td>\\tLucy</td>\n",
       "      <td>English</td>\n",
       "      <td>Lucy is a married woman and has been blessed w...</td>\n",
       "      <td>Lucy is a married woman and has been blessed w...</td>\n",
       "      <td>300.0</td>\n",
       "      <td>300.0</td>\n",
       "      <td>funded</td>\n",
       "      <td>2157387.0</td>\n",
       "      <td>NaN</td>\n",
       "      <td>...</td>\n",
       "      <td>14.0</td>\n",
       "      <td>11</td>\n",
       "      <td>1</td>\n",
       "      <td>1</td>\n",
       "      <td>#Fabrics, #Parent, #Woman-Owned Business, #Sch...</td>\n",
       "      <td>\\tLucy</td>\n",
       "      <td>female</td>\n",
       "      <td>true</td>\n",
       "      <td>monthly</td>\n",
       "      <td>field_partner</td>\n",
       "    </tr>\n",
       "    <tr>\n",
       "      <th>1</th>\n",
       "      <td>509472</td>\n",
       "      <td>Madosho</td>\n",
       "      <td>English</td>\n",
       "      <td>Madosho is a very responsible man who values h...</td>\n",
       "      <td>NaN</td>\n",
       "      <td>300.0</td>\n",
       "      <td>300.0</td>\n",
       "      <td>funded</td>\n",
       "      <td>942435.0</td>\n",
       "      <td>NaN</td>\n",
       "      <td>...</td>\n",
       "      <td>14.0</td>\n",
       "      <td>6</td>\n",
       "      <td>3</td>\n",
       "      <td>2</td>\n",
       "      <td>NaN</td>\n",
       "      <td>Madosho</td>\n",
       "      <td>male</td>\n",
       "      <td>true</td>\n",
       "      <td>monthly</td>\n",
       "      <td>field_partner</td>\n",
       "    </tr>\n",
       "    <tr>\n",
       "      <th>2</th>\n",
       "      <td>344324</td>\n",
       "      <td>Marcelina</td>\n",
       "      <td>English</td>\n",
       "      <td>Marcelina is married with 2 child. She is a ve...</td>\n",
       "      <td>NaN</td>\n",
       "      <td>475.0</td>\n",
       "      <td>475.0</td>\n",
       "      <td>funded</td>\n",
       "      <td>886916.0</td>\n",
       "      <td>NaN</td>\n",
       "      <td>...</td>\n",
       "      <td>13.0</td>\n",
       "      <td>13</td>\n",
       "      <td>2</td>\n",
       "      <td>1</td>\n",
       "      <td>NaN</td>\n",
       "      <td>Marcelina</td>\n",
       "      <td>female</td>\n",
       "      <td>true</td>\n",
       "      <td>monthly</td>\n",
       "      <td>field_partner</td>\n",
       "    </tr>\n",
       "    <tr>\n",
       "      <th>3</th>\n",
       "      <td>768521</td>\n",
       "      <td>Fadzisai</td>\n",
       "      <td>English</td>\n",
       "      <td>Fadzisai is a 30-year-old businesswoman from t...</td>\n",
       "      <td>Fadzisai is a 30-year-old businesswoman from t...</td>\n",
       "      <td>500.0</td>\n",
       "      <td>500.0</td>\n",
       "      <td>funded</td>\n",
       "      <td>1692199.0</td>\n",
       "      <td>NaN</td>\n",
       "      <td>...</td>\n",
       "      <td>8.0</td>\n",
       "      <td>20</td>\n",
       "      <td>2</td>\n",
       "      <td>1</td>\n",
       "      <td>user_favorite</td>\n",
       "      <td>Fadzisai</td>\n",
       "      <td>female</td>\n",
       "      <td>true</td>\n",
       "      <td>monthly</td>\n",
       "      <td>field_partner</td>\n",
       "    </tr>\n",
       "    <tr>\n",
       "      <th>4</th>\n",
       "      <td>90984</td>\n",
       "      <td>Luisa</td>\n",
       "      <td>Spanish</td>\n",
       "      <td>Luisa tiene 49 años, vive con su esposo en su ...</td>\n",
       "      <td>Luisa is 49 years old and lives with her husba...</td>\n",
       "      <td>925.0</td>\n",
       "      <td>925.0</td>\n",
       "      <td>funded</td>\n",
       "      <td>276468.0</td>\n",
       "      <td>NaN</td>\n",
       "      <td>...</td>\n",
       "      <td>11.0</td>\n",
       "      <td>29</td>\n",
       "      <td>4</td>\n",
       "      <td>2</td>\n",
       "      <td>NaN</td>\n",
       "      <td>Luisa</td>\n",
       "      <td>female</td>\n",
       "      <td>true</td>\n",
       "      <td>bullet</td>\n",
       "      <td>field_partner</td>\n",
       "    </tr>\n",
       "  </tbody>\n",
       "</table>\n",
       "<p>5 rows × 34 columns</p>\n",
       "</div>"
      ],
      "text/plain": [
       "   LOAN_ID  LOAN_NAME ORIGINAL_LANGUAGE  \\\n",
       "0  1057058     \\tLucy           English   \n",
       "1   509472    Madosho           English   \n",
       "2   344324  Marcelina           English   \n",
       "3   768521   Fadzisai           English   \n",
       "4    90984      Luisa           Spanish   \n",
       "\n",
       "                                         DESCRIPTION  \\\n",
       "0  Lucy is a married woman and has been blessed w...   \n",
       "1  Madosho is a very responsible man who values h...   \n",
       "2  Marcelina is married with 2 child. She is a ve...   \n",
       "3  Fadzisai is a 30-year-old businesswoman from t...   \n",
       "4  Luisa tiene 49 años, vive con su esposo en su ...   \n",
       "\n",
       "                              DESCRIPTION_TRANSLATED  FUNDED_AMOUNT  \\\n",
       "0  Lucy is a married woman and has been blessed w...          300.0   \n",
       "1                                                NaN          300.0   \n",
       "2                                                NaN          475.0   \n",
       "3  Fadzisai is a 30-year-old businesswoman from t...          500.0   \n",
       "4  Luisa is 49 years old and lives with her husba...          925.0   \n",
       "\n",
       "   LOAN_AMOUNT  STATUS   IMAGE_ID  VIDEO_ID  ... LENDER_TERM  \\\n",
       "0        300.0  funded  2157387.0       NaN  ...        14.0   \n",
       "1        300.0  funded   942435.0       NaN  ...        14.0   \n",
       "2        475.0  funded   886916.0       NaN  ...        13.0   \n",
       "3        500.0  funded  1692199.0       NaN  ...         8.0   \n",
       "4        925.0  funded   276468.0       NaN  ...        11.0   \n",
       "\n",
       "  NUM_LENDERS_TOTAL NUM_JOURNAL_ENTRIES NUM_BULK_ENTRIES  \\\n",
       "0                11                   1                1   \n",
       "1                 6                   3                2   \n",
       "2                13                   2                1   \n",
       "3                20                   2                1   \n",
       "4                29                   4                2   \n",
       "\n",
       "                                                TAGS BORROWER_NAMES  \\\n",
       "0  #Fabrics, #Parent, #Woman-Owned Business, #Sch...         \\tLucy   \n",
       "1                                                NaN        Madosho   \n",
       "2                                                NaN      Marcelina   \n",
       "3                                      user_favorite       Fadzisai   \n",
       "4                                                NaN          Luisa   \n",
       "\n",
       "  BORROWER_GENDERS  BORROWER_PICTURED REPAYMENT_INTERVAL  DISTRIBUTION_MODEL  \n",
       "0           female               true            monthly       field_partner  \n",
       "1             male               true            monthly       field_partner  \n",
       "2           female               true            monthly       field_partner  \n",
       "3           female               true            monthly       field_partner  \n",
       "4           female               true             bullet       field_partner  \n",
       "\n",
       "[5 rows x 34 columns]"
      ]
     },
     "execution_count": 4,
     "metadata": {},
     "output_type": "execute_result"
    },
    {
     "data": {
      "text/html": [
       "<div>\n",
       "<style scoped>\n",
       "    .dataframe tbody tr th:only-of-type {\n",
       "        vertical-align: middle;\n",
       "    }\n",
       "\n",
       "    .dataframe tbody tr th {\n",
       "        vertical-align: top;\n",
       "    }\n",
       "\n",
       "    .dataframe thead th {\n",
       "        text-align: right;\n",
       "    }\n",
       "</style>\n",
       "<table border=\"1\" class=\"dataframe\">\n",
       "  <thead>\n",
       "    <tr style=\"text-align: right;\">\n",
       "      <th></th>\n",
       "      <th>PERMANENT_NAME</th>\n",
       "      <th>DISPLAY_NAME</th>\n",
       "      <th>MAIN_PIC_ID</th>\n",
       "      <th>CITY</th>\n",
       "      <th>STATE</th>\n",
       "      <th>COUNTRY_CODE</th>\n",
       "      <th>MEMBER_SINCE</th>\n",
       "      <th>PERSONAL_URL</th>\n",
       "      <th>OCCUPATION</th>\n",
       "      <th>LOAN_BECAUSE</th>\n",
       "      <th>OTHER_INFO</th>\n",
       "      <th>LOAN_PURCHASE_NUM</th>\n",
       "      <th>INVITED_BY</th>\n",
       "      <th>NUM_INVITED</th>\n",
       "    </tr>\n",
       "  </thead>\n",
       "  <tbody>\n",
       "    <tr>\n",
       "      <th>0</th>\n",
       "      <td>diana9725</td>\n",
       "      <td>Diana</td>\n",
       "      <td>NaN</td>\n",
       "      <td>NaN</td>\n",
       "      <td>NaN</td>\n",
       "      <td>NaN</td>\n",
       "      <td>1586181517</td>\n",
       "      <td>NaN</td>\n",
       "      <td>NaN</td>\n",
       "      <td>NaN</td>\n",
       "      <td>NaN</td>\n",
       "      <td>9</td>\n",
       "      <td>Jane</td>\n",
       "      <td>0</td>\n",
       "    </tr>\n",
       "    <tr>\n",
       "      <th>1</th>\n",
       "      <td>tommy42116366</td>\n",
       "      <td>Tommy</td>\n",
       "      <td>NaN</td>\n",
       "      <td>NaN</td>\n",
       "      <td>NaN</td>\n",
       "      <td>NaN</td>\n",
       "      <td>1604236678</td>\n",
       "      <td>NaN</td>\n",
       "      <td>NaN</td>\n",
       "      <td>NaN</td>\n",
       "      <td>NaN</td>\n",
       "      <td>1</td>\n",
       "      <td>NaN</td>\n",
       "      <td>0</td>\n",
       "    </tr>\n",
       "    <tr>\n",
       "      <th>2</th>\n",
       "      <td>vivian43273840</td>\n",
       "      <td>Vivian</td>\n",
       "      <td>NaN</td>\n",
       "      <td>NaN</td>\n",
       "      <td>NaN</td>\n",
       "      <td>NaN</td>\n",
       "      <td>1557390592</td>\n",
       "      <td>NaN</td>\n",
       "      <td>NaN</td>\n",
       "      <td>NaN</td>\n",
       "      <td>NaN</td>\n",
       "      <td>3</td>\n",
       "      <td>NaN</td>\n",
       "      <td>0</td>\n",
       "    </tr>\n",
       "    <tr>\n",
       "      <th>3</th>\n",
       "      <td>chandler1007</td>\n",
       "      <td>Chandler</td>\n",
       "      <td>NaN</td>\n",
       "      <td>NaN</td>\n",
       "      <td>NaN</td>\n",
       "      <td>NaN</td>\n",
       "      <td>1586187508</td>\n",
       "      <td>NaN</td>\n",
       "      <td>NaN</td>\n",
       "      <td>NaN</td>\n",
       "      <td>NaN</td>\n",
       "      <td>1</td>\n",
       "      <td>NaN</td>\n",
       "      <td>0</td>\n",
       "    </tr>\n",
       "    <tr>\n",
       "      <th>4</th>\n",
       "      <td>izabella8993</td>\n",
       "      <td>IZABELLA</td>\n",
       "      <td>NaN</td>\n",
       "      <td>NaN</td>\n",
       "      <td>NaN</td>\n",
       "      <td>NaN</td>\n",
       "      <td>1557372579</td>\n",
       "      <td>NaN</td>\n",
       "      <td>NaN</td>\n",
       "      <td>NaN</td>\n",
       "      <td>NaN</td>\n",
       "      <td>1</td>\n",
       "      <td>NaN</td>\n",
       "      <td>0</td>\n",
       "    </tr>\n",
       "  </tbody>\n",
       "</table>\n",
       "</div>"
      ],
      "text/plain": [
       "   PERMANENT_NAME DISPLAY_NAME  MAIN_PIC_ID CITY STATE COUNTRY_CODE  \\\n",
       "0       diana9725        Diana          NaN  NaN   NaN          NaN   \n",
       "1   tommy42116366        Tommy          NaN  NaN   NaN          NaN   \n",
       "2  vivian43273840       Vivian          NaN  NaN   NaN          NaN   \n",
       "3    chandler1007     Chandler          NaN  NaN   NaN          NaN   \n",
       "4    izabella8993     IZABELLA          NaN  NaN   NaN          NaN   \n",
       "\n",
       "   MEMBER_SINCE PERSONAL_URL OCCUPATION LOAN_BECAUSE OTHER_INFO  \\\n",
       "0    1586181517          NaN        NaN          NaN        NaN   \n",
       "1    1604236678          NaN        NaN          NaN        NaN   \n",
       "2    1557390592          NaN        NaN          NaN        NaN   \n",
       "3    1586187508          NaN        NaN          NaN        NaN   \n",
       "4    1557372579          NaN        NaN          NaN        NaN   \n",
       "\n",
       "   LOAN_PURCHASE_NUM INVITED_BY  NUM_INVITED  \n",
       "0                  9       Jane            0  \n",
       "1                  1        NaN            0  \n",
       "2                  3        NaN            0  \n",
       "3                  1        NaN            0  \n",
       "4                  1        NaN            0  "
      ]
     },
     "execution_count": 4,
     "metadata": {},
     "output_type": "execute_result"
    },
    {
     "data": {
      "text/html": [
       "<div>\n",
       "<style scoped>\n",
       "    .dataframe tbody tr th:only-of-type {\n",
       "        vertical-align: middle;\n",
       "    }\n",
       "\n",
       "    .dataframe tbody tr th {\n",
       "        vertical-align: top;\n",
       "    }\n",
       "\n",
       "    .dataframe thead th {\n",
       "        text-align: right;\n",
       "    }\n",
       "</style>\n",
       "<table border=\"1\" class=\"dataframe\">\n",
       "  <thead>\n",
       "    <tr style=\"text-align: right;\">\n",
       "      <th></th>\n",
       "      <th>LOAN_ID</th>\n",
       "      <th>LENDERS</th>\n",
       "    </tr>\n",
       "  </thead>\n",
       "  <tbody>\n",
       "    <tr>\n",
       "      <th>0</th>\n",
       "      <td>467550</td>\n",
       "      <td>bill3435, olek, krista5896, adam8481, krisztin...</td>\n",
       "    </tr>\n",
       "    <tr>\n",
       "      <th>1</th>\n",
       "      <td>305206</td>\n",
       "      <td>andrew55406, sidledes, ronni1479, david5071, d...</td>\n",
       "    </tr>\n",
       "    <tr>\n",
       "      <th>2</th>\n",
       "      <td>156996</td>\n",
       "      <td>erin4898, dustin5617, nfolkert, pete3386, rich...</td>\n",
       "    </tr>\n",
       "    <tr>\n",
       "      <th>3</th>\n",
       "      <td>188825</td>\n",
       "      <td>luke7335, gwenevere2845, gwenevere2845, amy438...</td>\n",
       "    </tr>\n",
       "    <tr>\n",
       "      <th>4</th>\n",
       "      <td>162051</td>\n",
       "      <td>sbpc5426, crilla, carol2285, alice4556, jeff31...</td>\n",
       "    </tr>\n",
       "  </tbody>\n",
       "</table>\n",
       "</div>"
      ],
      "text/plain": [
       "   LOAN_ID                                            LENDERS\n",
       "0   467550  bill3435, olek, krista5896, adam8481, krisztin...\n",
       "1   305206  andrew55406, sidledes, ronni1479, david5071, d...\n",
       "2   156996  erin4898, dustin5617, nfolkert, pete3386, rich...\n",
       "3   188825  luke7335, gwenevere2845, gwenevere2845, amy438...\n",
       "4   162051  sbpc5426, crilla, carol2285, alice4556, jeff31..."
      ]
     },
     "execution_count": 4,
     "metadata": {},
     "output_type": "execute_result"
    }
   ],
   "source": [
    "#head() function is used to get the first 5 rows\n",
    "df1.head()\n",
    "df2.head()\n",
    "df3.head()"
   ]
  },
  {
   "cell_type": "code",
   "execution_count": 5,
   "metadata": {},
   "outputs": [
    {
     "data": {
      "text/plain": [
       "(2185241, 34)"
      ]
     },
     "execution_count": 5,
     "metadata": {},
     "output_type": "execute_result"
    },
    {
     "data": {
      "text/plain": [
       "(1578001, 14)"
      ]
     },
     "execution_count": 5,
     "metadata": {},
     "output_type": "execute_result"
    },
    {
     "data": {
      "text/plain": [
       "(2129036, 2)"
      ]
     },
     "execution_count": 5,
     "metadata": {},
     "output_type": "execute_result"
    }
   ],
   "source": [
    "#shape tuple give the lengths of the corresponding array dimensions\n",
    "df1.shape\n",
    "df2.shape\n",
    "df3.shape"
   ]
  },
  {
   "cell_type": "code",
   "execution_count": 6,
   "metadata": {},
   "outputs": [
    {
     "data": {
      "text/plain": [
       "2"
      ]
     },
     "execution_count": 6,
     "metadata": {},
     "output_type": "execute_result"
    },
    {
     "data": {
      "text/plain": [
       "2"
      ]
     },
     "execution_count": 6,
     "metadata": {},
     "output_type": "execute_result"
    },
    {
     "data": {
      "text/plain": [
       "2"
      ]
     },
     "execution_count": 6,
     "metadata": {},
     "output_type": "execute_result"
    }
   ],
   "source": [
    "#ndim(obj) - Return the number of dimensions of an array\n",
    "df1.ndim\n",
    "df2.ndim\n",
    "df3.ndim"
   ]
  },
  {
   "cell_type": "code",
   "execution_count": 7,
   "metadata": {},
   "outputs": [
    {
     "name": "stdout",
     "output_type": "stream",
     "text": [
      "<class 'pandas.core.frame.DataFrame'>\n",
      "RangeIndex: 2185241 entries, 0 to 2185240\n",
      "Data columns (total 34 columns):\n",
      " #   Column                           Dtype  \n",
      "---  ------                           -----  \n",
      " 0   LOAN_ID                          int64  \n",
      " 1   LOAN_NAME                        object \n",
      " 2   ORIGINAL_LANGUAGE                object \n",
      " 3   DESCRIPTION                      object \n",
      " 4   DESCRIPTION_TRANSLATED           object \n",
      " 5   FUNDED_AMOUNT                    float64\n",
      " 6   LOAN_AMOUNT                      float64\n",
      " 7   STATUS                           object \n",
      " 8   IMAGE_ID                         float64\n",
      " 9   VIDEO_ID                         float64\n",
      " 10  ACTIVITY_NAME                    object \n",
      " 11  SECTOR_NAME                      object \n",
      " 12  LOAN_USE                         object \n",
      " 13  COUNTRY_CODE                     object \n",
      " 14  COUNTRY_NAME                     object \n",
      " 15  TOWN_NAME                        object \n",
      " 16  CURRENCY_POLICY                  object \n",
      " 17  CURRENCY_EXCHANGE_COVERAGE_RATE  float64\n",
      " 18  CURRENCY                         object \n",
      " 19  PARTNER_ID                       int64  \n",
      " 20  POSTED_TIME                      object \n",
      " 21  PLANNED_EXPIRATION_TIME          object \n",
      " 22  DISBURSE_TIME                    object \n",
      " 23  RAISED_TIME                      object \n",
      " 24  LENDER_TERM                      float64\n",
      " 25  NUM_LENDERS_TOTAL                int64  \n",
      " 26  NUM_JOURNAL_ENTRIES              int64  \n",
      " 27  NUM_BULK_ENTRIES                 int64  \n",
      " 28  TAGS                             object \n",
      " 29  BORROWER_NAMES                   object \n",
      " 30  BORROWER_GENDERS                 object \n",
      " 31  BORROWER_PICTURED                object \n",
      " 32  REPAYMENT_INTERVAL               object \n",
      " 33  DISTRIBUTION_MODEL               object \n",
      "dtypes: float64(6), int64(5), object(23)\n",
      "memory usage: 566.9+ MB\n",
      "<class 'pandas.core.frame.DataFrame'>\n",
      "RangeIndex: 1578001 entries, 0 to 1578000\n",
      "Data columns (total 14 columns):\n",
      " #   Column             Non-Null Count    Dtype  \n",
      "---  ------             --------------    -----  \n",
      " 0   PERMANENT_NAME     1578001 non-null  object \n",
      " 1   DISPLAY_NAME       1576397 non-null  object \n",
      " 2   MAIN_PIC_ID        517496 non-null   float64\n",
      " 3   CITY               545427 non-null   object \n",
      " 4   STATE              510145 non-null   object \n",
      " 5   COUNTRY_CODE       667827 non-null   object \n",
      " 6   MEMBER_SINCE       1578001 non-null  int64  \n",
      " 7   PERSONAL_URL       48898 non-null    object \n",
      " 8   OCCUPATION         337415 non-null   object \n",
      " 9   LOAN_BECAUSE       152708 non-null   object \n",
      " 10  OTHER_INFO         87991 non-null    object \n",
      " 11  LOAN_PURCHASE_NUM  1578001 non-null  int64  \n",
      " 12  INVITED_BY         416298 non-null   object \n",
      " 13  NUM_INVITED        1578001 non-null  int64  \n",
      "dtypes: float64(1), int64(3), object(10)\n",
      "memory usage: 168.5+ MB\n",
      "<class 'pandas.core.frame.DataFrame'>\n",
      "RangeIndex: 2129036 entries, 0 to 2129035\n",
      "Data columns (total 2 columns):\n",
      " #   Column   Dtype \n",
      "---  ------   ----- \n",
      " 0   LOAN_ID  int64 \n",
      " 1   LENDERS  object\n",
      "dtypes: int64(1), object(1)\n",
      "memory usage: 32.5+ MB\n"
     ]
    }
   ],
   "source": [
    "#info() function is used to print a concise summary of a DataFrame\n",
    "df1.info()\n",
    "df2.info()\n",
    "df3.info()"
   ]
  },
  {
   "cell_type": "code",
   "execution_count": 8,
   "metadata": {},
   "outputs": [
    {
     "data": {
      "text/html": [
       "<div>\n",
       "<style scoped>\n",
       "    .dataframe tbody tr th:only-of-type {\n",
       "        vertical-align: middle;\n",
       "    }\n",
       "\n",
       "    .dataframe tbody tr th {\n",
       "        vertical-align: top;\n",
       "    }\n",
       "\n",
       "    .dataframe thead th {\n",
       "        text-align: right;\n",
       "    }\n",
       "</style>\n",
       "<table border=\"1\" class=\"dataframe\">\n",
       "  <thead>\n",
       "    <tr style=\"text-align: right;\">\n",
       "      <th></th>\n",
       "      <th>LOAN_ID</th>\n",
       "      <th>FUNDED_AMOUNT</th>\n",
       "      <th>LOAN_AMOUNT</th>\n",
       "      <th>IMAGE_ID</th>\n",
       "      <th>VIDEO_ID</th>\n",
       "      <th>CURRENCY_EXCHANGE_COVERAGE_RATE</th>\n",
       "      <th>PARTNER_ID</th>\n",
       "      <th>LENDER_TERM</th>\n",
       "      <th>NUM_LENDERS_TOTAL</th>\n",
       "      <th>NUM_JOURNAL_ENTRIES</th>\n",
       "      <th>NUM_BULK_ENTRIES</th>\n",
       "    </tr>\n",
       "  </thead>\n",
       "  <tbody>\n",
       "    <tr>\n",
       "      <th>count</th>\n",
       "      <td>2.185241e+06</td>\n",
       "      <td>2.185241e+06</td>\n",
       "      <td>2.185241e+06</td>\n",
       "      <td>2.139203e+06</td>\n",
       "      <td>1220.000000</td>\n",
       "      <td>1.658276e+06</td>\n",
       "      <td>2.185241e+06</td>\n",
       "      <td>2.185217e+06</td>\n",
       "      <td>2.185241e+06</td>\n",
       "      <td>2.185241e+06</td>\n",
       "      <td>2.185241e+06</td>\n",
       "    </tr>\n",
       "    <tr>\n",
       "      <th>mean</th>\n",
       "      <td>1.113040e+06</td>\n",
       "      <td>7.719310e+02</td>\n",
       "      <td>8.125579e+02</td>\n",
       "      <td>2.217085e+06</td>\n",
       "      <td>3215.067213</td>\n",
       "      <td>1.036855e-01</td>\n",
       "      <td>1.691723e+02</td>\n",
       "      <td>1.310933e+01</td>\n",
       "      <td>2.131456e+01</td>\n",
       "      <td>1.524209e+00</td>\n",
       "      <td>1.142030e+00</td>\n",
       "    </tr>\n",
       "    <tr>\n",
       "      <th>std</th>\n",
       "      <td>6.417349e+05</td>\n",
       "      <td>1.597340e+03</td>\n",
       "      <td>1.679440e+03</td>\n",
       "      <td>1.135128e+06</td>\n",
       "      <td>1277.186347</td>\n",
       "      <td>4.225265e-02</td>\n",
       "      <td>1.107370e+02</td>\n",
       "      <td>7.225304e+00</td>\n",
       "      <td>4.353309e+01</td>\n",
       "      <td>1.069824e+00</td>\n",
       "      <td>5.131466e-01</td>\n",
       "    </tr>\n",
       "    <tr>\n",
       "      <th>min</th>\n",
       "      <td>8.400000e+01</td>\n",
       "      <td>0.000000e+00</td>\n",
       "      <td>2.500000e+01</td>\n",
       "      <td>2.410000e+02</td>\n",
       "      <td>7.000000</td>\n",
       "      <td>0.000000e+00</td>\n",
       "      <td>-1.000000e+00</td>\n",
       "      <td>1.000000e+00</td>\n",
       "      <td>0.000000e+00</td>\n",
       "      <td>1.000000e+00</td>\n",
       "      <td>1.000000e+00</td>\n",
       "    </tr>\n",
       "    <tr>\n",
       "      <th>25%</th>\n",
       "      <td>5.590370e+05</td>\n",
       "      <td>2.500000e+02</td>\n",
       "      <td>2.750000e+02</td>\n",
       "      <td>1.358885e+06</td>\n",
       "      <td>2616.750000</td>\n",
       "      <td>1.000000e-01</td>\n",
       "      <td>1.100000e+02</td>\n",
       "      <td>8.000000e+00</td>\n",
       "      <td>7.000000e+00</td>\n",
       "      <td>1.000000e+00</td>\n",
       "      <td>1.000000e+00</td>\n",
       "    </tr>\n",
       "    <tr>\n",
       "      <th>50%</th>\n",
       "      <td>1.110987e+06</td>\n",
       "      <td>4.750000e+02</td>\n",
       "      <td>5.000000e+02</td>\n",
       "      <td>2.260871e+06</td>\n",
       "      <td>3184.000000</td>\n",
       "      <td>1.000000e-01</td>\n",
       "      <td>1.450000e+02</td>\n",
       "      <td>1.300000e+01</td>\n",
       "      <td>1.300000e+01</td>\n",
       "      <td>1.000000e+00</td>\n",
       "      <td>1.000000e+00</td>\n",
       "    </tr>\n",
       "    <tr>\n",
       "      <th>75%</th>\n",
       "      <td>1.667649e+06</td>\n",
       "      <td>9.000000e+02</td>\n",
       "      <td>9.500000e+02</td>\n",
       "      <td>3.028385e+06</td>\n",
       "      <td>4255.750000</td>\n",
       "      <td>1.000000e-01</td>\n",
       "      <td>1.880000e+02</td>\n",
       "      <td>1.400000e+01</td>\n",
       "      <td>2.500000e+01</td>\n",
       "      <td>2.000000e+00</td>\n",
       "      <td>1.000000e+00</td>\n",
       "    </tr>\n",
       "    <tr>\n",
       "      <th>max</th>\n",
       "      <td>2.238835e+06</td>\n",
       "      <td>5.000000e+05</td>\n",
       "      <td>5.000000e+05</td>\n",
       "      <td>4.408684e+06</td>\n",
       "      <td>5420.000000</td>\n",
       "      <td>2.000000e-01</td>\n",
       "      <td>6.310000e+02</td>\n",
       "      <td>1.950000e+02</td>\n",
       "      <td>1.526200e+04</td>\n",
       "      <td>1.260000e+02</td>\n",
       "      <td>6.300000e+01</td>\n",
       "    </tr>\n",
       "  </tbody>\n",
       "</table>\n",
       "</div>"
      ],
      "text/plain": [
       "            LOAN_ID  FUNDED_AMOUNT   LOAN_AMOUNT      IMAGE_ID     VIDEO_ID  \\\n",
       "count  2.185241e+06   2.185241e+06  2.185241e+06  2.139203e+06  1220.000000   \n",
       "mean   1.113040e+06   7.719310e+02  8.125579e+02  2.217085e+06  3215.067213   \n",
       "std    6.417349e+05   1.597340e+03  1.679440e+03  1.135128e+06  1277.186347   \n",
       "min    8.400000e+01   0.000000e+00  2.500000e+01  2.410000e+02     7.000000   \n",
       "25%    5.590370e+05   2.500000e+02  2.750000e+02  1.358885e+06  2616.750000   \n",
       "50%    1.110987e+06   4.750000e+02  5.000000e+02  2.260871e+06  3184.000000   \n",
       "75%    1.667649e+06   9.000000e+02  9.500000e+02  3.028385e+06  4255.750000   \n",
       "max    2.238835e+06   5.000000e+05  5.000000e+05  4.408684e+06  5420.000000   \n",
       "\n",
       "       CURRENCY_EXCHANGE_COVERAGE_RATE    PARTNER_ID   LENDER_TERM  \\\n",
       "count                     1.658276e+06  2.185241e+06  2.185217e+06   \n",
       "mean                      1.036855e-01  1.691723e+02  1.310933e+01   \n",
       "std                       4.225265e-02  1.107370e+02  7.225304e+00   \n",
       "min                       0.000000e+00 -1.000000e+00  1.000000e+00   \n",
       "25%                       1.000000e-01  1.100000e+02  8.000000e+00   \n",
       "50%                       1.000000e-01  1.450000e+02  1.300000e+01   \n",
       "75%                       1.000000e-01  1.880000e+02  1.400000e+01   \n",
       "max                       2.000000e-01  6.310000e+02  1.950000e+02   \n",
       "\n",
       "       NUM_LENDERS_TOTAL  NUM_JOURNAL_ENTRIES  NUM_BULK_ENTRIES  \n",
       "count       2.185241e+06         2.185241e+06      2.185241e+06  \n",
       "mean        2.131456e+01         1.524209e+00      1.142030e+00  \n",
       "std         4.353309e+01         1.069824e+00      5.131466e-01  \n",
       "min         0.000000e+00         1.000000e+00      1.000000e+00  \n",
       "25%         7.000000e+00         1.000000e+00      1.000000e+00  \n",
       "50%         1.300000e+01         1.000000e+00      1.000000e+00  \n",
       "75%         2.500000e+01         2.000000e+00      1.000000e+00  \n",
       "max         1.526200e+04         1.260000e+02      6.300000e+01  "
      ]
     },
     "execution_count": 8,
     "metadata": {},
     "output_type": "execute_result"
    },
    {
     "data": {
      "text/html": [
       "<div>\n",
       "<style scoped>\n",
       "    .dataframe tbody tr th:only-of-type {\n",
       "        vertical-align: middle;\n",
       "    }\n",
       "\n",
       "    .dataframe tbody tr th {\n",
       "        vertical-align: top;\n",
       "    }\n",
       "\n",
       "    .dataframe thead th {\n",
       "        text-align: right;\n",
       "    }\n",
       "</style>\n",
       "<table border=\"1\" class=\"dataframe\">\n",
       "  <thead>\n",
       "    <tr style=\"text-align: right;\">\n",
       "      <th></th>\n",
       "      <th>MAIN_PIC_ID</th>\n",
       "      <th>MEMBER_SINCE</th>\n",
       "      <th>LOAN_PURCHASE_NUM</th>\n",
       "      <th>NUM_INVITED</th>\n",
       "    </tr>\n",
       "  </thead>\n",
       "  <tbody>\n",
       "    <tr>\n",
       "      <th>count</th>\n",
       "      <td>5.174960e+05</td>\n",
       "      <td>1.578001e+06</td>\n",
       "      <td>1.578001e+06</td>\n",
       "      <td>1.578001e+06</td>\n",
       "    </tr>\n",
       "    <tr>\n",
       "      <th>mean</th>\n",
       "      <td>1.224925e+06</td>\n",
       "      <td>1.371598e+09</td>\n",
       "      <td>2.179952e+01</td>\n",
       "      <td>2.928724e-01</td>\n",
       "    </tr>\n",
       "    <tr>\n",
       "      <th>std</th>\n",
       "      <td>8.673941e+05</td>\n",
       "      <td>1.203213e+08</td>\n",
       "      <td>2.852099e+02</td>\n",
       "      <td>2.029014e+01</td>\n",
       "    </tr>\n",
       "    <tr>\n",
       "      <th>min</th>\n",
       "      <td>1.554000e+03</td>\n",
       "      <td>1.136106e+09</td>\n",
       "      <td>1.000000e+00</td>\n",
       "      <td>0.000000e+00</td>\n",
       "    </tr>\n",
       "    <tr>\n",
       "      <th>25%</th>\n",
       "      <td>5.670462e+05</td>\n",
       "      <td>1.269665e+09</td>\n",
       "      <td>1.000000e+00</td>\n",
       "      <td>0.000000e+00</td>\n",
       "    </tr>\n",
       "    <tr>\n",
       "      <th>50%</th>\n",
       "      <td>1.055568e+06</td>\n",
       "      <td>1.367777e+09</td>\n",
       "      <td>3.000000e+00</td>\n",
       "      <td>0.000000e+00</td>\n",
       "    </tr>\n",
       "    <tr>\n",
       "      <th>75%</th>\n",
       "      <td>1.759924e+06</td>\n",
       "      <td>1.461770e+09</td>\n",
       "      <td>1.000000e+01</td>\n",
       "      <td>0.000000e+00</td>\n",
       "    </tr>\n",
       "    <tr>\n",
       "      <th>max</th>\n",
       "      <td>4.408516e+06</td>\n",
       "      <td>1.631083e+09</td>\n",
       "      <td>1.795090e+05</td>\n",
       "      <td>2.493200e+04</td>\n",
       "    </tr>\n",
       "  </tbody>\n",
       "</table>\n",
       "</div>"
      ],
      "text/plain": [
       "        MAIN_PIC_ID  MEMBER_SINCE  LOAN_PURCHASE_NUM   NUM_INVITED\n",
       "count  5.174960e+05  1.578001e+06       1.578001e+06  1.578001e+06\n",
       "mean   1.224925e+06  1.371598e+09       2.179952e+01  2.928724e-01\n",
       "std    8.673941e+05  1.203213e+08       2.852099e+02  2.029014e+01\n",
       "min    1.554000e+03  1.136106e+09       1.000000e+00  0.000000e+00\n",
       "25%    5.670462e+05  1.269665e+09       1.000000e+00  0.000000e+00\n",
       "50%    1.055568e+06  1.367777e+09       3.000000e+00  0.000000e+00\n",
       "75%    1.759924e+06  1.461770e+09       1.000000e+01  0.000000e+00\n",
       "max    4.408516e+06  1.631083e+09       1.795090e+05  2.493200e+04"
      ]
     },
     "execution_count": 8,
     "metadata": {},
     "output_type": "execute_result"
    },
    {
     "data": {
      "text/html": [
       "<div>\n",
       "<style scoped>\n",
       "    .dataframe tbody tr th:only-of-type {\n",
       "        vertical-align: middle;\n",
       "    }\n",
       "\n",
       "    .dataframe tbody tr th {\n",
       "        vertical-align: top;\n",
       "    }\n",
       "\n",
       "    .dataframe thead th {\n",
       "        text-align: right;\n",
       "    }\n",
       "</style>\n",
       "<table border=\"1\" class=\"dataframe\">\n",
       "  <thead>\n",
       "    <tr style=\"text-align: right;\">\n",
       "      <th></th>\n",
       "      <th>LOAN_ID</th>\n",
       "    </tr>\n",
       "  </thead>\n",
       "  <tbody>\n",
       "    <tr>\n",
       "      <th>count</th>\n",
       "      <td>2.129036e+06</td>\n",
       "    </tr>\n",
       "    <tr>\n",
       "      <th>mean</th>\n",
       "      <td>1.106094e+06</td>\n",
       "    </tr>\n",
       "    <tr>\n",
       "      <th>std</th>\n",
       "      <td>6.458360e+05</td>\n",
       "    </tr>\n",
       "    <tr>\n",
       "      <th>min</th>\n",
       "      <td>8.400000e+01</td>\n",
       "    </tr>\n",
       "    <tr>\n",
       "      <th>25%</th>\n",
       "      <td>5.463998e+05</td>\n",
       "    </tr>\n",
       "    <tr>\n",
       "      <th>50%</th>\n",
       "      <td>1.090858e+06</td>\n",
       "    </tr>\n",
       "    <tr>\n",
       "      <th>75%</th>\n",
       "      <td>1.674804e+06</td>\n",
       "    </tr>\n",
       "    <tr>\n",
       "      <th>max</th>\n",
       "      <td>2.238808e+06</td>\n",
       "    </tr>\n",
       "  </tbody>\n",
       "</table>\n",
       "</div>"
      ],
      "text/plain": [
       "            LOAN_ID\n",
       "count  2.129036e+06\n",
       "mean   1.106094e+06\n",
       "std    6.458360e+05\n",
       "min    8.400000e+01\n",
       "25%    5.463998e+05\n",
       "50%    1.090858e+06\n",
       "75%    1.674804e+06\n",
       "max    2.238808e+06"
      ]
     },
     "execution_count": 8,
     "metadata": {},
     "output_type": "execute_result"
    }
   ],
   "source": [
    "#describe() method computes and displays summary statistics for a Python dataframe\n",
    "df1.describe()\n",
    "df2.describe()\n",
    "df3.describe()"
   ]
  },
  {
   "cell_type": "markdown",
   "metadata": {},
   "source": [
    "3. Check for missing values of the loans dataframe. You can use sum() to find out the number of missing values."
   ]
  },
  {
   "cell_type": "code",
   "execution_count": 9,
   "metadata": {},
   "outputs": [
    {
     "data": {
      "text/plain": [
       "LOAN_ID                                  0\n",
       "LOAN_NAME                            50387\n",
       "ORIGINAL_LANGUAGE                    46038\n",
       "DESCRIPTION                          46267\n",
       "DESCRIPTION_TRANSLATED              455653\n",
       "FUNDED_AMOUNT                            0\n",
       "LOAN_AMOUNT                              0\n",
       "STATUS                                   0\n",
       "IMAGE_ID                             46038\n",
       "VIDEO_ID                           2184021\n",
       "ACTIVITY_NAME                            0\n",
       "SECTOR_NAME                              0\n",
       "LOAN_USE                             46061\n",
       "COUNTRY_CODE                            36\n",
       "COUNTRY_NAME                             0\n",
       "TOWN_NAME                           179002\n",
       "CURRENCY_POLICY                          0\n",
       "CURRENCY_EXCHANGE_COVERAGE_RATE     526965\n",
       "CURRENCY                                 0\n",
       "PARTNER_ID                               0\n",
       "POSTED_TIME                              0\n",
       "PLANNED_EXPIRATION_TIME             371834\n",
       "DISBURSE_TIME                         4276\n",
       "RAISED_TIME                         101920\n",
       "LENDER_TERM                             24\n",
       "NUM_LENDERS_TOTAL                        0\n",
       "NUM_JOURNAL_ENTRIES                      0\n",
       "NUM_BULK_ENTRIES                         0\n",
       "TAGS                                975398\n",
       "BORROWER_NAMES                       50387\n",
       "BORROWER_GENDERS                     46038\n",
       "BORROWER_PICTURED                    46038\n",
       "REPAYMENT_INTERVAL                       0\n",
       "DISTRIBUTION_MODEL                       0\n",
       "dtype: int64"
      ]
     },
     "execution_count": 9,
     "metadata": {},
     "output_type": "execute_result"
    }
   ],
   "source": [
    "#Number of missing values in every column\n",
    "nullValues=df1.isnull().sum()\n",
    "nullValues"
   ]
  },
  {
   "cell_type": "code",
   "execution_count": 10,
   "metadata": {},
   "outputs": [
    {
     "data": {
      "text/html": [
       "<div>\n",
       "<style scoped>\n",
       "    .dataframe tbody tr th:only-of-type {\n",
       "        vertical-align: middle;\n",
       "    }\n",
       "\n",
       "    .dataframe tbody tr th {\n",
       "        vertical-align: top;\n",
       "    }\n",
       "\n",
       "    .dataframe thead th {\n",
       "        text-align: right;\n",
       "    }\n",
       "</style>\n",
       "<table border=\"1\" class=\"dataframe\">\n",
       "  <thead>\n",
       "    <tr style=\"text-align: right;\">\n",
       "      <th></th>\n",
       "      <th>LOAN_ID</th>\n",
       "      <th>LOAN_NAME</th>\n",
       "      <th>ORIGINAL_LANGUAGE</th>\n",
       "      <th>DESCRIPTION</th>\n",
       "      <th>DESCRIPTION_TRANSLATED</th>\n",
       "      <th>FUNDED_AMOUNT</th>\n",
       "      <th>LOAN_AMOUNT</th>\n",
       "      <th>STATUS</th>\n",
       "      <th>IMAGE_ID</th>\n",
       "      <th>VIDEO_ID</th>\n",
       "      <th>...</th>\n",
       "      <th>LENDER_TERM</th>\n",
       "      <th>NUM_LENDERS_TOTAL</th>\n",
       "      <th>NUM_JOURNAL_ENTRIES</th>\n",
       "      <th>NUM_BULK_ENTRIES</th>\n",
       "      <th>TAGS</th>\n",
       "      <th>BORROWER_NAMES</th>\n",
       "      <th>BORROWER_GENDERS</th>\n",
       "      <th>BORROWER_PICTURED</th>\n",
       "      <th>REPAYMENT_INTERVAL</th>\n",
       "      <th>DISTRIBUTION_MODEL</th>\n",
       "    </tr>\n",
       "  </thead>\n",
       "  <tbody>\n",
       "    <tr>\n",
       "      <th>0</th>\n",
       "      <td>False</td>\n",
       "      <td>False</td>\n",
       "      <td>False</td>\n",
       "      <td>False</td>\n",
       "      <td>False</td>\n",
       "      <td>False</td>\n",
       "      <td>False</td>\n",
       "      <td>False</td>\n",
       "      <td>False</td>\n",
       "      <td>True</td>\n",
       "      <td>...</td>\n",
       "      <td>False</td>\n",
       "      <td>False</td>\n",
       "      <td>False</td>\n",
       "      <td>False</td>\n",
       "      <td>False</td>\n",
       "      <td>False</td>\n",
       "      <td>False</td>\n",
       "      <td>False</td>\n",
       "      <td>False</td>\n",
       "      <td>False</td>\n",
       "    </tr>\n",
       "    <tr>\n",
       "      <th>1</th>\n",
       "      <td>False</td>\n",
       "      <td>False</td>\n",
       "      <td>False</td>\n",
       "      <td>False</td>\n",
       "      <td>True</td>\n",
       "      <td>False</td>\n",
       "      <td>False</td>\n",
       "      <td>False</td>\n",
       "      <td>False</td>\n",
       "      <td>True</td>\n",
       "      <td>...</td>\n",
       "      <td>False</td>\n",
       "      <td>False</td>\n",
       "      <td>False</td>\n",
       "      <td>False</td>\n",
       "      <td>True</td>\n",
       "      <td>False</td>\n",
       "      <td>False</td>\n",
       "      <td>False</td>\n",
       "      <td>False</td>\n",
       "      <td>False</td>\n",
       "    </tr>\n",
       "    <tr>\n",
       "      <th>2</th>\n",
       "      <td>False</td>\n",
       "      <td>False</td>\n",
       "      <td>False</td>\n",
       "      <td>False</td>\n",
       "      <td>True</td>\n",
       "      <td>False</td>\n",
       "      <td>False</td>\n",
       "      <td>False</td>\n",
       "      <td>False</td>\n",
       "      <td>True</td>\n",
       "      <td>...</td>\n",
       "      <td>False</td>\n",
       "      <td>False</td>\n",
       "      <td>False</td>\n",
       "      <td>False</td>\n",
       "      <td>True</td>\n",
       "      <td>False</td>\n",
       "      <td>False</td>\n",
       "      <td>False</td>\n",
       "      <td>False</td>\n",
       "      <td>False</td>\n",
       "    </tr>\n",
       "    <tr>\n",
       "      <th>3</th>\n",
       "      <td>False</td>\n",
       "      <td>False</td>\n",
       "      <td>False</td>\n",
       "      <td>False</td>\n",
       "      <td>False</td>\n",
       "      <td>False</td>\n",
       "      <td>False</td>\n",
       "      <td>False</td>\n",
       "      <td>False</td>\n",
       "      <td>True</td>\n",
       "      <td>...</td>\n",
       "      <td>False</td>\n",
       "      <td>False</td>\n",
       "      <td>False</td>\n",
       "      <td>False</td>\n",
       "      <td>False</td>\n",
       "      <td>False</td>\n",
       "      <td>False</td>\n",
       "      <td>False</td>\n",
       "      <td>False</td>\n",
       "      <td>False</td>\n",
       "    </tr>\n",
       "    <tr>\n",
       "      <th>4</th>\n",
       "      <td>False</td>\n",
       "      <td>False</td>\n",
       "      <td>False</td>\n",
       "      <td>False</td>\n",
       "      <td>False</td>\n",
       "      <td>False</td>\n",
       "      <td>False</td>\n",
       "      <td>False</td>\n",
       "      <td>False</td>\n",
       "      <td>True</td>\n",
       "      <td>...</td>\n",
       "      <td>False</td>\n",
       "      <td>False</td>\n",
       "      <td>False</td>\n",
       "      <td>False</td>\n",
       "      <td>True</td>\n",
       "      <td>False</td>\n",
       "      <td>False</td>\n",
       "      <td>False</td>\n",
       "      <td>False</td>\n",
       "      <td>False</td>\n",
       "    </tr>\n",
       "    <tr>\n",
       "      <th>...</th>\n",
       "      <td>...</td>\n",
       "      <td>...</td>\n",
       "      <td>...</td>\n",
       "      <td>...</td>\n",
       "      <td>...</td>\n",
       "      <td>...</td>\n",
       "      <td>...</td>\n",
       "      <td>...</td>\n",
       "      <td>...</td>\n",
       "      <td>...</td>\n",
       "      <td>...</td>\n",
       "      <td>...</td>\n",
       "      <td>...</td>\n",
       "      <td>...</td>\n",
       "      <td>...</td>\n",
       "      <td>...</td>\n",
       "      <td>...</td>\n",
       "      <td>...</td>\n",
       "      <td>...</td>\n",
       "      <td>...</td>\n",
       "      <td>...</td>\n",
       "    </tr>\n",
       "    <tr>\n",
       "      <th>2185236</th>\n",
       "      <td>False</td>\n",
       "      <td>False</td>\n",
       "      <td>False</td>\n",
       "      <td>False</td>\n",
       "      <td>False</td>\n",
       "      <td>False</td>\n",
       "      <td>False</td>\n",
       "      <td>False</td>\n",
       "      <td>False</td>\n",
       "      <td>True</td>\n",
       "      <td>...</td>\n",
       "      <td>False</td>\n",
       "      <td>False</td>\n",
       "      <td>False</td>\n",
       "      <td>False</td>\n",
       "      <td>False</td>\n",
       "      <td>False</td>\n",
       "      <td>False</td>\n",
       "      <td>False</td>\n",
       "      <td>False</td>\n",
       "      <td>False</td>\n",
       "    </tr>\n",
       "    <tr>\n",
       "      <th>2185237</th>\n",
       "      <td>False</td>\n",
       "      <td>False</td>\n",
       "      <td>False</td>\n",
       "      <td>True</td>\n",
       "      <td>True</td>\n",
       "      <td>False</td>\n",
       "      <td>False</td>\n",
       "      <td>False</td>\n",
       "      <td>False</td>\n",
       "      <td>True</td>\n",
       "      <td>...</td>\n",
       "      <td>False</td>\n",
       "      <td>False</td>\n",
       "      <td>False</td>\n",
       "      <td>False</td>\n",
       "      <td>True</td>\n",
       "      <td>False</td>\n",
       "      <td>False</td>\n",
       "      <td>False</td>\n",
       "      <td>False</td>\n",
       "      <td>False</td>\n",
       "    </tr>\n",
       "    <tr>\n",
       "      <th>2185238</th>\n",
       "      <td>False</td>\n",
       "      <td>False</td>\n",
       "      <td>False</td>\n",
       "      <td>False</td>\n",
       "      <td>True</td>\n",
       "      <td>False</td>\n",
       "      <td>False</td>\n",
       "      <td>False</td>\n",
       "      <td>False</td>\n",
       "      <td>True</td>\n",
       "      <td>...</td>\n",
       "      <td>False</td>\n",
       "      <td>False</td>\n",
       "      <td>False</td>\n",
       "      <td>False</td>\n",
       "      <td>False</td>\n",
       "      <td>False</td>\n",
       "      <td>False</td>\n",
       "      <td>False</td>\n",
       "      <td>False</td>\n",
       "      <td>False</td>\n",
       "    </tr>\n",
       "    <tr>\n",
       "      <th>2185239</th>\n",
       "      <td>False</td>\n",
       "      <td>False</td>\n",
       "      <td>False</td>\n",
       "      <td>False</td>\n",
       "      <td>False</td>\n",
       "      <td>False</td>\n",
       "      <td>False</td>\n",
       "      <td>False</td>\n",
       "      <td>False</td>\n",
       "      <td>True</td>\n",
       "      <td>...</td>\n",
       "      <td>False</td>\n",
       "      <td>False</td>\n",
       "      <td>False</td>\n",
       "      <td>False</td>\n",
       "      <td>False</td>\n",
       "      <td>False</td>\n",
       "      <td>False</td>\n",
       "      <td>False</td>\n",
       "      <td>False</td>\n",
       "      <td>False</td>\n",
       "    </tr>\n",
       "    <tr>\n",
       "      <th>2185240</th>\n",
       "      <td>False</td>\n",
       "      <td>False</td>\n",
       "      <td>False</td>\n",
       "      <td>False</td>\n",
       "      <td>False</td>\n",
       "      <td>False</td>\n",
       "      <td>False</td>\n",
       "      <td>False</td>\n",
       "      <td>False</td>\n",
       "      <td>True</td>\n",
       "      <td>...</td>\n",
       "      <td>False</td>\n",
       "      <td>False</td>\n",
       "      <td>False</td>\n",
       "      <td>False</td>\n",
       "      <td>False</td>\n",
       "      <td>False</td>\n",
       "      <td>False</td>\n",
       "      <td>False</td>\n",
       "      <td>False</td>\n",
       "      <td>False</td>\n",
       "    </tr>\n",
       "  </tbody>\n",
       "</table>\n",
       "<p>2185241 rows × 34 columns</p>\n",
       "</div>"
      ],
      "text/plain": [
       "         LOAN_ID  LOAN_NAME  ORIGINAL_LANGUAGE  DESCRIPTION  \\\n",
       "0          False      False              False        False   \n",
       "1          False      False              False        False   \n",
       "2          False      False              False        False   \n",
       "3          False      False              False        False   \n",
       "4          False      False              False        False   \n",
       "...          ...        ...                ...          ...   \n",
       "2185236    False      False              False        False   \n",
       "2185237    False      False              False         True   \n",
       "2185238    False      False              False        False   \n",
       "2185239    False      False              False        False   \n",
       "2185240    False      False              False        False   \n",
       "\n",
       "         DESCRIPTION_TRANSLATED  FUNDED_AMOUNT  LOAN_AMOUNT  STATUS  IMAGE_ID  \\\n",
       "0                         False          False        False   False     False   \n",
       "1                          True          False        False   False     False   \n",
       "2                          True          False        False   False     False   \n",
       "3                         False          False        False   False     False   \n",
       "4                         False          False        False   False     False   \n",
       "...                         ...            ...          ...     ...       ...   \n",
       "2185236                   False          False        False   False     False   \n",
       "2185237                    True          False        False   False     False   \n",
       "2185238                    True          False        False   False     False   \n",
       "2185239                   False          False        False   False     False   \n",
       "2185240                   False          False        False   False     False   \n",
       "\n",
       "         VIDEO_ID  ...  LENDER_TERM  NUM_LENDERS_TOTAL  NUM_JOURNAL_ENTRIES  \\\n",
       "0            True  ...        False              False                False   \n",
       "1            True  ...        False              False                False   \n",
       "2            True  ...        False              False                False   \n",
       "3            True  ...        False              False                False   \n",
       "4            True  ...        False              False                False   \n",
       "...           ...  ...          ...                ...                  ...   \n",
       "2185236      True  ...        False              False                False   \n",
       "2185237      True  ...        False              False                False   \n",
       "2185238      True  ...        False              False                False   \n",
       "2185239      True  ...        False              False                False   \n",
       "2185240      True  ...        False              False                False   \n",
       "\n",
       "         NUM_BULK_ENTRIES   TAGS  BORROWER_NAMES  BORROWER_GENDERS  \\\n",
       "0                   False  False           False             False   \n",
       "1                   False   True           False             False   \n",
       "2                   False   True           False             False   \n",
       "3                   False  False           False             False   \n",
       "4                   False   True           False             False   \n",
       "...                   ...    ...             ...               ...   \n",
       "2185236             False  False           False             False   \n",
       "2185237             False   True           False             False   \n",
       "2185238             False  False           False             False   \n",
       "2185239             False  False           False             False   \n",
       "2185240             False  False           False             False   \n",
       "\n",
       "         BORROWER_PICTURED  REPAYMENT_INTERVAL  DISTRIBUTION_MODEL  \n",
       "0                    False               False               False  \n",
       "1                    False               False               False  \n",
       "2                    False               False               False  \n",
       "3                    False               False               False  \n",
       "4                    False               False               False  \n",
       "...                    ...                 ...                 ...  \n",
       "2185236              False               False               False  \n",
       "2185237              False               False               False  \n",
       "2185238              False               False               False  \n",
       "2185239              False               False               False  \n",
       "2185240              False               False               False  \n",
       "\n",
       "[2185241 rows x 34 columns]"
      ]
     },
     "execution_count": 10,
     "metadata": {},
     "output_type": "execute_result"
    }
   ],
   "source": [
    "df1.isnull()"
   ]
  },
  {
   "cell_type": "code",
   "execution_count": 11,
   "metadata": {},
   "outputs": [
    {
     "data": {
      "text/plain": [
       "5176383"
      ]
     },
     "execution_count": 11,
     "metadata": {},
     "output_type": "execute_result"
    }
   ],
   "source": [
    "#Number of missing values in the entire dataframe\n",
    "df1.isnull().sum().sum()"
   ]
  },
  {
   "cell_type": "markdown",
   "metadata": {},
   "source": [
    "4. First, we check the dependent variable 'STATUS' in the loans dataframe. How many unique values?"
   ]
  },
  {
   "cell_type": "code",
   "execution_count": 12,
   "metadata": {},
   "outputs": [
    {
     "data": {
      "text/plain": [
       "array(['funded', 'expired', 'fundRaising', 'refunded'], dtype=object)"
      ]
     },
     "execution_count": 12,
     "metadata": {},
     "output_type": "execute_result"
    }
   ],
   "source": [
    "#Method-1 4 Unique values in loans dataframe\n",
    "uniqueValues=df1.STATUS.unique()\n",
    "uniqueValues"
   ]
  },
  {
   "cell_type": "code",
   "execution_count": 13,
   "metadata": {},
   "outputs": [
    {
     "data": {
      "text/plain": [
       "['funded', 'expired', 'fundRaising', 'refunded']"
      ]
     },
     "execution_count": 13,
     "metadata": {},
     "output_type": "execute_result"
    }
   ],
   "source": [
    "#Method 2\n",
    "list(df1['STATUS'].unique())"
   ]
  },
  {
   "cell_type": "markdown",
   "metadata": {},
   "source": [
    "5. How many observations for each category of 'STATUS'? (Which function we have learned can do that?)"
   ]
  },
  {
   "cell_type": "code",
   "execution_count": 14,
   "metadata": {},
   "outputs": [
    {
     "data": {
      "text/plain": [
       "STATUS\n",
       "expired          93419\n",
       "fundRaising       5717\n",
       "funded         2076778\n",
       "refunded          9327\n",
       "Name: STATUS, dtype: int64"
      ]
     },
     "execution_count": 14,
     "metadata": {},
     "output_type": "execute_result"
    }
   ],
   "source": [
    "#Grouping can find the count of each category\n",
    "Grouping=df1.groupby('STATUS')['STATUS'].count()\n",
    "Grouping"
   ]
  },
  {
   "cell_type": "code",
   "execution_count": 15,
   "metadata": {},
   "outputs": [
    {
     "name": "stdout",
     "output_type": "stream",
     "text": [
      "funded         2076778\n",
      "expired          93419\n",
      "refunded          9327\n",
      "fundRaising       5717\n",
      "Name: STATUS, dtype: int64\n"
     ]
    }
   ],
   "source": [
    "#value_ counts can find the count of each category\n",
    "print(df1['STATUS'].value_counts())"
   ]
  },
  {
   "cell_type": "markdown",
   "metadata": {},
   "source": [
    "6. Our purpose is to build a model that predicts whether a loan can get funded based on loan features. So, which suggests the loan is funded? Which not? Which should we ignore?<br>\n",
    "1) Delete the records with the category we can ignore.<br>\n",
    "2) Recode the three categories to two categories (funded, notfunded)<br>\n",
    "The recoded variable will be our target variable."
   ]
  },
  {
   "cell_type": "code",
   "execution_count": 16,
   "metadata": {},
   "outputs": [],
   "source": [
    "#If the loan is not funded in full within the fundraising period, the loan will expire and any funds raised will be returned to lenders' Kiva accounts\n",
    "df1['STATUS'] = df1['STATUS'].replace(['expired'],'notfunded')"
   ]
  },
  {
   "cell_type": "code",
   "execution_count": 17,
   "metadata": {},
   "outputs": [],
   "source": [
    "#If the loan is refunded it comes into funding category\n",
    "df1['STATUS'] = df1['STATUS'].replace(['refunded'],'funded')"
   ]
  },
  {
   "cell_type": "code",
   "execution_count": 18,
   "metadata": {},
   "outputs": [],
   "source": [
    "#deleting records corresponding to specific category\n",
    "sample= df1[df1['STATUS'] != 'fundRaising']"
   ]
  },
  {
   "cell_type": "code",
   "execution_count": 19,
   "metadata": {},
   "outputs": [
    {
     "name": "stdout",
     "output_type": "stream",
     "text": [
      "funded       2086105\n",
      "notfunded      93419\n",
      "Name: STATUS, dtype: int64\n"
     ]
    }
   ],
   "source": [
    "print(sample['STATUS'].value_counts())"
   ]
  },
  {
   "cell_type": "markdown",
   "metadata": {},
   "source": [
    "7. Examine the variable 'LOAN_AMOUNT'. <br>\n",
    "1) Check the distribution. What is the value of outliers if we use 3*IQR to define? <br>\n",
    "2) Remove the outliers. <br>\n",
    "3) Create a new variable by taking log of this variable."
   ]
  },
  {
   "cell_type": "code",
   "execution_count": 20,
   "metadata": {},
   "outputs": [
    {
     "data": {
      "text/plain": [
       "0           300.0\n",
       "1           300.0\n",
       "2           475.0\n",
       "3           500.0\n",
       "4           925.0\n",
       "            ...  \n",
       "2185236     600.0\n",
       "2185237    5000.0\n",
       "2185238     250.0\n",
       "2185239     300.0\n",
       "2185240     450.0\n",
       "Name: LOAN_AMOUNT, Length: 2179524, dtype: float64"
      ]
     },
     "execution_count": 20,
     "metadata": {},
     "output_type": "execute_result"
    }
   ],
   "source": [
    "sample['LOAN_AMOUNT']"
   ]
  },
  {
   "cell_type": "code",
   "execution_count": 21,
   "metadata": {},
   "outputs": [
    {
     "data": {
      "text/plain": [
       "(array([2.00001763e-05, 5.12554909e-10, 6.40693637e-11, 1.46444260e-10,\n",
       "        9.15276624e-12, 0.00000000e+00, 0.00000000e+00, 9.15276624e-12,\n",
       "        2.74582987e-11, 5.49165974e-11]),\n",
       " array([2.500000e+01, 5.002250e+04, 1.000200e+05, 1.500175e+05,\n",
       "        2.000150e+05, 2.500125e+05, 3.000100e+05, 3.500075e+05,\n",
       "        4.000050e+05, 4.500025e+05, 5.000000e+05]),\n",
       " <BarContainer object of 10 artists>)"
      ]
     },
     "execution_count": 21,
     "metadata": {},
     "output_type": "execute_result"
    },
    {
     "data": {
      "image/png": "[encoded data removed]",
      "text/plain": [
       "<Figure size 432x288 with 1 Axes>"
      ]
     },
     "metadata": {
      "needs_background": "light"
     },
     "output_type": "display_data"
    }
   ],
   "source": [
    "import matplotlib.pyplot as plt\n",
    "%matplotlib inline\n",
    "plt.hist(df1['LOAN_AMOUNT'], density=True, bins=10)"
   ]
  },
  {
   "cell_type": "code",
   "execution_count": 22,
   "metadata": {},
   "outputs": [
    {
     "data": {
      "text/plain": [
       "<Figure size 432x288 with 0 Axes>"
      ]
     },
     "execution_count": 22,
     "metadata": {},
     "output_type": "execute_result"
    },
    {
     "data": {
      "text/plain": [
       "<AxesSubplot:>"
      ]
     },
     "execution_count": 22,
     "metadata": {},
     "output_type": "execute_result"
    },
    {
     "data": {
      "image/png": "[encoded data removed]",
      "text/plain": [
       "<Figure size 432x288 with 1 Axes>"
      ]
     },
     "metadata": {
      "needs_background": "light"
     },
     "output_type": "display_data"
    }
   ],
   "source": [
    "# Check the distribution. What is the value of outliers if we use 3*IQR to define?\n",
    "import matplotlib.pyplot as plt\n",
    "\n",
    "for column in sample:\n",
    "    plt.figure()\n",
    "    sample.boxplot(['LOAN_AMOUNT'])\n",
    "    break"
   ]
  },
  {
   "cell_type": "code",
   "execution_count": 23,
   "metadata": {},
   "outputs": [],
   "source": [
    "#Q1 is defined as 25% Quartile\n",
    "#Q3 is defined as 75% Quartile\n",
    "import numpy as np\n",
    "q1, q3= np.percentile(sample['LOAN_AMOUNT'],[25,75])"
   ]
  },
  {
   "cell_type": "code",
   "execution_count": 24,
   "metadata": {},
   "outputs": [
    {
     "name": "stdout",
     "output_type": "stream",
     "text": [
      "275.0 950.0\n"
     ]
    }
   ],
   "source": [
    "print(q1,q3)"
   ]
  },
  {
   "cell_type": "code",
   "execution_count": 25,
   "metadata": {},
   "outputs": [
    {
     "data": {
      "text/plain": [
       "675.0"
      ]
     },
     "execution_count": 25,
     "metadata": {},
     "output_type": "execute_result"
    }
   ],
   "source": [
    "#calculaing interquartile range\n",
    "interquartile=q3-q1\n",
    "interquartile"
   ]
  },
  {
   "cell_type": "code",
   "execution_count": 26,
   "metadata": {},
   "outputs": [
    {
     "name": "stdout",
     "output_type": "stream",
     "text": [
      "-1750.0\n",
      "2975.0\n"
     ]
    }
   ],
   "source": [
    "#To find outliers\n",
    "lBound = q1 -(3 * interquartile) \n",
    "uBound = q3 +(3 * interquartile) \n",
    "print(lBound)\n",
    "print(uBound)"
   ]
  },
  {
   "cell_type": "code",
   "execution_count": 27,
   "metadata": {},
   "outputs": [],
   "source": [
    "# Making a deep copy to make the changes. If we are making any changes it will change the original data frame\n",
    "import copy\n",
    "sample1=copy.deepcopy(sample)"
   ]
  },
  {
   "cell_type": "code",
   "execution_count": 28,
   "metadata": {},
   "outputs": [
    {
     "data": {
      "text/html": [
       "<div>\n",
       "<style scoped>\n",
       "    .dataframe tbody tr th:only-of-type {\n",
       "        vertical-align: middle;\n",
       "    }\n",
       "\n",
       "    .dataframe tbody tr th {\n",
       "        vertical-align: top;\n",
       "    }\n",
       "\n",
       "    .dataframe thead th {\n",
       "        text-align: right;\n",
       "    }\n",
       "</style>\n",
       "<table border=\"1\" class=\"dataframe\">\n",
       "  <thead>\n",
       "    <tr style=\"text-align: right;\">\n",
       "      <th></th>\n",
       "      <th>LOAN_ID</th>\n",
       "      <th>LOAN_NAME</th>\n",
       "      <th>ORIGINAL_LANGUAGE</th>\n",
       "      <th>DESCRIPTION</th>\n",
       "      <th>DESCRIPTION_TRANSLATED</th>\n",
       "      <th>FUNDED_AMOUNT</th>\n",
       "      <th>LOAN_AMOUNT</th>\n",
       "      <th>STATUS</th>\n",
       "      <th>IMAGE_ID</th>\n",
       "      <th>VIDEO_ID</th>\n",
       "      <th>...</th>\n",
       "      <th>LENDER_TERM</th>\n",
       "      <th>NUM_LENDERS_TOTAL</th>\n",
       "      <th>NUM_JOURNAL_ENTRIES</th>\n",
       "      <th>NUM_BULK_ENTRIES</th>\n",
       "      <th>TAGS</th>\n",
       "      <th>BORROWER_NAMES</th>\n",
       "      <th>BORROWER_GENDERS</th>\n",
       "      <th>BORROWER_PICTURED</th>\n",
       "      <th>REPAYMENT_INTERVAL</th>\n",
       "      <th>DISTRIBUTION_MODEL</th>\n",
       "    </tr>\n",
       "  </thead>\n",
       "  <tbody>\n",
       "    <tr>\n",
       "      <th>0</th>\n",
       "      <td>1057058</td>\n",
       "      <td>\\tLucy</td>\n",
       "      <td>English</td>\n",
       "      <td>Lucy is a married woman and has been blessed w...</td>\n",
       "      <td>Lucy is a married woman and has been blessed w...</td>\n",
       "      <td>300.0</td>\n",
       "      <td>300.0</td>\n",
       "      <td>funded</td>\n",
       "      <td>2157387.0</td>\n",
       "      <td>NaN</td>\n",
       "      <td>...</td>\n",
       "      <td>14.0</td>\n",
       "      <td>11</td>\n",
       "      <td>1</td>\n",
       "      <td>1</td>\n",
       "      <td>#Fabrics, #Parent, #Woman-Owned Business, #Sch...</td>\n",
       "      <td>\\tLucy</td>\n",
       "      <td>female</td>\n",
       "      <td>true</td>\n",
       "      <td>monthly</td>\n",
       "      <td>field_partner</td>\n",
       "    </tr>\n",
       "    <tr>\n",
       "      <th>1</th>\n",
       "      <td>509472</td>\n",
       "      <td>Madosho</td>\n",
       "      <td>English</td>\n",
       "      <td>Madosho is a very responsible man who values h...</td>\n",
       "      <td>NaN</td>\n",
       "      <td>300.0</td>\n",
       "      <td>300.0</td>\n",
       "      <td>funded</td>\n",
       "      <td>942435.0</td>\n",
       "      <td>NaN</td>\n",
       "      <td>...</td>\n",
       "      <td>14.0</td>\n",
       "      <td>6</td>\n",
       "      <td>3</td>\n",
       "      <td>2</td>\n",
       "      <td>NaN</td>\n",
       "      <td>Madosho</td>\n",
       "      <td>male</td>\n",
       "      <td>true</td>\n",
       "      <td>monthly</td>\n",
       "      <td>field_partner</td>\n",
       "    </tr>\n",
       "    <tr>\n",
       "      <th>2</th>\n",
       "      <td>344324</td>\n",
       "      <td>Marcelina</td>\n",
       "      <td>English</td>\n",
       "      <td>Marcelina is married with 2 child. She is a ve...</td>\n",
       "      <td>NaN</td>\n",
       "      <td>475.0</td>\n",
       "      <td>475.0</td>\n",
       "      <td>funded</td>\n",
       "      <td>886916.0</td>\n",
       "      <td>NaN</td>\n",
       "      <td>...</td>\n",
       "      <td>13.0</td>\n",
       "      <td>13</td>\n",
       "      <td>2</td>\n",
       "      <td>1</td>\n",
       "      <td>NaN</td>\n",
       "      <td>Marcelina</td>\n",
       "      <td>female</td>\n",
       "      <td>true</td>\n",
       "      <td>monthly</td>\n",
       "      <td>field_partner</td>\n",
       "    </tr>\n",
       "    <tr>\n",
       "      <th>3</th>\n",
       "      <td>768521</td>\n",
       "      <td>Fadzisai</td>\n",
       "      <td>English</td>\n",
       "      <td>Fadzisai is a 30-year-old businesswoman from t...</td>\n",
       "      <td>Fadzisai is a 30-year-old businesswoman from t...</td>\n",
       "      <td>500.0</td>\n",
       "      <td>500.0</td>\n",
       "      <td>funded</td>\n",
       "      <td>1692199.0</td>\n",
       "      <td>NaN</td>\n",
       "      <td>...</td>\n",
       "      <td>8.0</td>\n",
       "      <td>20</td>\n",
       "      <td>2</td>\n",
       "      <td>1</td>\n",
       "      <td>user_favorite</td>\n",
       "      <td>Fadzisai</td>\n",
       "      <td>female</td>\n",
       "      <td>true</td>\n",
       "      <td>monthly</td>\n",
       "      <td>field_partner</td>\n",
       "    </tr>\n",
       "    <tr>\n",
       "      <th>4</th>\n",
       "      <td>90984</td>\n",
       "      <td>Luisa</td>\n",
       "      <td>Spanish</td>\n",
       "      <td>Luisa tiene 49 años, vive con su esposo en su ...</td>\n",
       "      <td>Luisa is 49 years old and lives with her husba...</td>\n",
       "      <td>925.0</td>\n",
       "      <td>925.0</td>\n",
       "      <td>funded</td>\n",
       "      <td>276468.0</td>\n",
       "      <td>NaN</td>\n",
       "      <td>...</td>\n",
       "      <td>11.0</td>\n",
       "      <td>29</td>\n",
       "      <td>4</td>\n",
       "      <td>2</td>\n",
       "      <td>NaN</td>\n",
       "      <td>Luisa</td>\n",
       "      <td>female</td>\n",
       "      <td>true</td>\n",
       "      <td>bullet</td>\n",
       "      <td>field_partner</td>\n",
       "    </tr>\n",
       "  </tbody>\n",
       "</table>\n",
       "<p>5 rows × 34 columns</p>\n",
       "</div>"
      ],
      "text/plain": [
       "   LOAN_ID  LOAN_NAME ORIGINAL_LANGUAGE  \\\n",
       "0  1057058     \\tLucy           English   \n",
       "1   509472    Madosho           English   \n",
       "2   344324  Marcelina           English   \n",
       "3   768521   Fadzisai           English   \n",
       "4    90984      Luisa           Spanish   \n",
       "\n",
       "                                         DESCRIPTION  \\\n",
       "0  Lucy is a married woman and has been blessed w...   \n",
       "1  Madosho is a very responsible man who values h...   \n",
       "2  Marcelina is married with 2 child. She is a ve...   \n",
       "3  Fadzisai is a 30-year-old businesswoman from t...   \n",
       "4  Luisa tiene 49 años, vive con su esposo en su ...   \n",
       "\n",
       "                              DESCRIPTION_TRANSLATED  FUNDED_AMOUNT  \\\n",
       "0  Lucy is a married woman and has been blessed w...          300.0   \n",
       "1                                                NaN          300.0   \n",
       "2                                                NaN          475.0   \n",
       "3  Fadzisai is a 30-year-old businesswoman from t...          500.0   \n",
       "4  Luisa is 49 years old and lives with her husba...          925.0   \n",
       "\n",
       "   LOAN_AMOUNT  STATUS   IMAGE_ID  VIDEO_ID  ... LENDER_TERM  \\\n",
       "0        300.0  funded  2157387.0       NaN  ...        14.0   \n",
       "1        300.0  funded   942435.0       NaN  ...        14.0   \n",
       "2        475.0  funded   886916.0       NaN  ...        13.0   \n",
       "3        500.0  funded  1692199.0       NaN  ...         8.0   \n",
       "4        925.0  funded   276468.0       NaN  ...        11.0   \n",
       "\n",
       "  NUM_LENDERS_TOTAL NUM_JOURNAL_ENTRIES NUM_BULK_ENTRIES  \\\n",
       "0                11                   1                1   \n",
       "1                 6                   3                2   \n",
       "2                13                   2                1   \n",
       "3                20                   2                1   \n",
       "4                29                   4                2   \n",
       "\n",
       "                                                TAGS BORROWER_NAMES  \\\n",
       "0  #Fabrics, #Parent, #Woman-Owned Business, #Sch...         \\tLucy   \n",
       "1                                                NaN        Madosho   \n",
       "2                                                NaN      Marcelina   \n",
       "3                                      user_favorite       Fadzisai   \n",
       "4                                                NaN          Luisa   \n",
       "\n",
       "  BORROWER_GENDERS  BORROWER_PICTURED REPAYMENT_INTERVAL  DISTRIBUTION_MODEL  \n",
       "0           female               true            monthly       field_partner  \n",
       "1             male               true            monthly       field_partner  \n",
       "2           female               true            monthly       field_partner  \n",
       "3           female               true            monthly       field_partner  \n",
       "4           female               true             bullet       field_partner  \n",
       "\n",
       "[5 rows x 34 columns]"
      ]
     },
     "execution_count": 28,
     "metadata": {},
     "output_type": "execute_result"
    }
   ],
   "source": [
    "sample1.head()"
   ]
  },
  {
   "cell_type": "code",
   "execution_count": 29,
   "metadata": {},
   "outputs": [
    {
     "data": {
      "text/plain": [
       "(2179524, 34)"
      ]
     },
     "execution_count": 29,
     "metadata": {},
     "output_type": "execute_result"
    }
   ],
   "source": [
    "sample1.shape"
   ]
  },
  {
   "cell_type": "code",
   "execution_count": 30,
   "metadata": {},
   "outputs": [],
   "source": [
    "sample1['LOAN_AMOUNT']=sample1['LOAN_AMOUNT'].astype(int)"
   ]
  },
  {
   "cell_type": "code",
   "execution_count": 31,
   "metadata": {},
   "outputs": [],
   "source": [
    "# Remove the outliers-->Check\n",
    "sample1.drop(sample1[(sample1['LOAN_AMOUNT']> -1750) & (sample1['LOAN_AMOUNT']>2975)].index,inplace = True)"
   ]
  },
  {
   "cell_type": "code",
   "execution_count": 32,
   "metadata": {
    "scrolled": true
   },
   "outputs": [
    {
     "data": {
      "text/plain": [
       "array([ 300,  475,  500,  925,  400,  225,  625,  850, 1000,  550,  125,\n",
       "        450, 1450,  600,  575,  800, 2100, 2000, 1500,  250,  175,  525,\n",
       "        375,  675,  150,  275, 2875, 1400,  200,  350,  425,  975, 2925,\n",
       "        100, 1200, 1100,  650, 1900, 1925,  325,  750, 1375,  875, 2275,\n",
       "       1300, 1525,  900, 1050, 2750,  700, 1175, 1075, 2700,  725,  950,\n",
       "       1025, 1125, 1150, 1750, 1475, 1225, 2500, 1425,  775, 2550, 2600,\n",
       "       2725, 2825, 1800, 1325, 1700,   75, 1825, 1600,   25, 2075, 1350,\n",
       "       1775, 1275, 1950, 2150, 2025, 1625, 1650, 2950, 2475,  825, 2425,\n",
       "       1675, 1250, 2125, 1850, 1575, 2325, 2300, 2375, 2200, 1550, 1725,\n",
       "       2175, 2800, 2675, 1975,   50, 2850, 2400, 2350, 2450, 2250, 1875,\n",
       "       2900, 2625, 2050, 2525, 2775, 2650, 2575, 2975, 2225])"
      ]
     },
     "execution_count": 32,
     "metadata": {},
     "output_type": "execute_result"
    }
   ],
   "source": [
    "sample1['LOAN_AMOUNT'].unique()"
   ]
  },
  {
   "cell_type": "code",
   "execution_count": 33,
   "metadata": {},
   "outputs": [
    {
     "name": "stderr",
     "output_type": "stream",
     "text": [
      "C:\\Users\\jgsan\\anaconda3\\lib\\site-packages\\seaborn\\distributions.py:2551: FutureWarning: `distplot` is a deprecated function and will be removed in a future version. Please adapt your code to use either `displot` (a figure-level function with similar flexibility) or `histplot` (an axes-level function for histograms).\n",
      "  warnings.warn(msg, FutureWarning)\n"
     ]
    },
    {
     "data": {
      "text/plain": [
       "<AxesSubplot:xlabel='logAmount', ylabel='Density'>"
      ]
     },
     "execution_count": 33,
     "metadata": {},
     "output_type": "execute_result"
    },
    {
     "data": {
      "image/png": "[encoded data removed]",
      "text/plain": [
       "<Figure size 432x288 with 1 Axes>"
      ]
     },
     "metadata": {
      "needs_background": "light"
     },
     "output_type": "display_data"
    },
    {
     "data": {
      "text/plain": [
       "<Figure size 432x288 with 0 Axes>"
      ]
     },
     "metadata": {},
     "output_type": "display_data"
    }
   ],
   "source": [
    "#Performing log transformation to make the column normally distributed.\n",
    "#Create a new variable by taking log of this variable.\n",
    "import seaborn as sns\n",
    "from scipy.stats import norm\n",
    "sample1['logAmount'] = np.log(abs(sample1['LOAN_AMOUNT']))\n",
    "#sample1['LOAN_AMOUNT']=abs(sample1['LOAN_AMOUNT'])\n",
    "sns.distplot(sample1['logAmount'], fit=norm)\n",
    "fig = plt.figure()"
   ]
  },
  {
   "cell_type": "code",
   "execution_count": 34,
   "metadata": {},
   "outputs": [
    {
     "data": {
      "text/plain": [
       "array([5.70378247, 6.1633148 , 6.2146081 , 6.82979374, 5.99146455,\n",
       "       5.4161004 , 6.43775165, 6.74523635, 6.90775528, 6.30991828,\n",
       "       4.82831374, 6.10924758, 7.27931884, 6.39692966, 6.35437004,\n",
       "       6.68461173, 7.64969262, 7.60090246, 7.31322039, 5.52146092,\n",
       "       5.16478597, 6.26339826, 5.92692603, 6.51471269, 5.01063529,\n",
       "       5.6167711 , 7.96380795, 7.24422752, 5.29831737, 5.85793315,\n",
       "       6.05208917, 6.88243747, 7.98104976, 4.60517019, 7.09007684,\n",
       "       7.00306546, 6.47697236, 7.54960917, 7.56268125, 5.78382518,\n",
       "       6.62007321, 7.22620901, 6.77422389, 7.72973533, 7.17011954,\n",
       "       7.32974969, 6.80239476, 6.95654544, 7.91935619, 6.55108034,\n",
       "       7.06902343, 6.98007594, 7.90100705, 6.58617165, 6.85646198,\n",
       "       6.93244789, 7.02553831, 7.04751722, 7.46737107, 7.29641327,\n",
       "       7.11069612, 7.82404601, 7.26192709, 6.65286303, 7.84384864,\n",
       "       7.86326672, 7.91022371, 7.94626364, 7.49554194, 7.18916774,\n",
       "       7.43838353, 4.31748811, 7.50933527, 7.37775891, 3.21887582,\n",
       "       7.63771643, 7.20785987, 7.4815557 , 7.15070146, 7.57558465,\n",
       "       7.67322312, 7.61332498, 7.39326309, 7.40853057, 7.98956045,\n",
       "       7.81399568, 6.71538339, 7.7935868 , 7.42356844, 7.13089883,\n",
       "       7.66152708, 7.52294092, 7.36201055, 7.75147532, 7.7406644 ,\n",
       "       7.77275272, 7.69621264, 7.34601021, 7.45298233, 7.68478394,\n",
       "       7.9373747 , 7.89170466, 7.58832368, 3.91202301, 7.95507427,\n",
       "       7.78322402, 7.76217061, 7.8038433 , 7.7186855 , 7.53636394,\n",
       "       7.97246602, 7.87283618, 7.62559507, 7.83399634, 7.92840603,\n",
       "       7.88231492, 7.85360481, 7.99799932, 7.70751219])"
      ]
     },
     "execution_count": 34,
     "metadata": {},
     "output_type": "execute_result"
    }
   ],
   "source": [
    "sample1['logAmount'].unique()"
   ]
  },
  {
   "cell_type": "code",
   "execution_count": 35,
   "metadata": {},
   "outputs": [
    {
     "data": {
      "text/html": [
       "<div>\n",
       "<style scoped>\n",
       "    .dataframe tbody tr th:only-of-type {\n",
       "        vertical-align: middle;\n",
       "    }\n",
       "\n",
       "    .dataframe tbody tr th {\n",
       "        vertical-align: top;\n",
       "    }\n",
       "\n",
       "    .dataframe thead th {\n",
       "        text-align: right;\n",
       "    }\n",
       "</style>\n",
       "<table border=\"1\" class=\"dataframe\">\n",
       "  <thead>\n",
       "    <tr style=\"text-align: right;\">\n",
       "      <th></th>\n",
       "      <th>LOAN_ID</th>\n",
       "      <th>LOAN_NAME</th>\n",
       "      <th>ORIGINAL_LANGUAGE</th>\n",
       "      <th>DESCRIPTION</th>\n",
       "      <th>DESCRIPTION_TRANSLATED</th>\n",
       "      <th>FUNDED_AMOUNT</th>\n",
       "      <th>LOAN_AMOUNT</th>\n",
       "      <th>STATUS</th>\n",
       "      <th>IMAGE_ID</th>\n",
       "      <th>VIDEO_ID</th>\n",
       "      <th>...</th>\n",
       "      <th>NUM_LENDERS_TOTAL</th>\n",
       "      <th>NUM_JOURNAL_ENTRIES</th>\n",
       "      <th>NUM_BULK_ENTRIES</th>\n",
       "      <th>TAGS</th>\n",
       "      <th>BORROWER_NAMES</th>\n",
       "      <th>BORROWER_GENDERS</th>\n",
       "      <th>BORROWER_PICTURED</th>\n",
       "      <th>REPAYMENT_INTERVAL</th>\n",
       "      <th>DISTRIBUTION_MODEL</th>\n",
       "      <th>logAmount</th>\n",
       "    </tr>\n",
       "  </thead>\n",
       "  <tbody>\n",
       "    <tr>\n",
       "      <th>0</th>\n",
       "      <td>1057058</td>\n",
       "      <td>\\tLucy</td>\n",
       "      <td>English</td>\n",
       "      <td>Lucy is a married woman and has been blessed w...</td>\n",
       "      <td>Lucy is a married woman and has been blessed w...</td>\n",
       "      <td>300.0</td>\n",
       "      <td>300</td>\n",
       "      <td>funded</td>\n",
       "      <td>2157387.0</td>\n",
       "      <td>NaN</td>\n",
       "      <td>...</td>\n",
       "      <td>11</td>\n",
       "      <td>1</td>\n",
       "      <td>1</td>\n",
       "      <td>#Fabrics, #Parent, #Woman-Owned Business, #Sch...</td>\n",
       "      <td>\\tLucy</td>\n",
       "      <td>female</td>\n",
       "      <td>true</td>\n",
       "      <td>monthly</td>\n",
       "      <td>field_partner</td>\n",
       "      <td>5.703782</td>\n",
       "    </tr>\n",
       "    <tr>\n",
       "      <th>1</th>\n",
       "      <td>509472</td>\n",
       "      <td>Madosho</td>\n",
       "      <td>English</td>\n",
       "      <td>Madosho is a very responsible man who values h...</td>\n",
       "      <td>NaN</td>\n",
       "      <td>300.0</td>\n",
       "      <td>300</td>\n",
       "      <td>funded</td>\n",
       "      <td>942435.0</td>\n",
       "      <td>NaN</td>\n",
       "      <td>...</td>\n",
       "      <td>6</td>\n",
       "      <td>3</td>\n",
       "      <td>2</td>\n",
       "      <td>NaN</td>\n",
       "      <td>Madosho</td>\n",
       "      <td>male</td>\n",
       "      <td>true</td>\n",
       "      <td>monthly</td>\n",
       "      <td>field_partner</td>\n",
       "      <td>5.703782</td>\n",
       "    </tr>\n",
       "    <tr>\n",
       "      <th>2</th>\n",
       "      <td>344324</td>\n",
       "      <td>Marcelina</td>\n",
       "      <td>English</td>\n",
       "      <td>Marcelina is married with 2 child. She is a ve...</td>\n",
       "      <td>NaN</td>\n",
       "      <td>475.0</td>\n",
       "      <td>475</td>\n",
       "      <td>funded</td>\n",
       "      <td>886916.0</td>\n",
       "      <td>NaN</td>\n",
       "      <td>...</td>\n",
       "      <td>13</td>\n",
       "      <td>2</td>\n",
       "      <td>1</td>\n",
       "      <td>NaN</td>\n",
       "      <td>Marcelina</td>\n",
       "      <td>female</td>\n",
       "      <td>true</td>\n",
       "      <td>monthly</td>\n",
       "      <td>field_partner</td>\n",
       "      <td>6.163315</td>\n",
       "    </tr>\n",
       "    <tr>\n",
       "      <th>3</th>\n",
       "      <td>768521</td>\n",
       "      <td>Fadzisai</td>\n",
       "      <td>English</td>\n",
       "      <td>Fadzisai is a 30-year-old businesswoman from t...</td>\n",
       "      <td>Fadzisai is a 30-year-old businesswoman from t...</td>\n",
       "      <td>500.0</td>\n",
       "      <td>500</td>\n",
       "      <td>funded</td>\n",
       "      <td>1692199.0</td>\n",
       "      <td>NaN</td>\n",
       "      <td>...</td>\n",
       "      <td>20</td>\n",
       "      <td>2</td>\n",
       "      <td>1</td>\n",
       "      <td>user_favorite</td>\n",
       "      <td>Fadzisai</td>\n",
       "      <td>female</td>\n",
       "      <td>true</td>\n",
       "      <td>monthly</td>\n",
       "      <td>field_partner</td>\n",
       "      <td>6.214608</td>\n",
       "    </tr>\n",
       "    <tr>\n",
       "      <th>4</th>\n",
       "      <td>90984</td>\n",
       "      <td>Luisa</td>\n",
       "      <td>Spanish</td>\n",
       "      <td>Luisa tiene 49 años, vive con su esposo en su ...</td>\n",
       "      <td>Luisa is 49 years old and lives with her husba...</td>\n",
       "      <td>925.0</td>\n",
       "      <td>925</td>\n",
       "      <td>funded</td>\n",
       "      <td>276468.0</td>\n",
       "      <td>NaN</td>\n",
       "      <td>...</td>\n",
       "      <td>29</td>\n",
       "      <td>4</td>\n",
       "      <td>2</td>\n",
       "      <td>NaN</td>\n",
       "      <td>Luisa</td>\n",
       "      <td>female</td>\n",
       "      <td>true</td>\n",
       "      <td>bullet</td>\n",
       "      <td>field_partner</td>\n",
       "      <td>6.829794</td>\n",
       "    </tr>\n",
       "  </tbody>\n",
       "</table>\n",
       "<p>5 rows × 35 columns</p>\n",
       "</div>"
      ],
      "text/plain": [
       "   LOAN_ID  LOAN_NAME ORIGINAL_LANGUAGE  \\\n",
       "0  1057058     \\tLucy           English   \n",
       "1   509472    Madosho           English   \n",
       "2   344324  Marcelina           English   \n",
       "3   768521   Fadzisai           English   \n",
       "4    90984      Luisa           Spanish   \n",
       "\n",
       "                                         DESCRIPTION  \\\n",
       "0  Lucy is a married woman and has been blessed w...   \n",
       "1  Madosho is a very responsible man who values h...   \n",
       "2  Marcelina is married with 2 child. She is a ve...   \n",
       "3  Fadzisai is a 30-year-old businesswoman from t...   \n",
       "4  Luisa tiene 49 años, vive con su esposo en su ...   \n",
       "\n",
       "                              DESCRIPTION_TRANSLATED  FUNDED_AMOUNT  \\\n",
       "0  Lucy is a married woman and has been blessed w...          300.0   \n",
       "1                                                NaN          300.0   \n",
       "2                                                NaN          475.0   \n",
       "3  Fadzisai is a 30-year-old businesswoman from t...          500.0   \n",
       "4  Luisa is 49 years old and lives with her husba...          925.0   \n",
       "\n",
       "   LOAN_AMOUNT  STATUS   IMAGE_ID  VIDEO_ID  ... NUM_LENDERS_TOTAL  \\\n",
       "0          300  funded  2157387.0       NaN  ...                11   \n",
       "1          300  funded   942435.0       NaN  ...                 6   \n",
       "2          475  funded   886916.0       NaN  ...                13   \n",
       "3          500  funded  1692199.0       NaN  ...                20   \n",
       "4          925  funded   276468.0       NaN  ...                29   \n",
       "\n",
       "  NUM_JOURNAL_ENTRIES NUM_BULK_ENTRIES  \\\n",
       "0                   1                1   \n",
       "1                   3                2   \n",
       "2                   2                1   \n",
       "3                   2                1   \n",
       "4                   4                2   \n",
       "\n",
       "                                                TAGS BORROWER_NAMES  \\\n",
       "0  #Fabrics, #Parent, #Woman-Owned Business, #Sch...         \\tLucy   \n",
       "1                                                NaN        Madosho   \n",
       "2                                                NaN      Marcelina   \n",
       "3                                      user_favorite       Fadzisai   \n",
       "4                                                NaN          Luisa   \n",
       "\n",
       "  BORROWER_GENDERS BORROWER_PICTURED  REPAYMENT_INTERVAL DISTRIBUTION_MODEL  \\\n",
       "0           female              true             monthly      field_partner   \n",
       "1             male              true             monthly      field_partner   \n",
       "2           female              true             monthly      field_partner   \n",
       "3           female              true             monthly      field_partner   \n",
       "4           female              true              bullet      field_partner   \n",
       "\n",
       "   logAmount  \n",
       "0   5.703782  \n",
       "1   5.703782  \n",
       "2   6.163315  \n",
       "3   6.214608  \n",
       "4   6.829794  \n",
       "\n",
       "[5 rows x 35 columns]"
      ]
     },
     "execution_count": 35,
     "metadata": {},
     "output_type": "execute_result"
    }
   ],
   "source": [
    "#Loan_amount variable got tranformed\n",
    "sample1.head()"
   ]
  },
  {
   "cell_type": "markdown",
   "metadata": {},
   "source": [
    "8. Observe the missing value results from Q3. What is the outcome for variables 'COUNTRY_CODE' and 'COUNTRY_NAME'. What would you do? Do it."
   ]
  },
  {
   "cell_type": "code",
   "execution_count": 36,
   "metadata": {},
   "outputs": [
    {
     "name": "stdout",
     "output_type": "stream",
     "text": [
      "countrycode from modified dataset: 1\n"
     ]
    }
   ],
   "source": [
    "Countrycode_nullvalues=sample1['COUNTRY_CODE'].isnull().sum()\n",
    "print(\"countrycode from modified dataset:\",Countrycode_nullvalues)"
   ]
  },
  {
   "cell_type": "code",
   "execution_count": 37,
   "metadata": {},
   "outputs": [
    {
     "name": "stdout",
     "output_type": "stream",
     "text": [
      "countryname from modified dataset: 0\n"
     ]
    }
   ],
   "source": [
    "Countryname_nullvalues=sample1['COUNTRY_NAME'].isnull().sum()\n",
    "print(\"countryname from modified dataset:\",Countryname_nullvalues)\n"
   ]
  },
  {
   "cell_type": "markdown",
   "metadata": {},
   "source": [
    "As COUNTRY_NAME does'nt have any missing values, we dont have to do anything.\n",
    "COUNTRY_CODE has missing values and it is a nominal variable which can be substituted with frequently used value in that particular column"
   ]
  },
  {
   "cell_type": "code",
   "execution_count": 38,
   "metadata": {},
   "outputs": [
    {
     "name": "stdout",
     "output_type": "stream",
     "text": [
      "PH    475916\n",
      "KE    249485\n",
      "KH    102991\n",
      "PE     93454\n",
      "SV     90911\n",
      "       ...  \n",
      "TD        61\n",
      "CN        58\n",
      "PR        38\n",
      "GZ         8\n",
      "VC         6\n",
      "Name: COUNTRY_CODE, Length: 90, dtype: int64\n"
     ]
    }
   ],
   "source": [
    "#using the original data frame because in question it is mentioned to use Q3 output\n",
    "print(sample1['COUNTRY_CODE'].value_counts())"
   ]
  },
  {
   "cell_type": "code",
   "execution_count": 39,
   "metadata": {},
   "outputs": [
    {
     "data": {
      "text/plain": [
       "array(['KE', 'PH', 'ZW', 'PE', 'LR', 'TR', 'KH', 'CO', 'UG', 'SL', 'SV',\n",
       "       'WS', 'JO', 'PA', 'EC', 'ID', 'BI', 'TZ', 'GH', 'NI', 'PK', 'EG',\n",
       "       'ZM', 'AL', 'TJ', 'BO', 'KG', 'VN', 'XK', 'PS', 'TG', 'CR', 'SN',\n",
       "       'LB', 'MG', 'RW', 'HT', 'BF', 'MN', 'MD', 'BJ', 'SS', 'IN', 'AM',\n",
       "       'HN', 'MZ', 'SO', 'GT', 'MX', 'ML', 'PG', 'UA', 'TL', 'GE', 'NG',\n",
       "       'US', 'IQ', 'FJ', 'LS', 'NP', 'YE', 'CM', 'PY', 'AF', 'SB', 'CD',\n",
       "       'TO', 'VU', 'AZ', 'MW', 'IL', 'DO', 'ZA', 'TH', 'LA', 'BR', 'MM',\n",
       "       'CL', 'CI', 'BZ', 'CG', 'LK', 'BA', 'BG', 'TD', 'CN', 'SR', 'PR',\n",
       "       'VC', 'GZ', nan], dtype=object)"
      ]
     },
     "execution_count": 39,
     "metadata": {},
     "output_type": "execute_result"
    }
   ],
   "source": [
    "sample1['COUNTRY_CODE'].unique()"
   ]
  },
  {
   "cell_type": "code",
   "execution_count": 40,
   "metadata": {},
   "outputs": [
    {
     "name": "stdout",
     "output_type": "stream",
     "text": [
      "Philippines                         475916\n",
      "Kenya                               249485\n",
      "Cambodia                            102991\n",
      "Peru                                 93454\n",
      "El Salvador                          90911\n",
      "                                     ...  \n",
      "China                                   58\n",
      "Puerto Rico                             38\n",
      "Gaza                                     8\n",
      "Saint Vincent and the Grenadines         6\n",
      "Namibia                                  1\n",
      "Name: COUNTRY_NAME, Length: 91, dtype: int64\n"
     ]
    }
   ],
   "source": [
    "print(sample1['COUNTRY_NAME'].value_counts())"
   ]
  },
  {
   "cell_type": "code",
   "execution_count": 41,
   "metadata": {},
   "outputs": [
    {
     "data": {
      "text/plain": [
       "array(['Kenya', 'Philippines', 'Zimbabwe', 'Peru', 'Liberia', 'Turkey',\n",
       "       'Cambodia', 'Colombia', 'Uganda', 'Sierra Leone', 'El Salvador',\n",
       "       'Samoa', 'Jordan', 'Panama', 'Ecuador', 'Indonesia', 'Burundi',\n",
       "       'Tanzania', 'Ghana', 'Nicaragua', 'Pakistan', 'Egypt', 'Zambia',\n",
       "       'Albania', 'Tajikistan', 'Bolivia', 'Kyrgyzstan', 'Vietnam',\n",
       "       'Kosovo', 'Palestine', 'Togo', 'Costa Rica', 'Senegal', 'Lebanon',\n",
       "       'Madagascar', 'Rwanda', 'Haiti', 'Burkina Faso', 'Mongolia',\n",
       "       'Moldova', 'Benin', 'South Sudan', 'India', 'Armenia', 'Honduras',\n",
       "       'Mozambique', 'Somalia', 'Guatemala', 'Mexico', 'Mali',\n",
       "       'Papua New Guinea', 'Ukraine', 'Timor-Leste', 'Georgia', 'Nigeria',\n",
       "       'United States', 'Iraq', 'Fiji', 'Lesotho', 'Nepal', 'Yemen',\n",
       "       'Cameroon', 'Paraguay', 'Afghanistan', 'Solomon Islands',\n",
       "       'The Democratic Republic of the Congo', 'Tonga', 'Vanuatu',\n",
       "       'Azerbaijan', 'Malawi', 'Israel', 'Dominican Republic',\n",
       "       'South Africa', 'Thailand', \"Lao People's Democratic Republic\",\n",
       "       'Brazil', 'Myanmar (Burma)', 'Chile', \"Cote D'Ivoire\", 'Belize',\n",
       "       'Congo', 'Sri Lanka', 'Bosnia and Herzegovina', 'Bulgaria', 'Chad',\n",
       "       'China', 'Suriname', 'Puerto Rico',\n",
       "       'Saint Vincent and the Grenadines', 'Gaza', 'Namibia'],\n",
       "      dtype=object)"
      ]
     },
     "execution_count": 41,
     "metadata": {},
     "output_type": "execute_result"
    }
   ],
   "source": [
    "sample1['COUNTRY_NAME'].unique()"
   ]
  },
  {
   "cell_type": "code",
   "execution_count": 42,
   "metadata": {},
   "outputs": [],
   "source": [
    "#This is the final modified dataset\n",
    "sample1['COUNTRY_CODE']=df1['COUNTRY_CODE'].fillna(value='PH')"
   ]
  },
  {
   "cell_type": "code",
   "execution_count": 43,
   "metadata": {},
   "outputs": [
    {
     "data": {
      "text/plain": [
       "0"
      ]
     },
     "execution_count": 43,
     "metadata": {},
     "output_type": "execute_result"
    }
   ],
   "source": [
    "#Missing values got replaced. \n",
    "sample1['COUNTRY_CODE'].isnull().sum()"
   ]
  },
  {
   "cell_type": "markdown",
   "metadata": {},
   "source": [
    "9. Find the number of missing values in variables 'IMAGE_ID', 'VIDEO_ID' and 'LOAN_USE'. What would you do? Do it."
   ]
  },
  {
   "cell_type": "code",
   "execution_count": 44,
   "metadata": {},
   "outputs": [
    {
     "name": "stdout",
     "output_type": "stream",
     "text": [
      "44295\n",
      "2090323\n",
      "44312\n"
     ]
    }
   ],
   "source": [
    "#Method1\n",
    "print(sample1.IMAGE_ID.isnull().sum())\n",
    "print(sample1.VIDEO_ID.isnull().sum())\n",
    "print(sample1.LOAN_USE.isnull().sum())"
   ]
  },
  {
   "cell_type": "code",
   "execution_count": 45,
   "metadata": {},
   "outputs": [
    {
     "data": {
      "text/plain": [
       "44295"
      ]
     },
     "execution_count": 45,
     "metadata": {},
     "output_type": "execute_result"
    },
    {
     "data": {
      "text/plain": [
       "2090323"
      ]
     },
     "execution_count": 45,
     "metadata": {},
     "output_type": "execute_result"
    },
    {
     "data": {
      "text/plain": [
       "44312"
      ]
     },
     "execution_count": 45,
     "metadata": {},
     "output_type": "execute_result"
    }
   ],
   "source": [
    "#Method2\n",
    "sum(pd.isnull(sample1['IMAGE_ID']))\n",
    "sum(pd.isnull(sample1['VIDEO_ID']))\n",
    "sum(pd.isnull(sample1['LOAN_USE']))"
   ]
  },
  {
   "cell_type": "code",
   "execution_count": 46,
   "metadata": {},
   "outputs": [
    {
     "name": "stdout",
     "output_type": "stream",
     "text": [
      "300036.0     20\n",
      "731264.0     19\n",
      "943801.0     16\n",
      "1245279.0     9\n",
      "1157043.0     8\n",
      "             ..\n",
      "875759.0      1\n",
      "4332481.0     1\n",
      "3161928.0     1\n",
      "3011403.0     1\n",
      "2033416.0     1\n",
      "Name: IMAGE_ID, Length: 1972346, dtype: int64\n"
     ]
    }
   ],
   "source": [
    "print(sample1['IMAGE_ID'].value_counts())"
   ]
  },
  {
   "cell_type": "code",
   "execution_count": 47,
   "metadata": {},
   "outputs": [
    {
     "name": "stdout",
     "output_type": "stream",
     "text": [
      "to build a sanitary toilet for her family                                                20946\n",
      "to buy a water filter to provide safe drinking water for their family.                   12118\n",
      "to build a sanitary toilet for her family.                                               10530\n",
      "to buy a water filter to provide safe drinking water for her family.                      8576\n",
      "to buy ingredients for her food production business                                       7599\n",
      "                                                                                         ...  \n",
      "to purchase a boat engine and fishing nets.                                                  1\n",
      "to enhance in her husband's ready made garments sale business                                1\n",
      "to buy fishing materials in order to catch more fish.                                        1\n",
      "To transport the vegetables to Ulaanbaatar and sell them                                     1\n",
      "to buy eight sacks of local millet so as to save to pay school fees for her children.        1\n",
      "Name: LOAN_USE, Length: 1215533, dtype: int64\n"
     ]
    }
   ],
   "source": [
    "print(sample1['LOAN_USE'].value_counts())"
   ]
  },
  {
   "cell_type": "code",
   "execution_count": null,
   "metadata": {},
   "outputs": [],
   "source": [
    "# Replacing it with the most repeated value in the LOAN_USE column\n",
    "#sample1['LOAN_USE']=sample1['LOAN_USE'].fillna(value='to build a sanitary toilet for her family')"
   ]
  },
  {
   "cell_type": "code",
   "execution_count": null,
   "metadata": {},
   "outputs": [],
   "source": [
    "#sample1['IMAGE_ID'] = sample1['IMAGE_ID'].replace(np.nan, 0)"
   ]
  },
  {
   "cell_type": "code",
   "execution_count": 48,
   "metadata": {},
   "outputs": [
    {
     "data": {
      "text/plain": [
       "0"
      ]
     },
     "execution_count": 48,
     "metadata": {},
     "output_type": "execute_result"
    }
   ],
   "source": [
    "sample1.loc[sample1['IMAGE_ID'] != np.NaN, 'IMAGE_ID'] = 1\n",
    "sample1['IMAGE_ID'] = sample1['IMAGE_ID'].replace(np.NaN, 0)\n",
    "sample1['IMAGE_ID'].isna().sum()"
   ]
  },
  {
   "cell_type": "code",
   "execution_count": null,
   "metadata": {},
   "outputs": [],
   "source": [
    "#sample1['IMAGE_ID']=sample1['IMAGE_ID'].fillna(value='300036.0')"
   ]
  },
  {
   "cell_type": "code",
   "execution_count": 49,
   "metadata": {},
   "outputs": [
    {
     "name": "stdout",
     "output_type": "stream",
     "text": [
      "0\n"
     ]
    }
   ],
   "source": [
    "print(sample1.IMAGE_ID.isnull().sum())\n"
   ]
  },
  {
   "cell_type": "code",
   "execution_count": 50,
   "metadata": {},
   "outputs": [
    {
     "data": {
      "text/plain": [
       "0         NaN\n",
       "1         NaN\n",
       "2         NaN\n",
       "3         NaN\n",
       "4         NaN\n",
       "           ..\n",
       "2185235   NaN\n",
       "2185236   NaN\n",
       "2185238   NaN\n",
       "2185239   NaN\n",
       "2185240   NaN\n",
       "Name: VIDEO_ID, Length: 2090779, dtype: float64"
      ]
     },
     "execution_count": 50,
     "metadata": {},
     "output_type": "execute_result"
    }
   ],
   "source": [
    "sample1['VIDEO_ID']"
   ]
  },
  {
   "cell_type": "code",
   "execution_count": 51,
   "metadata": {},
   "outputs": [
    {
     "data": {
      "text/plain": [
       "0                    to purchase bundles of fish for resale.\n",
       "1          to purchase bales of flour, sacks of rice and ...\n",
       "2          to buy additional tools and equipment for her ...\n",
       "3          To purchase a larger fryer to produce more chips.\n",
       "4                       Buy sawdust and pay her day workers.\n",
       "                                 ...                        \n",
       "2185235                                                  NaN\n",
       "2185236    to process more mobile airtime credit transact...\n",
       "2185238    to pay school tuition fees for the second seme...\n",
       "2185239    to buy eight sacks of local millet so as to sa...\n",
       "2185240    to buy cost efficient maize seeds and fertiliz...\n",
       "Name: LOAN_USE, Length: 2090779, dtype: object"
      ]
     },
     "execution_count": 51,
     "metadata": {},
     "output_type": "execute_result"
    }
   ],
   "source": [
    "sample1['LOAN_USE']"
   ]
  },
  {
   "cell_type": "code",
   "execution_count": 52,
   "metadata": {},
   "outputs": [],
   "source": [
    "sample1 = sample1.drop(['VIDEO_ID'],axis=1)"
   ]
  },
  {
   "cell_type": "code",
   "execution_count": 53,
   "metadata": {},
   "outputs": [],
   "source": [
    "sample1 = sample1.drop(['LOAN_USE'],axis=1)"
   ]
  },
  {
   "cell_type": "markdown",
   "metadata": {},
   "source": [
    "10. Create a new variable 'TIME_LENGTH' that is the difference between 'POSTED_TIME' and 'RAISED_TIME'."
   ]
  },
  {
   "cell_type": "code",
   "execution_count": 54,
   "metadata": {},
   "outputs": [],
   "source": [
    "#Changing the columns into datetime format\n",
    "sample1['POSTED_TIME'] = pd.to_datetime(sample1['POSTED_TIME'], format='%Y-%m-%d %H:%M:%S.%f')\n",
    "sample1['RAISED_TIME'] = pd.to_datetime(sample1['RAISED_TIME'], format='%Y-%m-%d %H:%M:%S.%f')"
   ]
  },
  {
   "cell_type": "code",
   "execution_count": 55,
   "metadata": {},
   "outputs": [],
   "source": [
    "sample1['TIME_LENGTH'] = sample1['RAISED_TIME']- sample1['POSTED_TIME']"
   ]
  },
  {
   "cell_type": "code",
   "execution_count": 56,
   "metadata": {},
   "outputs": [
    {
     "data": {
      "text/html": [
       "<div>\n",
       "<style scoped>\n",
       "    .dataframe tbody tr th:only-of-type {\n",
       "        vertical-align: middle;\n",
       "    }\n",
       "\n",
       "    .dataframe tbody tr th {\n",
       "        vertical-align: top;\n",
       "    }\n",
       "\n",
       "    .dataframe thead th {\n",
       "        text-align: right;\n",
       "    }\n",
       "</style>\n",
       "<table border=\"1\" class=\"dataframe\">\n",
       "  <thead>\n",
       "    <tr style=\"text-align: right;\">\n",
       "      <th></th>\n",
       "      <th>LOAN_ID</th>\n",
       "      <th>LOAN_NAME</th>\n",
       "      <th>ORIGINAL_LANGUAGE</th>\n",
       "      <th>DESCRIPTION</th>\n",
       "      <th>DESCRIPTION_TRANSLATED</th>\n",
       "      <th>FUNDED_AMOUNT</th>\n",
       "      <th>LOAN_AMOUNT</th>\n",
       "      <th>STATUS</th>\n",
       "      <th>IMAGE_ID</th>\n",
       "      <th>ACTIVITY_NAME</th>\n",
       "      <th>...</th>\n",
       "      <th>NUM_JOURNAL_ENTRIES</th>\n",
       "      <th>NUM_BULK_ENTRIES</th>\n",
       "      <th>TAGS</th>\n",
       "      <th>BORROWER_NAMES</th>\n",
       "      <th>BORROWER_GENDERS</th>\n",
       "      <th>BORROWER_PICTURED</th>\n",
       "      <th>REPAYMENT_INTERVAL</th>\n",
       "      <th>DISTRIBUTION_MODEL</th>\n",
       "      <th>logAmount</th>\n",
       "      <th>TIME_LENGTH</th>\n",
       "    </tr>\n",
       "  </thead>\n",
       "  <tbody>\n",
       "    <tr>\n",
       "      <th>0</th>\n",
       "      <td>1057058</td>\n",
       "      <td>\\tLucy</td>\n",
       "      <td>English</td>\n",
       "      <td>Lucy is a married woman and has been blessed w...</td>\n",
       "      <td>Lucy is a married woman and has been blessed w...</td>\n",
       "      <td>300.0</td>\n",
       "      <td>300</td>\n",
       "      <td>funded</td>\n",
       "      <td>1.0</td>\n",
       "      <td>Fish Selling</td>\n",
       "      <td>...</td>\n",
       "      <td>1</td>\n",
       "      <td>1</td>\n",
       "      <td>#Fabrics, #Parent, #Woman-Owned Business, #Sch...</td>\n",
       "      <td>\\tLucy</td>\n",
       "      <td>female</td>\n",
       "      <td>true</td>\n",
       "      <td>monthly</td>\n",
       "      <td>field_partner</td>\n",
       "      <td>5.703782</td>\n",
       "      <td>5 days 21:55:15</td>\n",
       "    </tr>\n",
       "    <tr>\n",
       "      <th>1</th>\n",
       "      <td>509472</td>\n",
       "      <td>Madosho</td>\n",
       "      <td>English</td>\n",
       "      <td>Madosho is a very responsible man who values h...</td>\n",
       "      <td>NaN</td>\n",
       "      <td>300.0</td>\n",
       "      <td>300</td>\n",
       "      <td>funded</td>\n",
       "      <td>1.0</td>\n",
       "      <td>General Store</td>\n",
       "      <td>...</td>\n",
       "      <td>3</td>\n",
       "      <td>2</td>\n",
       "      <td>NaN</td>\n",
       "      <td>Madosho</td>\n",
       "      <td>male</td>\n",
       "      <td>true</td>\n",
       "      <td>monthly</td>\n",
       "      <td>field_partner</td>\n",
       "      <td>5.703782</td>\n",
       "      <td>1 days 07:54:35</td>\n",
       "    </tr>\n",
       "    <tr>\n",
       "      <th>2</th>\n",
       "      <td>344324</td>\n",
       "      <td>Marcelina</td>\n",
       "      <td>English</td>\n",
       "      <td>Marcelina is married with 2 child. She is a ve...</td>\n",
       "      <td>NaN</td>\n",
       "      <td>475.0</td>\n",
       "      <td>475</td>\n",
       "      <td>funded</td>\n",
       "      <td>1.0</td>\n",
       "      <td>Motorcycle Repair</td>\n",
       "      <td>...</td>\n",
       "      <td>2</td>\n",
       "      <td>1</td>\n",
       "      <td>NaN</td>\n",
       "      <td>Marcelina</td>\n",
       "      <td>female</td>\n",
       "      <td>true</td>\n",
       "      <td>monthly</td>\n",
       "      <td>field_partner</td>\n",
       "      <td>6.163315</td>\n",
       "      <td>22 days 18:14:27</td>\n",
       "    </tr>\n",
       "    <tr>\n",
       "      <th>3</th>\n",
       "      <td>768521</td>\n",
       "      <td>Fadzisai</td>\n",
       "      <td>English</td>\n",
       "      <td>Fadzisai is a 30-year-old businesswoman from t...</td>\n",
       "      <td>Fadzisai is a 30-year-old businesswoman from t...</td>\n",
       "      <td>500.0</td>\n",
       "      <td>500</td>\n",
       "      <td>funded</td>\n",
       "      <td>1.0</td>\n",
       "      <td>Food Production/Sales</td>\n",
       "      <td>...</td>\n",
       "      <td>2</td>\n",
       "      <td>1</td>\n",
       "      <td>user_favorite</td>\n",
       "      <td>Fadzisai</td>\n",
       "      <td>female</td>\n",
       "      <td>true</td>\n",
       "      <td>monthly</td>\n",
       "      <td>field_partner</td>\n",
       "      <td>6.214608</td>\n",
       "      <td>2 days 05:06:46</td>\n",
       "    </tr>\n",
       "    <tr>\n",
       "      <th>4</th>\n",
       "      <td>90984</td>\n",
       "      <td>Luisa</td>\n",
       "      <td>Spanish</td>\n",
       "      <td>Luisa tiene 49 años, vive con su esposo en su ...</td>\n",
       "      <td>Luisa is 49 years old and lives with her husba...</td>\n",
       "      <td>925.0</td>\n",
       "      <td>925</td>\n",
       "      <td>funded</td>\n",
       "      <td>1.0</td>\n",
       "      <td>Bricks</td>\n",
       "      <td>...</td>\n",
       "      <td>4</td>\n",
       "      <td>2</td>\n",
       "      <td>NaN</td>\n",
       "      <td>Luisa</td>\n",
       "      <td>female</td>\n",
       "      <td>true</td>\n",
       "      <td>bullet</td>\n",
       "      <td>field_partner</td>\n",
       "      <td>6.829794</td>\n",
       "      <td>2 days 06:51:33</td>\n",
       "    </tr>\n",
       "  </tbody>\n",
       "</table>\n",
       "<p>5 rows × 34 columns</p>\n",
       "</div>"
      ],
      "text/plain": [
       "   LOAN_ID  LOAN_NAME ORIGINAL_LANGUAGE  \\\n",
       "0  1057058     \\tLucy           English   \n",
       "1   509472    Madosho           English   \n",
       "2   344324  Marcelina           English   \n",
       "3   768521   Fadzisai           English   \n",
       "4    90984      Luisa           Spanish   \n",
       "\n",
       "                                         DESCRIPTION  \\\n",
       "0  Lucy is a married woman and has been blessed w...   \n",
       "1  Madosho is a very responsible man who values h...   \n",
       "2  Marcelina is married with 2 child. She is a ve...   \n",
       "3  Fadzisai is a 30-year-old businesswoman from t...   \n",
       "4  Luisa tiene 49 años, vive con su esposo en su ...   \n",
       "\n",
       "                              DESCRIPTION_TRANSLATED  FUNDED_AMOUNT  \\\n",
       "0  Lucy is a married woman and has been blessed w...          300.0   \n",
       "1                                                NaN          300.0   \n",
       "2                                                NaN          475.0   \n",
       "3  Fadzisai is a 30-year-old businesswoman from t...          500.0   \n",
       "4  Luisa is 49 years old and lives with her husba...          925.0   \n",
       "\n",
       "   LOAN_AMOUNT  STATUS  IMAGE_ID          ACTIVITY_NAME  ...  \\\n",
       "0          300  funded       1.0           Fish Selling  ...   \n",
       "1          300  funded       1.0          General Store  ...   \n",
       "2          475  funded       1.0      Motorcycle Repair  ...   \n",
       "3          500  funded       1.0  Food Production/Sales  ...   \n",
       "4          925  funded       1.0                 Bricks  ...   \n",
       "\n",
       "  NUM_JOURNAL_ENTRIES NUM_BULK_ENTRIES  \\\n",
       "0                   1                1   \n",
       "1                   3                2   \n",
       "2                   2                1   \n",
       "3                   2                1   \n",
       "4                   4                2   \n",
       "\n",
       "                                                TAGS BORROWER_NAMES  \\\n",
       "0  #Fabrics, #Parent, #Woman-Owned Business, #Sch...         \\tLucy   \n",
       "1                                                NaN        Madosho   \n",
       "2                                                NaN      Marcelina   \n",
       "3                                      user_favorite       Fadzisai   \n",
       "4                                                NaN          Luisa   \n",
       "\n",
       "  BORROWER_GENDERS  BORROWER_PICTURED REPAYMENT_INTERVAL  DISTRIBUTION_MODEL  \\\n",
       "0           female               true            monthly       field_partner   \n",
       "1             male               true            monthly       field_partner   \n",
       "2           female               true            monthly       field_partner   \n",
       "3           female               true            monthly       field_partner   \n",
       "4           female               true             bullet       field_partner   \n",
       "\n",
       "  logAmount      TIME_LENGTH  \n",
       "0  5.703782  5 days 21:55:15  \n",
       "1  5.703782  1 days 07:54:35  \n",
       "2  6.163315 22 days 18:14:27  \n",
       "3  6.214608  2 days 05:06:46  \n",
       "4  6.829794  2 days 06:51:33  \n",
       "\n",
       "[5 rows x 34 columns]"
      ]
     },
     "execution_count": 56,
     "metadata": {},
     "output_type": "execute_result"
    }
   ],
   "source": [
    "#New variable time length got added \n",
    "sample1.head()"
   ]
  },
  {
   "cell_type": "markdown",
   "metadata": {},
   "source": [
    "11. Find the different between 'POSTED_TIME' and 'DISBURSE_TIME'. Create a new variable 'PREDISBURSE' if the 'DISBURSE_TIME' is before 'POSTED_TIME'."
   ]
  },
  {
   "cell_type": "code",
   "execution_count": 57,
   "metadata": {},
   "outputs": [],
   "source": [
    "sample1['DISBURSE_TIME'] = pd.to_datetime(sample1['DISBURSE_TIME'], format='%Y-%m-%d %H:%M:%S.%f')\n",
    "sample1['POSTED_TIME'] = pd.to_datetime(sample1['POSTED_TIME'], format='%Y-%m-%d %H:%M:%S.%f')"
   ]
  },
  {
   "cell_type": "code",
   "execution_count": 58,
   "metadata": {},
   "outputs": [],
   "source": [
    "sample1['Difference']=sample1['POSTED_TIME']-sample1['DISBURSE_TIME'] "
   ]
  },
  {
   "cell_type": "code",
   "execution_count": 59,
   "metadata": {},
   "outputs": [
    {
     "data": {
      "text/plain": [
       "True     1924121\n",
       "False     166658\n",
       "dtype: int64"
      ]
     },
     "execution_count": 59,
     "metadata": {},
     "output_type": "execute_result"
    }
   ],
   "source": [
    "boolCheck=sample1['DISBURSE_TIME'] < sample1['POSTED_TIME']\n",
    "boolCheck.value_counts()"
   ]
  },
  {
   "cell_type": "code",
   "execution_count": 60,
   "metadata": {},
   "outputs": [],
   "source": [
    "sample1['PREDISBURSE']=sample1['DISBURSE_TIME'] < sample1['POSTED_TIME']"
   ]
  },
  {
   "cell_type": "code",
   "execution_count": 61,
   "metadata": {},
   "outputs": [
    {
     "data": {
      "text/plain": [
       "True     1924121\n",
       "False     166658\n",
       "Name: PREDISBURSE, dtype: int64"
      ]
     },
     "execution_count": 61,
     "metadata": {},
     "output_type": "execute_result"
    }
   ],
   "source": [
    "sample1['PREDISBURSE'].value_counts()"
   ]
  },
  {
   "cell_type": "code",
   "execution_count": 62,
   "metadata": {},
   "outputs": [],
   "source": [
    "sample1[\"PREDISBURSE\"] = sample1[\"PREDISBURSE\"].astype(int)"
   ]
  },
  {
   "cell_type": "code",
   "execution_count": 63,
   "metadata": {},
   "outputs": [
    {
     "data": {
      "text/plain": [
       "1    1924121\n",
       "0     166658\n",
       "Name: PREDISBURSE, dtype: int64"
      ]
     },
     "execution_count": 63,
     "metadata": {},
     "output_type": "execute_result"
    }
   ],
   "source": [
    "sample1['PREDISBURSE'].value_counts()"
   ]
  },
  {
   "cell_type": "code",
   "execution_count": 64,
   "metadata": {},
   "outputs": [
    {
     "data": {
      "text/html": [
       "<div>\n",
       "<style scoped>\n",
       "    .dataframe tbody tr th:only-of-type {\n",
       "        vertical-align: middle;\n",
       "    }\n",
       "\n",
       "    .dataframe tbody tr th {\n",
       "        vertical-align: top;\n",
       "    }\n",
       "\n",
       "    .dataframe thead th {\n",
       "        text-align: right;\n",
       "    }\n",
       "</style>\n",
       "<table border=\"1\" class=\"dataframe\">\n",
       "  <thead>\n",
       "    <tr style=\"text-align: right;\">\n",
       "      <th></th>\n",
       "      <th>Difference</th>\n",
       "      <th>PREDISBURSE</th>\n",
       "    </tr>\n",
       "  </thead>\n",
       "  <tbody>\n",
       "    <tr>\n",
       "      <th>0</th>\n",
       "      <td>2 days 00:05:43</td>\n",
       "      <td>1</td>\n",
       "    </tr>\n",
       "    <tr>\n",
       "      <th>1</th>\n",
       "      <td>5 days 01:19:01</td>\n",
       "      <td>1</td>\n",
       "    </tr>\n",
       "    <tr>\n",
       "      <th>2</th>\n",
       "      <td>26 days 20:20:31</td>\n",
       "      <td>1</td>\n",
       "    </tr>\n",
       "    <tr>\n",
       "      <th>3</th>\n",
       "      <td>-5 days +02:27:20</td>\n",
       "      <td>0</td>\n",
       "    </tr>\n",
       "    <tr>\n",
       "      <th>4</th>\n",
       "      <td>15 days 06:53:09</td>\n",
       "      <td>1</td>\n",
       "    </tr>\n",
       "    <tr>\n",
       "      <th>...</th>\n",
       "      <td>...</td>\n",
       "      <td>...</td>\n",
       "    </tr>\n",
       "    <tr>\n",
       "      <th>2185235</th>\n",
       "      <td>26 days 09:45:14</td>\n",
       "      <td>1</td>\n",
       "    </tr>\n",
       "    <tr>\n",
       "      <th>2185236</th>\n",
       "      <td>30 days 03:35:23</td>\n",
       "      <td>1</td>\n",
       "    </tr>\n",
       "    <tr>\n",
       "      <th>2185238</th>\n",
       "      <td>28 days 19:32:51</td>\n",
       "      <td>1</td>\n",
       "    </tr>\n",
       "    <tr>\n",
       "      <th>2185239</th>\n",
       "      <td>13 days 03:28:06</td>\n",
       "      <td>1</td>\n",
       "    </tr>\n",
       "    <tr>\n",
       "      <th>2185240</th>\n",
       "      <td>-28 days +04:31:35</td>\n",
       "      <td>0</td>\n",
       "    </tr>\n",
       "  </tbody>\n",
       "</table>\n",
       "<p>2090779 rows × 2 columns</p>\n",
       "</div>"
      ],
      "text/plain": [
       "                Difference  PREDISBURSE\n",
       "0          2 days 00:05:43            1\n",
       "1          5 days 01:19:01            1\n",
       "2         26 days 20:20:31            1\n",
       "3        -5 days +02:27:20            0\n",
       "4         15 days 06:53:09            1\n",
       "...                    ...          ...\n",
       "2185235   26 days 09:45:14            1\n",
       "2185236   30 days 03:35:23            1\n",
       "2185238   28 days 19:32:51            1\n",
       "2185239   13 days 03:28:06            1\n",
       "2185240 -28 days +04:31:35            0\n",
       "\n",
       "[2090779 rows x 2 columns]"
      ]
     },
     "execution_count": 64,
     "metadata": {},
     "output_type": "execute_result"
    }
   ],
   "source": [
    "sample1[['Difference','PREDISBURSE']]"
   ]
  },
  {
   "cell_type": "code",
   "execution_count": null,
   "metadata": {},
   "outputs": [],
   "source": [
    "#sample1['PREDISBURSE']=sample1['Difference'].apply(lambda x:0 if x>0 else 1 )"
   ]
  },
  {
   "cell_type": "markdown",
   "metadata": {},
   "source": [
    "12. Exame variable 'CURRENCY_EXCHANGE_COVERAGE_RATE'. How many unique values for this variable? How many missing?<br>\n",
    "Before we rush to replace missing values with mode, we ask the question: is the missing value actually missing or is it something else? We then read the policies on Kiva about exchange coverage. For instance, a lender gives 25 in US dollars and it changes to 250 in another currency. But when the money is repaid at 250 in the other currency, it only exchanges to 20 US dollars. The CURRENCY_EXCHANGE_COVERAGE_RATE measures how much such loss will be covered by the field partners. Some would cover 10% or 20%. So, it is more likely that the missing values indicating the loan does not have any coverage. So, it's more likely means 0.<br>\n",
    "Replace the missing value with 0."
   ]
  },
  {
   "cell_type": "code",
   "execution_count": 65,
   "metadata": {},
   "outputs": [
    {
     "name": "stdout",
     "output_type": "stream",
     "text": [
      "0    0.1\n",
      "1    0.1\n",
      "2    0.2\n",
      "3    0.1\n",
      "4    NaN\n",
      "5    0.1\n",
      "6    0.1\n",
      "7    0.1\n",
      "8    0.1\n",
      "9    NaN\n",
      "Name: CURRENCY_EXCHANGE_COVERAGE_RATE, dtype: float64\n"
     ]
    }
   ],
   "source": [
    "print(sample1['CURRENCY_EXCHANGE_COVERAGE_RATE'].head(10))"
   ]
  },
  {
   "cell_type": "code",
   "execution_count": 66,
   "metadata": {},
   "outputs": [
    {
     "data": {
      "text/plain": [
       "[0.1, 0.2, nan, 0.0]"
      ]
     },
     "execution_count": 66,
     "metadata": {},
     "output_type": "execute_result"
    }
   ],
   "source": [
    "#Printing the unique values\n",
    "list(sample1[ 'CURRENCY_EXCHANGE_COVERAGE_RATE'].unique())"
   ]
  },
  {
   "cell_type": "code",
   "execution_count": 67,
   "metadata": {},
   "outputs": [
    {
     "data": {
      "text/plain": [
       "495274"
      ]
     },
     "execution_count": 67,
     "metadata": {},
     "output_type": "execute_result"
    }
   ],
   "source": [
    "sample1['CURRENCY_EXCHANGE_COVERAGE_RATE'].isna().sum().sum()"
   ]
  },
  {
   "cell_type": "code",
   "execution_count": 68,
   "metadata": {},
   "outputs": [
    {
     "name": "stdout",
     "output_type": "stream",
     "text": [
      "0          0.1\n",
      "1          0.1\n",
      "2          0.2\n",
      "3          0.1\n",
      "4          0.0\n",
      "          ... \n",
      "2185235    0.1\n",
      "2185236    0.1\n",
      "2185238    0.1\n",
      "2185239    0.1\n",
      "2185240    0.1\n",
      "Name: CURRENCY_EXCHANGE_COVERAGE_RATE, Length: 2090779, dtype: float64\n"
     ]
    }
   ],
   "source": [
    "#Method 1\n",
    "sample1['CURRENCY_EXCHANGE_COVERAGE_RATE']= sample1['CURRENCY_EXCHANGE_COVERAGE_RATE'].replace([np.NaN], 0)\n",
    "print(sample1['CURRENCY_EXCHANGE_COVERAGE_RATE'])"
   ]
  },
  {
   "cell_type": "code",
   "execution_count": 69,
   "metadata": {},
   "outputs": [
    {
     "data": {
      "text/plain": [
       "0"
      ]
     },
     "execution_count": 69,
     "metadata": {},
     "output_type": "execute_result"
    }
   ],
   "source": [
    "sample1['CURRENCY_EXCHANGE_COVERAGE_RATE'].isna().sum().sum()"
   ]
  },
  {
   "cell_type": "code",
   "execution_count": 70,
   "metadata": {},
   "outputs": [
    {
     "data": {
      "text/plain": [
       "0.1    1309510\n",
       "0.0     606046\n",
       "0.2     175223\n",
       "Name: CURRENCY_EXCHANGE_COVERAGE_RATE, dtype: int64"
      ]
     },
     "execution_count": 70,
     "metadata": {},
     "output_type": "execute_result"
    }
   ],
   "source": [
    "sample1['CURRENCY_EXCHANGE_COVERAGE_RATE'].value_counts()"
   ]
  },
  {
   "cell_type": "markdown",
   "metadata": {},
   "source": [
    "### Assignment 10&11 starts here.\n",
    "Q13-26 6 points each; Q27: 10 points; Extra question: 10 points."
   ]
  },
  {
   "cell_type": "markdown",
   "metadata": {},
   "source": [
    "13. Take a look at the data after we have done the 12 steps above. We will continue the preparation. \n",
    "Check the unique values of 'ACTIVITY_NAME' and 'SECTOR_NAME'. You may notice that there are many more activities than sectors and Sector is higher-level categorization of loans. We can choose one of them. To keep the results easier to read. We can keep sector name.\n",
    "'LOAN_NAME' seems irrelevant to whether a loan is funded. We have not learned how to process 'DESCRIPTION' and 'DESCRIPTION_TRANSLATED'. 'FUNDED_AMOUNT' is the amount that actually raised at the end. Most times it is the same as 'LOAN_AMOUNT'.  After doing similar analysis with every variable, we decide to keep only the following variables in the final analysis: <br>\n",
    "LOAN_ID<br>\n",
    "ORIGINAL_LANGUAGE<br>\n",
    "LOAN_AMOUNT (and the logAmount variable we created)<br>\n",
    "STATUS<br>\n",
    "IMAGE_ID (the one we coded to 0/1)<br>\n",
    "SECTOR_NAME                              \n",
    "COUNTRY_NAME                             \n",
    "CURRENCY_POLICY                          \n",
    "CURRENCY_EXCHANGE_COVERAGE_RATE (the one we tranfromed)<br>\n",
    "POSTED_TIME  (and the TIME_LENGTH we created)<br>\n",
    "DISBURSE_TIME (and the PREDISBURSE we created)<br>\n",
    "RAISED_TIME                        \n",
    "LENDER_TERM                   \n",
    "NUM_JOURNAL_ENTRIES  \n",
    "NUM_BULK_ENTRIES     \n",
    "REPAYMENT_INTERVAL  \n",
    "DISTRIBUTION_MODEL "
   ]
  },
  {
   "cell_type": "markdown",
   "metadata": {},
   "source": [
    "Create a copy of the dataset that only contains the variables listed above. You may use the list of variable names to slice the dataframe we have from Step 12 in Assignment 8&9."
   ]
  },
  {
   "cell_type": "code",
   "execution_count": 71,
   "metadata": {},
   "outputs": [
    {
     "data": {
      "text/plain": [
       "array(['Fish Selling', 'General Store', 'Motorcycle Repair',\n",
       "       'Food Production/Sales', 'Bricks', 'Retail', 'Knitting', 'Farming',\n",
       "       'Personal Housing Expenses', 'Food Stall', 'Home Appliances',\n",
       "       'Pigs', 'Clothing Sales', 'Grocery Store', 'Beverages',\n",
       "       'Farm Supplies', 'Personal Expenses', 'Fruits & Vegetables',\n",
       "       'Food Market', 'Liquor Store / Off-License', 'Charcoal Sales',\n",
       "       'Bakery', 'Manufacturing', 'Primary/secondary school costs',\n",
       "       'Taxi', 'Cattle', 'Higher education costs', 'Fishing',\n",
       "       'Animal Sales', 'Livestock', 'Cereals', 'Motorcycle Transport',\n",
       "       'Sewing', 'Clothing', 'Internet Cafe', 'Poultry',\n",
       "       'Personal Products Sales', 'Beauty Salon', 'Education provider',\n",
       "       'Furniture Making', 'Used Clothing', 'Agriculture',\n",
       "       'Fuel/Firewood', 'Food', 'Shoe Sales', 'Home Products Sales',\n",
       "       'Consumer Goods', 'Computers', 'Office Supplies', 'Rickshaw',\n",
       "       'Vehicle', 'Tailoring', 'Transportation',\n",
       "       'Personal Medical Expenses', 'Home Energy', 'Embroidery',\n",
       "       'Auto Repair', 'Cosmetics Sales', 'Aquaculture', 'Computer',\n",
       "       'Goods Distribution', 'Butcher Shop', 'Weaving', 'Crafts', 'Dairy',\n",
       "       'Phone Use Sales', 'Decorations Sales', 'Pharmacy', 'Adult Care',\n",
       "       'Property', 'Services', 'Hotel', 'Florist',\n",
       "       'Cloth & Dressmaking Supplies', 'Mobile Phones', 'Restaurant',\n",
       "       'Health', 'Perfumes', 'Electronics Sales', 'Milk Sales',\n",
       "       'Recycled Materials', 'Timber Sales', 'Construction Supplies',\n",
       "       'Printing', 'Spare Parts', 'Cement', 'Party Supplies', 'Cafe',\n",
       "       'Construction', 'Veterinary Sales', 'Electrician',\n",
       "       'Souvenir Sales', 'Used Shoes', 'Plastics Sales', 'Cheese Making',\n",
       "       'Photography', 'Flowers', 'Cobbler', 'Jewelry',\n",
       "       'Secretarial Services', 'Blacksmith', 'Carpentry', 'Recycling',\n",
       "       'Games', 'Barber Shop', 'Natural Medicines', 'Child Care',\n",
       "       'Vehicle Repairs', 'Paper Sales', 'Catering', 'Bicycle Repair',\n",
       "       'Hardware', 'Phone Accessories', 'Electronics Repair',\n",
       "       'Music Discs & Tapes', 'Metal Shop', 'Traveling Sales', 'Pub',\n",
       "       'Renewable Energy Products', 'Dental', 'Electrical Goods',\n",
       "       'Bookstore', 'Textiles', 'Upholstery', 'Mobile Transactions',\n",
       "       'Land Rental', 'Tourism', 'Arts', 'Water Distribution',\n",
       "       'Wholesale', 'Movie Tapes & DVDs', 'Sporting Good Sales',\n",
       "       'Wedding Expenses', 'Laundry', 'Beekeeping', 'Energy',\n",
       "       'Machinery Rental', 'Entertainment', 'Waste Management',\n",
       "       'Medical Clinic', 'Religious Articles', 'Event Planning',\n",
       "       'Landscaping / Gardening', 'Quarrying', 'Musical Performance',\n",
       "       'Bicycle Sales', 'Funerals', 'Cleaning Services', 'Balut-Making',\n",
       "       'Utilities', 'Celebrations', 'Machine Shop', 'Patchwork',\n",
       "       'Well digging', 'Phone Repair', 'Personal Care Products',\n",
       "       'Air Conditioning', 'Musical Instruments', 'Communications',\n",
       "       'Call Center', 'Technology', 'Bookbinding', 'Film'], dtype=object)"
      ]
     },
     "execution_count": 71,
     "metadata": {},
     "output_type": "execute_result"
    },
    {
     "data": {
      "text/plain": [
       "array(['Food', 'Retail', 'Services', 'Construction', 'Arts',\n",
       "       'Agriculture', 'Housing', 'Personal Use', 'Clothing',\n",
       "       'Manufacturing', 'Education', 'Transportation', 'Health',\n",
       "       'Wholesale', 'Entertainment'], dtype=object)"
      ]
     },
     "execution_count": 71,
     "metadata": {},
     "output_type": "execute_result"
    }
   ],
   "source": [
    "sample1['ACTIVITY_NAME'].unique()\n",
    "sample1['SECTOR_NAME'].unique()"
   ]
  },
  {
   "cell_type": "markdown",
   "metadata": {},
   "source": [
    "Sector is higher level categorization of loans as it has less values than activity\n"
   ]
  },
  {
   "cell_type": "code",
   "execution_count": 72,
   "metadata": {},
   "outputs": [],
   "source": [
    "selected_columns=sample1[['LOAN_ID','ORIGINAL_LANGUAGE','LOAN_AMOUNT','logAmount','STATUS','IMAGE_ID','SECTOR_NAME','COUNTRY_NAME','CURRENCY_POLICY',\n",
    "'CURRENCY_EXCHANGE_COVERAGE_RATE','POSTED_TIME','TIME_LENGTH','DISBURSE_TIME','PREDISBURSE','RAISED_TIME','LENDER_TERM','NUM_JOURNAL_ENTRIES',\n",
    "'NUM_BULK_ENTRIES','REPAYMENT_INTERVAL','DISTRIBUTION_MODEL']]\n"
   ]
  },
  {
   "cell_type": "code",
   "execution_count": 73,
   "metadata": {},
   "outputs": [],
   "source": [
    "#Created a copy of the dataframe using selected columns\n",
    "sample2=selected_columns.copy()"
   ]
  },
  {
   "cell_type": "code",
   "execution_count": 74,
   "metadata": {},
   "outputs": [
    {
     "data": {
      "text/html": [
       "<div>\n",
       "<style scoped>\n",
       "    .dataframe tbody tr th:only-of-type {\n",
       "        vertical-align: middle;\n",
       "    }\n",
       "\n",
       "    .dataframe tbody tr th {\n",
       "        vertical-align: top;\n",
       "    }\n",
       "\n",
       "    .dataframe thead th {\n",
       "        text-align: right;\n",
       "    }\n",
       "</style>\n",
       "<table border=\"1\" class=\"dataframe\">\n",
       "  <thead>\n",
       "    <tr style=\"text-align: right;\">\n",
       "      <th></th>\n",
       "      <th>LOAN_ID</th>\n",
       "      <th>ORIGINAL_LANGUAGE</th>\n",
       "      <th>LOAN_AMOUNT</th>\n",
       "      <th>logAmount</th>\n",
       "      <th>STATUS</th>\n",
       "      <th>IMAGE_ID</th>\n",
       "      <th>SECTOR_NAME</th>\n",
       "      <th>COUNTRY_NAME</th>\n",
       "      <th>CURRENCY_POLICY</th>\n",
       "      <th>CURRENCY_EXCHANGE_COVERAGE_RATE</th>\n",
       "      <th>POSTED_TIME</th>\n",
       "      <th>TIME_LENGTH</th>\n",
       "      <th>DISBURSE_TIME</th>\n",
       "      <th>PREDISBURSE</th>\n",
       "      <th>RAISED_TIME</th>\n",
       "      <th>LENDER_TERM</th>\n",
       "      <th>NUM_JOURNAL_ENTRIES</th>\n",
       "      <th>NUM_BULK_ENTRIES</th>\n",
       "      <th>REPAYMENT_INTERVAL</th>\n",
       "      <th>DISTRIBUTION_MODEL</th>\n",
       "    </tr>\n",
       "  </thead>\n",
       "  <tbody>\n",
       "    <tr>\n",
       "      <th>0</th>\n",
       "      <td>1057058</td>\n",
       "      <td>English</td>\n",
       "      <td>300</td>\n",
       "      <td>5.703782</td>\n",
       "      <td>funded</td>\n",
       "      <td>1.0</td>\n",
       "      <td>Food</td>\n",
       "      <td>Kenya</td>\n",
       "      <td>shared</td>\n",
       "      <td>0.1</td>\n",
       "      <td>2016-04-20 07:05:43+00:00</td>\n",
       "      <td>5 days 21:55:15</td>\n",
       "      <td>2016-04-18 07:00:00+00:00</td>\n",
       "      <td>1</td>\n",
       "      <td>2016-04-26 05:00:58+00:00</td>\n",
       "      <td>14.0</td>\n",
       "      <td>1</td>\n",
       "      <td>1</td>\n",
       "      <td>monthly</td>\n",
       "      <td>field_partner</td>\n",
       "    </tr>\n",
       "    <tr>\n",
       "      <th>1</th>\n",
       "      <td>509472</td>\n",
       "      <td>English</td>\n",
       "      <td>300</td>\n",
       "      <td>5.703782</td>\n",
       "      <td>funded</td>\n",
       "      <td>1.0</td>\n",
       "      <td>Retail</td>\n",
       "      <td>Kenya</td>\n",
       "      <td>shared</td>\n",
       "      <td>0.1</td>\n",
       "      <td>2012-12-19 09:19:01+00:00</td>\n",
       "      <td>1 days 07:54:35</td>\n",
       "      <td>2012-12-14 08:00:00+00:00</td>\n",
       "      <td>1</td>\n",
       "      <td>2012-12-20 17:13:36+00:00</td>\n",
       "      <td>14.0</td>\n",
       "      <td>3</td>\n",
       "      <td>2</td>\n",
       "      <td>monthly</td>\n",
       "      <td>field_partner</td>\n",
       "    </tr>\n",
       "    <tr>\n",
       "      <th>2</th>\n",
       "      <td>344324</td>\n",
       "      <td>English</td>\n",
       "      <td>475</td>\n",
       "      <td>6.163315</td>\n",
       "      <td>funded</td>\n",
       "      <td>1.0</td>\n",
       "      <td>Services</td>\n",
       "      <td>Philippines</td>\n",
       "      <td>shared</td>\n",
       "      <td>0.2</td>\n",
       "      <td>2011-10-10 03:20:31+00:00</td>\n",
       "      <td>22 days 18:14:27</td>\n",
       "      <td>2011-09-13 07:00:00+00:00</td>\n",
       "      <td>1</td>\n",
       "      <td>2011-11-01 21:34:58+00:00</td>\n",
       "      <td>13.0</td>\n",
       "      <td>2</td>\n",
       "      <td>1</td>\n",
       "      <td>monthly</td>\n",
       "      <td>field_partner</td>\n",
       "    </tr>\n",
       "    <tr>\n",
       "      <th>3</th>\n",
       "      <td>768521</td>\n",
       "      <td>English</td>\n",
       "      <td>500</td>\n",
       "      <td>6.214608</td>\n",
       "      <td>funded</td>\n",
       "      <td>1.0</td>\n",
       "      <td>Food</td>\n",
       "      <td>Zimbabwe</td>\n",
       "      <td>shared</td>\n",
       "      <td>0.1</td>\n",
       "      <td>2014-09-15 09:27:20+00:00</td>\n",
       "      <td>2 days 05:06:46</td>\n",
       "      <td>2014-09-20 07:00:00+00:00</td>\n",
       "      <td>0</td>\n",
       "      <td>2014-09-17 14:34:06+00:00</td>\n",
       "      <td>8.0</td>\n",
       "      <td>2</td>\n",
       "      <td>1</td>\n",
       "      <td>monthly</td>\n",
       "      <td>field_partner</td>\n",
       "    </tr>\n",
       "    <tr>\n",
       "      <th>4</th>\n",
       "      <td>90984</td>\n",
       "      <td>Spanish</td>\n",
       "      <td>925</td>\n",
       "      <td>6.829794</td>\n",
       "      <td>funded</td>\n",
       "      <td>1.0</td>\n",
       "      <td>Construction</td>\n",
       "      <td>Peru</td>\n",
       "      <td>standard</td>\n",
       "      <td>0.0</td>\n",
       "      <td>2009-02-20 14:53:09+00:00</td>\n",
       "      <td>2 days 06:51:33</td>\n",
       "      <td>2009-02-05 08:00:00+00:00</td>\n",
       "      <td>1</td>\n",
       "      <td>2009-02-22 21:44:42+00:00</td>\n",
       "      <td>11.0</td>\n",
       "      <td>4</td>\n",
       "      <td>2</td>\n",
       "      <td>bullet</td>\n",
       "      <td>field_partner</td>\n",
       "    </tr>\n",
       "  </tbody>\n",
       "</table>\n",
       "</div>"
      ],
      "text/plain": [
       "   LOAN_ID ORIGINAL_LANGUAGE  LOAN_AMOUNT  logAmount  STATUS  IMAGE_ID  \\\n",
       "0  1057058           English          300   5.703782  funded       1.0   \n",
       "1   509472           English          300   5.703782  funded       1.0   \n",
       "2   344324           English          475   6.163315  funded       1.0   \n",
       "3   768521           English          500   6.214608  funded       1.0   \n",
       "4    90984           Spanish          925   6.829794  funded       1.0   \n",
       "\n",
       "    SECTOR_NAME COUNTRY_NAME CURRENCY_POLICY  CURRENCY_EXCHANGE_COVERAGE_RATE  \\\n",
       "0          Food        Kenya          shared                              0.1   \n",
       "1        Retail        Kenya          shared                              0.1   \n",
       "2      Services  Philippines          shared                              0.2   \n",
       "3          Food     Zimbabwe          shared                              0.1   \n",
       "4  Construction         Peru        standard                              0.0   \n",
       "\n",
       "                POSTED_TIME      TIME_LENGTH             DISBURSE_TIME  \\\n",
       "0 2016-04-20 07:05:43+00:00  5 days 21:55:15 2016-04-18 07:00:00+00:00   \n",
       "1 2012-12-19 09:19:01+00:00  1 days 07:54:35 2012-12-14 08:00:00+00:00   \n",
       "2 2011-10-10 03:20:31+00:00 22 days 18:14:27 2011-09-13 07:00:00+00:00   \n",
       "3 2014-09-15 09:27:20+00:00  2 days 05:06:46 2014-09-20 07:00:00+00:00   \n",
       "4 2009-02-20 14:53:09+00:00  2 days 06:51:33 2009-02-05 08:00:00+00:00   \n",
       "\n",
       "   PREDISBURSE               RAISED_TIME  LENDER_TERM  NUM_JOURNAL_ENTRIES  \\\n",
       "0            1 2016-04-26 05:00:58+00:00         14.0                    1   \n",
       "1            1 2012-12-20 17:13:36+00:00         14.0                    3   \n",
       "2            1 2011-11-01 21:34:58+00:00         13.0                    2   \n",
       "3            0 2014-09-17 14:34:06+00:00          8.0                    2   \n",
       "4            1 2009-02-22 21:44:42+00:00         11.0                    4   \n",
       "\n",
       "   NUM_BULK_ENTRIES REPAYMENT_INTERVAL DISTRIBUTION_MODEL  \n",
       "0                 1            monthly      field_partner  \n",
       "1                 2            monthly      field_partner  \n",
       "2                 1            monthly      field_partner  \n",
       "3                 1            monthly      field_partner  \n",
       "4                 2             bullet      field_partner  "
      ]
     },
     "execution_count": 74,
     "metadata": {},
     "output_type": "execute_result"
    }
   ],
   "source": [
    "sample2.head()"
   ]
  },
  {
   "cell_type": "code",
   "execution_count": 213,
   "metadata": {},
   "outputs": [
    {
     "data": {
      "text/plain": [
       "<AxesSubplot:>"
      ]
     },
     "execution_count": 213,
     "metadata": {},
     "output_type": "execute_result"
    },
    {
     "data": {
      "image/png": "[encoded data removed]",
      "text/plain": [
       "<Figure size 720x576 with 2 Axes>"
      ]
     },
     "metadata": {},
     "output_type": "display_data"
    }
   ],
   "source": [
    "selected_column=sample1[['LOAN_ID','ORIGINAL_LANGUAGE','LOAN_AMOUNT','logAmount','STATUS','SECTOR_NAME','COUNTRY_NAME','CURRENCY_POLICY',\n",
    "'CURRENCY_EXCHANGE_COVERAGE_RATE','POSTED_TIME','TIME_LENGTH','DISBURSE_TIME','PREDISBURSE','RAISED_TIME','LENDER_TERM','NUM_JOURNAL_ENTRIES',\n",
    "'NUM_BULK_ENTRIES','REPAYMENT_INTERVAL','DISTRIBUTION_MODEL']]\n",
    "fig = plt.figure(figsize=(10,8))\n",
    "sns.heatmap(selected_column.corr(), annot=True)"
   ]
  },
  {
   "cell_type": "markdown",
   "metadata": {},
   "source": [
    "14. Next we start to explore the data. You need to import matplotlib. First, make two histograms for 'LOAN_AMOUNT' and 'logAMount'. How are they different?"
   ]
  },
  {
   "cell_type": "code",
   "execution_count": 75,
   "metadata": {},
   "outputs": [],
   "source": [
    "import matplotlib.pyplot as plt"
   ]
  },
  {
   "cell_type": "code",
   "execution_count": 76,
   "metadata": {},
   "outputs": [],
   "source": [
    "%matplotlib inline"
   ]
  },
  {
   "cell_type": "code",
   "execution_count": 77,
   "metadata": {},
   "outputs": [
    {
     "data": {
      "text/plain": [
       "(array([2.00001763e-05, 5.12554909e-10, 6.40693637e-11, 1.46444260e-10,\n",
       "        9.15276624e-12, 0.00000000e+00, 0.00000000e+00, 9.15276624e-12,\n",
       "        2.74582987e-11, 5.49165974e-11]),\n",
       " array([2.500000e+01, 5.002250e+04, 1.000200e+05, 1.500175e+05,\n",
       "        2.000150e+05, 2.500125e+05, 3.000100e+05, 3.500075e+05,\n",
       "        4.000050e+05, 4.500025e+05, 5.000000e+05]),\n",
       " <BarContainer object of 10 artists>)"
      ]
     },
     "execution_count": 77,
     "metadata": {},
     "output_type": "execute_result"
    },
    {
     "data": {
      "image/png": "[encoded data removed]",
      "text/plain": [
       "<Figure size 432x288 with 1 Axes>"
      ]
     },
     "metadata": {
      "needs_background": "light"
     },
     "output_type": "display_data"
    }
   ],
   "source": [
    "#loan amount from original data frame. Its a straight line. We have to tranform it .\n",
    "plt.hist(df1['LOAN_AMOUNT'], density=True, bins=10)"
   ]
  },
  {
   "cell_type": "code",
   "execution_count": 78,
   "metadata": {},
   "outputs": [
    {
     "data": {
      "text/plain": [
       "(array([1.11239861e-03, 1.01792730e-03, 4.77301620e-04, 3.89482597e-04,\n",
       "        1.26939954e-04, 1.03923636e-04, 6.55679704e-05, 3.62122751e-05,\n",
       "        3.44044987e-05, 2.56720468e-05]),\n",
       " array([  25.,  320.,  615.,  910., 1205., 1500., 1795., 2090., 2385.,\n",
       "        2680., 2975.]),\n",
       " <BarContainer object of 10 artists>)"
      ]
     },
     "execution_count": 78,
     "metadata": {},
     "output_type": "execute_result"
    },
    {
     "data": {
      "image/png": "[encoded data removed]",
      "text/plain": [
       "<Figure size 432x288 with 1 Axes>"
      ]
     },
     "metadata": {
      "needs_background": "light"
     },
     "output_type": "display_data"
    }
   ],
   "source": [
    "#Loan amount after removing outliers. It is negatively skewed\n",
    "plt.hist(sample2['LOAN_AMOUNT'], density=True, bins=10)"
   ]
  },
  {
   "cell_type": "code",
   "execution_count": 79,
   "metadata": {},
   "outputs": [
    {
     "data": {
      "text/plain": [
       "(array([0.00191151, 0.00933738, 0.06586509, 0.13547014, 0.32438055,\n",
       "        0.43882807, 0.45933228, 0.36567321, 0.1973771 , 0.09425855]),\n",
       " array([3.21887582, 3.69678817, 4.17470052, 4.65261287, 5.13052522,\n",
       "        5.60843757, 6.08634992, 6.56426227, 7.04217462, 7.52008697,\n",
       "        7.99799932]),\n",
       " <BarContainer object of 10 artists>)"
      ]
     },
     "execution_count": 79,
     "metadata": {},
     "output_type": "execute_result"
    },
    {
     "data": {
      "image/png": "[encoded data removed]",
      "text/plain": [
       "<Figure size 432x288 with 1 Axes>"
      ]
     },
     "metadata": {
      "needs_background": "light"
     },
     "output_type": "display_data"
    }
   ],
   "source": [
    "#LOAN AMOUNT after taking log transformation\n",
    "plt.hist(sample2['logAmount'], density=True, bins=10)"
   ]
  },
  {
   "cell_type": "markdown",
   "metadata": {},
   "source": [
    "15. What is the total loan amount in each sector? Create a bar chart to demonstrate."
   ]
  },
  {
   "cell_type": "code",
   "execution_count": 80,
   "metadata": {},
   "outputs": [
    {
     "data": {
      "text/plain": [
       "0                  Food\n",
       "1                Retail\n",
       "2              Services\n",
       "3                  Food\n",
       "4          Construction\n",
       "               ...     \n",
       "2185235            Food\n",
       "2185236          Retail\n",
       "2185238       Education\n",
       "2185239            Food\n",
       "2185240     Agriculture\n",
       "Name: SECTOR_NAME, Length: 2090779, dtype: object"
      ]
     },
     "execution_count": 80,
     "metadata": {},
     "output_type": "execute_result"
    }
   ],
   "source": [
    "sample2['SECTOR_NAME']"
   ]
  },
  {
   "cell_type": "code",
   "execution_count": 191,
   "metadata": {},
   "outputs": [
    {
     "data": {
      "text/plain": [
       "Text(0.5, 1.0, 'Loan amount by sector')"
      ]
     },
     "execution_count": 191,
     "metadata": {},
     "output_type": "execute_result"
    },
    {
     "data": {
      "text/plain": [
       "<AxesSubplot:title={'center':'Loan amount by sector'}, xlabel='LOAN_AMOUNT', ylabel='SECTOR_NAME'>"
      ]
     },
     "execution_count": 191,
     "metadata": {},
     "output_type": "execute_result"
    },
    {
     "data": {
      "image/png": "[encoded data removed]",
      "text/plain": [
       "<Figure size 432x288 with 1 Axes>"
      ]
     },
     "metadata": {},
     "output_type": "display_data"
    }
   ],
   "source": [
    "#Method 1- Bar chart\n",
    "import seaborn as sns\n",
    "plt.title('Loan amount by sector', fontsize=16)\n",
    "sns.barplot(y=\"SECTOR_NAME\",x=\"LOAN_AMOUNT\",data = sample2)\n",
    "plt.show()\n"
   ]
  },
  {
   "cell_type": "code",
   "execution_count": 187,
   "metadata": {},
   "outputs": [
    {
     "data": {
      "text/plain": [
       "<Figure size 720x432 with 0 Axes>"
      ]
     },
     "execution_count": 187,
     "metadata": {},
     "output_type": "execute_result"
    },
    {
     "data": {
      "text/plain": [
       "Text(0.5, 1.0, 'Loan amount by sector')"
      ]
     },
     "execution_count": 187,
     "metadata": {},
     "output_type": "execute_result"
    },
    {
     "data": {
      "image/png": "[encoded data removed]",
      "text/plain": [
       "<Figure size 720x432 with 1 Axes>"
      ]
     },
     "metadata": {},
     "output_type": "display_data"
    }
   ],
   "source": [
    "#Method2-Box plot\n",
    "plt.figure(figsize=(10,6))\n",
    "ax = sns.boxplot(x='LOAN_AMOUNT',y='SECTOR_NAME', data=df1, showfliers=False)\n",
    "plt.title('Loan amount by sector', fontsize=16)"
   ]
  },
  {
   "cell_type": "markdown",
   "metadata": {},
   "source": [
    "16. What is the total number of loans in each country? Create a bar chart to demonstrate."
   ]
  },
  {
   "cell_type": "code",
   "execution_count": null,
   "metadata": {},
   "outputs": [],
   "source": [
    "#sample1['LOAN_ID'].count()"
   ]
  },
  {
   "cell_type": "code",
   "execution_count": null,
   "metadata": {},
   "outputs": [],
   "source": [
    "#import seaborn as sns\n",
    "#fig_dims = (20, 20)\n",
    "#fig, ax = plt.subplots(figsize=fig_dims)\n",
    "#sns.barplot(y=\"COUNTRY_NAME\",x=\"LOAN_ID\",ax = ax,data = sample1)\n",
    "#sns.countplot(x ='LOAN_ID', data = df)\n",
    "#plt.show()"
   ]
  },
  {
   "cell_type": "code",
   "execution_count": 192,
   "metadata": {},
   "outputs": [
    {
     "data": {
      "text/plain": [
       "Text(0.5, 1.0, 'Total number of loans in each country')"
      ]
     },
     "execution_count": 192,
     "metadata": {},
     "output_type": "execute_result"
    },
    {
     "data": {
      "text/plain": [
       "<AxesSubplot:title={'center':'Total number of loans in each country'}, xlabel='LOAN_ID', ylabel='COUNTRY_NAME'>"
      ]
     },
     "execution_count": 192,
     "metadata": {},
     "output_type": "execute_result"
    },
    {
     "data": {
      "image/png": "[encoded data removed]",
      "text/plain": [
       "<Figure size 1440x1440 with 1 Axes>"
      ]
     },
     "metadata": {},
     "output_type": "display_data"
    }
   ],
   "source": [
    "#Method1-Without sorting\n",
    "import seaborn as sns\n",
    "from numpy import count_nonzero\n",
    "#new = sns.load_dataset('Vis.csv')\n",
    "fig_dims = (20, 20)\n",
    "fig, ax = plt.subplots(figsize=fig_dims)\n",
    "plt.title('Total number of loans in each country', fontsize=16)\n",
    "sns.barplot(x=\"LOAN_ID\",y='COUNTRY_NAME',ax = ax,data = sample2,estimator=count_nonzero)\n",
    "#sns.countplot(x ='LOAN_ID', data = df)\n",
    "plt.show()"
   ]
  },
  {
   "cell_type": "code",
   "execution_count": 173,
   "metadata": {},
   "outputs": [],
   "source": [
    "#Method2:After sorting the loan amount in descending order\n",
    "countries = df1['COUNTRY_NAME'].value_counts().reset_index()\n",
    "countries = countries.rename(columns={'index': 'country', 'country': 'Loan Count'})\n",
    "\n",
    "countries_total_funded = df1.groupby('COUNTRY_NAME').sum()['LOAN_AMOUNT'].reset_index().sort_values('LOAN_AMOUNT', ascending=False)\n",
    "countries_total_funded = countries_total_funded.rename(columns={'LOAN_AMOUNT':'Total Amount Loaned'})\n"
   ]
  },
  {
   "cell_type": "code",
   "execution_count": 193,
   "metadata": {},
   "outputs": [
    {
     "data": {
      "text/plain": [
       "Text(0.5, 1.0, 'Total number of loans in each country')"
      ]
     },
     "execution_count": 193,
     "metadata": {},
     "output_type": "execute_result"
    },
    {
     "data": {
      "text/plain": [
       "<AxesSubplot:title={'center':'Total number of loans in each country'}, xlabel='Total Amount Loaned', ylabel='COUNTRY_NAME'>"
      ]
     },
     "execution_count": 193,
     "metadata": {},
     "output_type": "execute_result"
    },
    {
     "data": {
      "image/png": "[encoded data removed]",
      "text/plain": [
       "<Figure size 1440x1440 with 1 Axes>"
      ]
     },
     "metadata": {},
     "output_type": "display_data"
    }
   ],
   "source": [
    "fig_dims = (20, 20)\n",
    "fig, ax = plt.subplots(figsize=fig_dims)\n",
    "plt.title('Total number of loans in each country', fontsize=16)\n",
    "sns.barplot(y=\"COUNTRY_NAME\",x='Total Amount Loaned',ax = ax,data =countries_total_funded)\n",
    "plt.show()"
   ]
  },
  {
   "cell_type": "markdown",
   "metadata": {},
   "source": [
    "17. Change the POSTED_TIME to DateTimeIndex and create a new variable 'Year' using the year of POSTED_TIME. What is the total number of loans in each year? Create a line graph to demonstrate."
   ]
  },
  {
   "cell_type": "code",
   "execution_count": 83,
   "metadata": {},
   "outputs": [],
   "source": [
    "#sample1 = sample1.set_index('POSTED_TIME')\n",
    "#sample1['Year']= pd.DatetimeIndex(sample1).year\n",
    "#Changing posted time to date time index\n",
    "sample2['Year'] = pd.DatetimeIndex(sample2['POSTED_TIME']).year"
   ]
  },
  {
   "cell_type": "code",
   "execution_count": 194,
   "metadata": {},
   "outputs": [
    {
     "data": {
      "text/plain": [
       "Text(0.5, 1.0, 'Total number of loans in each year')"
      ]
     },
     "execution_count": 194,
     "metadata": {},
     "output_type": "execute_result"
    },
    {
     "data": {
      "text/plain": [
       "[<matplotlib.lines.Line2D at 0x1f0ad60e0d0>]"
      ]
     },
     "execution_count": 194,
     "metadata": {},
     "output_type": "execute_result"
    },
    {
     "data": {
      "text/plain": [
       "Text(0.5, 0, 'Years')"
      ]
     },
     "execution_count": 194,
     "metadata": {},
     "output_type": "execute_result"
    },
    {
     "data": {
      "text/plain": [
       "Text(0, 0.5, 'total number of loans')"
      ]
     },
     "execution_count": 194,
     "metadata": {},
     "output_type": "execute_result"
    },
    {
     "data": {
      "image/png": "[encoded data removed]",
      "text/plain": [
       "<Figure size 432x288 with 1 Axes>"
      ]
     },
     "metadata": {},
     "output_type": "display_data"
    }
   ],
   "source": [
    "yeargroup=sample2.groupby(\"Year\")\n",
    "numberOfLoans=yeargroup[\"LOAN_ID\"].apply(list)\n",
    "x=[]\n",
    "y=[]\n",
    "for j in yeargroup:\n",
    "    x.append(j[0])\n",
    "    y.append(len(j[1][\"LOAN_ID\"]))\n",
    "plt.title('Total number of loans in each year', fontsize=16)\n",
    "plt.plot(x,y)\n",
    "plt.xlabel('Years')\n",
    "plt.ylabel('total number of loans')\n",
    "plt.show()"
   ]
  },
  {
   "cell_type": "code",
   "execution_count": 89,
   "metadata": {},
   "outputs": [],
   "source": [
    "#Total  number of loans in each year\n",
    "#sns.lineplot(x='Year',y='LOAN_ID', data=sample2, marker='d', ax=ax,estimator=count_nonzero)\n",
    "#plt.show()"
   ]
  },
  {
   "cell_type": "markdown",
   "metadata": {},
   "source": [
    "18. Create a pivot table to show the average loan amount in each sector each year."
   ]
  },
  {
   "cell_type": "code",
   "execution_count": 90,
   "metadata": {},
   "outputs": [
    {
     "data": {
      "text/html": [
       "<div>\n",
       "<style scoped>\n",
       "    .dataframe tbody tr th:only-of-type {\n",
       "        vertical-align: middle;\n",
       "    }\n",
       "\n",
       "    .dataframe tbody tr th {\n",
       "        vertical-align: top;\n",
       "    }\n",
       "\n",
       "    .dataframe thead th {\n",
       "        text-align: right;\n",
       "    }\n",
       "</style>\n",
       "<table border=\"1\" class=\"dataframe\">\n",
       "  <thead>\n",
       "    <tr style=\"text-align: right;\">\n",
       "      <th>Year</th>\n",
       "      <th>2006</th>\n",
       "      <th>2007</th>\n",
       "      <th>2008</th>\n",
       "      <th>2009</th>\n",
       "      <th>2010</th>\n",
       "      <th>2011</th>\n",
       "      <th>2012</th>\n",
       "      <th>2013</th>\n",
       "      <th>2014</th>\n",
       "      <th>2015</th>\n",
       "      <th>2016</th>\n",
       "      <th>2017</th>\n",
       "      <th>2018</th>\n",
       "      <th>2019</th>\n",
       "      <th>2020</th>\n",
       "      <th>2021</th>\n",
       "    </tr>\n",
       "    <tr>\n",
       "      <th>SECTOR_NAME</th>\n",
       "      <th></th>\n",
       "      <th></th>\n",
       "      <th></th>\n",
       "      <th></th>\n",
       "      <th></th>\n",
       "      <th></th>\n",
       "      <th></th>\n",
       "      <th></th>\n",
       "      <th></th>\n",
       "      <th></th>\n",
       "      <th></th>\n",
       "      <th></th>\n",
       "      <th></th>\n",
       "      <th></th>\n",
       "      <th></th>\n",
       "      <th></th>\n",
       "    </tr>\n",
       "  </thead>\n",
       "  <tbody>\n",
       "    <tr>\n",
       "      <th>Agriculture</th>\n",
       "      <td>677.455919</td>\n",
       "      <td>657.880235</td>\n",
       "      <td>684.617722</td>\n",
       "      <td>623.594413</td>\n",
       "      <td>678.098313</td>\n",
       "      <td>721.580157</td>\n",
       "      <td>764.921505</td>\n",
       "      <td>784.610301</td>\n",
       "      <td>710.890633</td>\n",
       "      <td>692.998049</td>\n",
       "      <td>654.891644</td>\n",
       "      <td>634.365077</td>\n",
       "      <td>638.312252</td>\n",
       "      <td>641.168366</td>\n",
       "      <td>533.840443</td>\n",
       "      <td>513.903631</td>\n",
       "    </tr>\n",
       "    <tr>\n",
       "      <th>Arts</th>\n",
       "      <td>765.441176</td>\n",
       "      <td>556.600877</td>\n",
       "      <td>594.340278</td>\n",
       "      <td>602.074167</td>\n",
       "      <td>737.452420</td>\n",
       "      <td>745.825751</td>\n",
       "      <td>822.846524</td>\n",
       "      <td>708.797554</td>\n",
       "      <td>726.123110</td>\n",
       "      <td>673.768835</td>\n",
       "      <td>639.175187</td>\n",
       "      <td>568.633703</td>\n",
       "      <td>605.140598</td>\n",
       "      <td>723.251998</td>\n",
       "      <td>780.572560</td>\n",
       "      <td>799.155786</td>\n",
       "    </tr>\n",
       "    <tr>\n",
       "      <th>Clothing</th>\n",
       "      <td>622.483221</td>\n",
       "      <td>646.504950</td>\n",
       "      <td>682.180233</td>\n",
       "      <td>708.049691</td>\n",
       "      <td>810.285639</td>\n",
       "      <td>812.513982</td>\n",
       "      <td>806.195974</td>\n",
       "      <td>779.448352</td>\n",
       "      <td>727.256545</td>\n",
       "      <td>765.992578</td>\n",
       "      <td>773.964771</td>\n",
       "      <td>751.634396</td>\n",
       "      <td>707.910490</td>\n",
       "      <td>746.540881</td>\n",
       "      <td>683.967112</td>\n",
       "      <td>675.896511</td>\n",
       "    </tr>\n",
       "    <tr>\n",
       "      <th>Construction</th>\n",
       "      <td>784.405941</td>\n",
       "      <td>730.501618</td>\n",
       "      <td>723.112892</td>\n",
       "      <td>725.808538</td>\n",
       "      <td>751.904880</td>\n",
       "      <td>808.087460</td>\n",
       "      <td>816.363636</td>\n",
       "      <td>832.622774</td>\n",
       "      <td>798.184912</td>\n",
       "      <td>795.549417</td>\n",
       "      <td>831.099935</td>\n",
       "      <td>753.264418</td>\n",
       "      <td>755.033784</td>\n",
       "      <td>837.999460</td>\n",
       "      <td>826.621297</td>\n",
       "      <td>836.826698</td>\n",
       "    </tr>\n",
       "    <tr>\n",
       "      <th>Education</th>\n",
       "      <td>NaN</td>\n",
       "      <td>794.642857</td>\n",
       "      <td>725.274725</td>\n",
       "      <td>666.281139</td>\n",
       "      <td>674.962121</td>\n",
       "      <td>751.921182</td>\n",
       "      <td>860.717309</td>\n",
       "      <td>857.643714</td>\n",
       "      <td>797.358823</td>\n",
       "      <td>878.200633</td>\n",
       "      <td>834.667050</td>\n",
       "      <td>846.851251</td>\n",
       "      <td>800.955204</td>\n",
       "      <td>778.835596</td>\n",
       "      <td>660.697207</td>\n",
       "      <td>353.612646</td>\n",
       "    </tr>\n",
       "    <tr>\n",
       "      <th>Entertainment</th>\n",
       "      <td>603.571429</td>\n",
       "      <td>531.250000</td>\n",
       "      <td>681.770833</td>\n",
       "      <td>681.500000</td>\n",
       "      <td>636.285714</td>\n",
       "      <td>801.954733</td>\n",
       "      <td>762.500000</td>\n",
       "      <td>812.931034</td>\n",
       "      <td>859.566327</td>\n",
       "      <td>863.425926</td>\n",
       "      <td>883.210784</td>\n",
       "      <td>987.008734</td>\n",
       "      <td>879.015544</td>\n",
       "      <td>881.250000</td>\n",
       "      <td>890.476190</td>\n",
       "      <td>807.692308</td>\n",
       "    </tr>\n",
       "    <tr>\n",
       "      <th>Food</th>\n",
       "      <td>647.490157</td>\n",
       "      <td>595.012937</td>\n",
       "      <td>645.766043</td>\n",
       "      <td>594.631202</td>\n",
       "      <td>647.141493</td>\n",
       "      <td>642.240619</td>\n",
       "      <td>648.798015</td>\n",
       "      <td>643.258057</td>\n",
       "      <td>641.785714</td>\n",
       "      <td>610.653760</td>\n",
       "      <td>615.656124</td>\n",
       "      <td>591.633768</td>\n",
       "      <td>586.867919</td>\n",
       "      <td>614.770576</td>\n",
       "      <td>530.509988</td>\n",
       "      <td>531.230650</td>\n",
       "    </tr>\n",
       "    <tr>\n",
       "      <th>Health</th>\n",
       "      <td>809.722222</td>\n",
       "      <td>714.716312</td>\n",
       "      <td>768.494624</td>\n",
       "      <td>717.414530</td>\n",
       "      <td>764.544808</td>\n",
       "      <td>766.472393</td>\n",
       "      <td>789.650229</td>\n",
       "      <td>912.354167</td>\n",
       "      <td>950.224359</td>\n",
       "      <td>856.627517</td>\n",
       "      <td>832.403759</td>\n",
       "      <td>823.549853</td>\n",
       "      <td>853.683460</td>\n",
       "      <td>823.819041</td>\n",
       "      <td>695.913819</td>\n",
       "      <td>686.162894</td>\n",
       "    </tr>\n",
       "    <tr>\n",
       "      <th>Housing</th>\n",
       "      <td>497.619048</td>\n",
       "      <td>787.557078</td>\n",
       "      <td>631.327160</td>\n",
       "      <td>608.928571</td>\n",
       "      <td>631.899763</td>\n",
       "      <td>744.884707</td>\n",
       "      <td>850.195122</td>\n",
       "      <td>859.677858</td>\n",
       "      <td>661.019399</td>\n",
       "      <td>751.556973</td>\n",
       "      <td>623.098599</td>\n",
       "      <td>534.126626</td>\n",
       "      <td>574.562354</td>\n",
       "      <td>355.497300</td>\n",
       "      <td>510.843721</td>\n",
       "      <td>467.710145</td>\n",
       "    </tr>\n",
       "    <tr>\n",
       "      <th>Manufacturing</th>\n",
       "      <td>876.190476</td>\n",
       "      <td>616.530612</td>\n",
       "      <td>726.793558</td>\n",
       "      <td>670.545746</td>\n",
       "      <td>743.929110</td>\n",
       "      <td>826.202091</td>\n",
       "      <td>845.851805</td>\n",
       "      <td>803.423849</td>\n",
       "      <td>731.741097</td>\n",
       "      <td>728.960964</td>\n",
       "      <td>699.875622</td>\n",
       "      <td>636.758837</td>\n",
       "      <td>650.751685</td>\n",
       "      <td>718.838939</td>\n",
       "      <td>627.807102</td>\n",
       "      <td>655.320069</td>\n",
       "    </tr>\n",
       "    <tr>\n",
       "      <th>Personal Use</th>\n",
       "      <td>NaN</td>\n",
       "      <td>NaN</td>\n",
       "      <td>746.153846</td>\n",
       "      <td>644.179104</td>\n",
       "      <td>697.666025</td>\n",
       "      <td>737.875817</td>\n",
       "      <td>788.401342</td>\n",
       "      <td>724.211449</td>\n",
       "      <td>529.979420</td>\n",
       "      <td>444.361989</td>\n",
       "      <td>349.416185</td>\n",
       "      <td>294.110319</td>\n",
       "      <td>351.096421</td>\n",
       "      <td>283.993123</td>\n",
       "      <td>253.967643</td>\n",
       "      <td>221.531244</td>\n",
       "    </tr>\n",
       "    <tr>\n",
       "      <th>Retail</th>\n",
       "      <td>662.877698</td>\n",
       "      <td>623.515683</td>\n",
       "      <td>691.455414</td>\n",
       "      <td>618.487384</td>\n",
       "      <td>650.325903</td>\n",
       "      <td>699.755453</td>\n",
       "      <td>679.337690</td>\n",
       "      <td>657.246254</td>\n",
       "      <td>618.527521</td>\n",
       "      <td>571.719380</td>\n",
       "      <td>561.685924</td>\n",
       "      <td>563.980374</td>\n",
       "      <td>574.041141</td>\n",
       "      <td>618.165944</td>\n",
       "      <td>492.503917</td>\n",
       "      <td>481.147661</td>\n",
       "    </tr>\n",
       "    <tr>\n",
       "      <th>Services</th>\n",
       "      <td>736.238532</td>\n",
       "      <td>647.101310</td>\n",
       "      <td>706.189457</td>\n",
       "      <td>746.038588</td>\n",
       "      <td>765.898531</td>\n",
       "      <td>802.365713</td>\n",
       "      <td>825.746151</td>\n",
       "      <td>784.132039</td>\n",
       "      <td>747.411047</td>\n",
       "      <td>733.736279</td>\n",
       "      <td>705.279056</td>\n",
       "      <td>682.342026</td>\n",
       "      <td>664.005483</td>\n",
       "      <td>720.331824</td>\n",
       "      <td>742.198436</td>\n",
       "      <td>739.478877</td>\n",
       "    </tr>\n",
       "    <tr>\n",
       "      <th>Transportation</th>\n",
       "      <td>935.795455</td>\n",
       "      <td>692.133132</td>\n",
       "      <td>713.596774</td>\n",
       "      <td>636.237133</td>\n",
       "      <td>672.727933</td>\n",
       "      <td>741.246883</td>\n",
       "      <td>700.107685</td>\n",
       "      <td>730.416355</td>\n",
       "      <td>604.249881</td>\n",
       "      <td>641.660939</td>\n",
       "      <td>602.621745</td>\n",
       "      <td>562.821603</td>\n",
       "      <td>573.966942</td>\n",
       "      <td>615.539514</td>\n",
       "      <td>581.886045</td>\n",
       "      <td>583.908371</td>\n",
       "    </tr>\n",
       "    <tr>\n",
       "      <th>Wholesale</th>\n",
       "      <td>NaN</td>\n",
       "      <td>645.185185</td>\n",
       "      <td>775.104603</td>\n",
       "      <td>813.472222</td>\n",
       "      <td>779.938272</td>\n",
       "      <td>888.250000</td>\n",
       "      <td>942.625000</td>\n",
       "      <td>1096.262887</td>\n",
       "      <td>1135.472973</td>\n",
       "      <td>1050.265957</td>\n",
       "      <td>809.731544</td>\n",
       "      <td>836.526946</td>\n",
       "      <td>803.968254</td>\n",
       "      <td>865.789474</td>\n",
       "      <td>863.271605</td>\n",
       "      <td>930.932203</td>\n",
       "    </tr>\n",
       "  </tbody>\n",
       "</table>\n",
       "</div>"
      ],
      "text/plain": [
       "Year                  2006        2007        2008        2009        2010  \\\n",
       "SECTOR_NAME                                                                  \n",
       "Agriculture     677.455919  657.880235  684.617722  623.594413  678.098313   \n",
       "Arts            765.441176  556.600877  594.340278  602.074167  737.452420   \n",
       "Clothing        622.483221  646.504950  682.180233  708.049691  810.285639   \n",
       "Construction    784.405941  730.501618  723.112892  725.808538  751.904880   \n",
       "Education              NaN  794.642857  725.274725  666.281139  674.962121   \n",
       "Entertainment   603.571429  531.250000  681.770833  681.500000  636.285714   \n",
       "Food            647.490157  595.012937  645.766043  594.631202  647.141493   \n",
       "Health          809.722222  714.716312  768.494624  717.414530  764.544808   \n",
       "Housing         497.619048  787.557078  631.327160  608.928571  631.899763   \n",
       "Manufacturing   876.190476  616.530612  726.793558  670.545746  743.929110   \n",
       "Personal Use           NaN         NaN  746.153846  644.179104  697.666025   \n",
       "Retail          662.877698  623.515683  691.455414  618.487384  650.325903   \n",
       "Services        736.238532  647.101310  706.189457  746.038588  765.898531   \n",
       "Transportation  935.795455  692.133132  713.596774  636.237133  672.727933   \n",
       "Wholesale              NaN  645.185185  775.104603  813.472222  779.938272   \n",
       "\n",
       "Year                  2011        2012         2013         2014         2015  \\\n",
       "SECTOR_NAME                                                                     \n",
       "Agriculture     721.580157  764.921505   784.610301   710.890633   692.998049   \n",
       "Arts            745.825751  822.846524   708.797554   726.123110   673.768835   \n",
       "Clothing        812.513982  806.195974   779.448352   727.256545   765.992578   \n",
       "Construction    808.087460  816.363636   832.622774   798.184912   795.549417   \n",
       "Education       751.921182  860.717309   857.643714   797.358823   878.200633   \n",
       "Entertainment   801.954733  762.500000   812.931034   859.566327   863.425926   \n",
       "Food            642.240619  648.798015   643.258057   641.785714   610.653760   \n",
       "Health          766.472393  789.650229   912.354167   950.224359   856.627517   \n",
       "Housing         744.884707  850.195122   859.677858   661.019399   751.556973   \n",
       "Manufacturing   826.202091  845.851805   803.423849   731.741097   728.960964   \n",
       "Personal Use    737.875817  788.401342   724.211449   529.979420   444.361989   \n",
       "Retail          699.755453  679.337690   657.246254   618.527521   571.719380   \n",
       "Services        802.365713  825.746151   784.132039   747.411047   733.736279   \n",
       "Transportation  741.246883  700.107685   730.416355   604.249881   641.660939   \n",
       "Wholesale       888.250000  942.625000  1096.262887  1135.472973  1050.265957   \n",
       "\n",
       "Year                  2016        2017        2018        2019        2020  \\\n",
       "SECTOR_NAME                                                                  \n",
       "Agriculture     654.891644  634.365077  638.312252  641.168366  533.840443   \n",
       "Arts            639.175187  568.633703  605.140598  723.251998  780.572560   \n",
       "Clothing        773.964771  751.634396  707.910490  746.540881  683.967112   \n",
       "Construction    831.099935  753.264418  755.033784  837.999460  826.621297   \n",
       "Education       834.667050  846.851251  800.955204  778.835596  660.697207   \n",
       "Entertainment   883.210784  987.008734  879.015544  881.250000  890.476190   \n",
       "Food            615.656124  591.633768  586.867919  614.770576  530.509988   \n",
       "Health          832.403759  823.549853  853.683460  823.819041  695.913819   \n",
       "Housing         623.098599  534.126626  574.562354  355.497300  510.843721   \n",
       "Manufacturing   699.875622  636.758837  650.751685  718.838939  627.807102   \n",
       "Personal Use    349.416185  294.110319  351.096421  283.993123  253.967643   \n",
       "Retail          561.685924  563.980374  574.041141  618.165944  492.503917   \n",
       "Services        705.279056  682.342026  664.005483  720.331824  742.198436   \n",
       "Transportation  602.621745  562.821603  573.966942  615.539514  581.886045   \n",
       "Wholesale       809.731544  836.526946  803.968254  865.789474  863.271605   \n",
       "\n",
       "Year                  2021  \n",
       "SECTOR_NAME                 \n",
       "Agriculture     513.903631  \n",
       "Arts            799.155786  \n",
       "Clothing        675.896511  \n",
       "Construction    836.826698  \n",
       "Education       353.612646  \n",
       "Entertainment   807.692308  \n",
       "Food            531.230650  \n",
       "Health          686.162894  \n",
       "Housing         467.710145  \n",
       "Manufacturing   655.320069  \n",
       "Personal Use    221.531244  \n",
       "Retail          481.147661  \n",
       "Services        739.478877  \n",
       "Transportation  583.908371  \n",
       "Wholesale       930.932203  "
      ]
     },
     "execution_count": 90,
     "metadata": {},
     "output_type": "execute_result"
    }
   ],
   "source": [
    "# average loan amount in each sector each year\n",
    "sample2.pivot_table('LOAN_AMOUNT','SECTOR_NAME','Year')"
   ]
  },
  {
   "cell_type": "markdown",
   "metadata": {},
   "source": [
    "19. Get the number of days in the TIME_LENGTH variable we created and create a new variable 'Days'using it. Create a scatterplot of 'LOAN_AMOUNT' and 'Days'. What's your observation?"
   ]
  },
  {
   "cell_type": "code",
   "execution_count": 91,
   "metadata": {},
   "outputs": [],
   "source": [
    "sample2['Days'] = sample2['TIME_LENGTH'].dt.days"
   ]
  },
  {
   "cell_type": "code",
   "execution_count": 92,
   "metadata": {},
   "outputs": [],
   "source": [
    "sample2['Days']=sample2['Days'].fillna(0)"
   ]
  },
  {
   "cell_type": "code",
   "execution_count": 93,
   "metadata": {},
   "outputs": [],
   "source": [
    "sample2['Days']=sample2['Days'].astype(int)"
   ]
  },
  {
   "cell_type": "code",
   "execution_count": 94,
   "metadata": {},
   "outputs": [
    {
     "data": {
      "text/plain": [
       "0           5\n",
       "1           1\n",
       "2          22\n",
       "3           2\n",
       "4           2\n",
       "           ..\n",
       "2185235     8\n",
       "2185236     0\n",
       "2185238     1\n",
       "2185239     3\n",
       "2185240    10\n",
       "Name: Days, Length: 2090779, dtype: int32"
      ]
     },
     "execution_count": 94,
     "metadata": {},
     "output_type": "execute_result"
    }
   ],
   "source": [
    "sample2['Days']"
   ]
  },
  {
   "cell_type": "code",
   "execution_count": 95,
   "metadata": {},
   "outputs": [
    {
     "data": {
      "text/plain": [
       "<AxesSubplot:xlabel='LOAN_AMOUNT', ylabel='Days'>"
      ]
     },
     "execution_count": 95,
     "metadata": {},
     "output_type": "execute_result"
    },
    {
     "data": {
      "image/png": "[encoded data removed]",
      "text/plain": [
       "<Figure size 432x288 with 1 Axes>"
      ]
     },
     "metadata": {
      "needs_background": "light"
     },
     "output_type": "display_data"
    }
   ],
   "source": [
    "sns.scatterplot(x='LOAN_AMOUNT', y='Days', data=sample2)"
   ]
  },
  {
   "cell_type": "markdown",
   "metadata": {},
   "source": [
    " 'TIME_LENGTH' that is the difference between 'POSTED_TIME' and 'RAISED_TIME'. The negative value of days denotes that the POSTED_TIME is less than RAISED_TIME and the positive values of days denotes that POSTED_TIME is greater than RAISED_TIME.  \n"
   ]
  },
  {
   "cell_type": "markdown",
   "metadata": {},
   "source": [
    "20. Create a scatterplot of 'LOAN_AMOUNT' and 'LENDER_TERM'. What's your observation?"
   ]
  },
  {
   "cell_type": "code",
   "execution_count": 96,
   "metadata": {},
   "outputs": [
    {
     "data": {
      "text/plain": [
       "<AxesSubplot:xlabel='LOAN_AMOUNT', ylabel='LENDER_TERM'>"
      ]
     },
     "execution_count": 96,
     "metadata": {},
     "output_type": "execute_result"
    },
    {
     "data": {
      "image/png": "[encoded data removed]",
      "text/plain": [
       "<Figure size 432x288 with 1 Axes>"
      ]
     },
     "metadata": {
      "needs_background": "light"
     },
     "output_type": "display_data"
    }
   ],
   "source": [
    "sns.scatterplot(x='LOAN_AMOUNT', y='LENDER_TERM', data=sample2)"
   ]
  },
  {
   "cell_type": "markdown",
   "metadata": {},
   "source": [
    "Maximum number of times the loan amount ranges from 0 to 3000 and the lender term ranges from 0 to 125.As we have a large dataset,its not clear whether it has linear relationship or not. But there is some sought of correlation exist between loan amount and lender term"
   ]
  },
  {
   "cell_type": "markdown",
   "metadata": {},
   "source": [
    "21. Prepare the data for model analysis. The target variable is 'STATUS'. The predictor variables we want to include:<br>\n",
    "ORIGINAL_LANGUAGE<br>\n",
    "the logAmount variable we created<br>\n",
    "IMAGE_ID (the one we coded to 0/1)<br>\n",
    "SECTOR_NAME                              \n",
    "COUNTRY_NAME                             \n",
    "CURRENCY_POLICY                          \n",
    "CURRENCY_EXCHANGE_COVERAGE_RATE (the one we tranfromed)<br>\n",
    "Days we creatd based on the TIME_LENGTH <br>\n",
    "PREDISBURSE we created<br>\n",
    "LENDER_TERM                   \n",
    "NUM_JOURNAL_ENTRIES  \n",
    "NUM_BULK_ENTRIES     \n",
    "REPAYMENT_INTERVAL  \n",
    "DISTRIBUTION_MODEL<br>\n",
    "Now we can drop all records with missing values at this point."
   ]
  },
  {
   "cell_type": "code",
   "execution_count": 104,
   "metadata": {},
   "outputs": [],
   "source": [
    "selected_columns1=sample2[['ORIGINAL_LANGUAGE','logAmount','STATUS','IMAGE_ID','SECTOR_NAME','COUNTRY_NAME','CURRENCY_POLICY','CURRENCY_EXCHANGE_COVERAGE_RATE','Days','PREDISBURSE','LENDER_TERM','NUM_JOURNAL_ENTRIES','NUM_BULK_ENTRIES','REPAYMENT_INTERVAL','DISTRIBUTION_MODEL']]"
   ]
  },
  {
   "cell_type": "code",
   "execution_count": 126,
   "metadata": {},
   "outputs": [],
   "source": [
    "sample4=selected_columns1.copy()"
   ]
  },
  {
   "cell_type": "code",
   "execution_count": 127,
   "metadata": {},
   "outputs": [
    {
     "data": {
      "text/plain": [
       "ORIGINAL_LANGUAGE                  44295\n",
       "logAmount                              0\n",
       "STATUS                                 0\n",
       "IMAGE_ID                               0\n",
       "SECTOR_NAME                            0\n",
       "COUNTRY_NAME                           0\n",
       "CURRENCY_POLICY                        0\n",
       "CURRENCY_EXCHANGE_COVERAGE_RATE        0\n",
       "Days                                   0\n",
       "PREDISBURSE                            0\n",
       "LENDER_TERM                           24\n",
       "NUM_JOURNAL_ENTRIES                    0\n",
       "NUM_BULK_ENTRIES                       0\n",
       "REPAYMENT_INTERVAL                     0\n",
       "DISTRIBUTION_MODEL                     0\n",
       "dtype: int64"
      ]
     },
     "execution_count": 127,
     "metadata": {},
     "output_type": "execute_result"
    }
   ],
   "source": [
    "#Number of missing values in every column\n",
    "nullValues=sample4.isnull().sum()\n",
    "nullValues"
   ]
  },
  {
   "cell_type": "code",
   "execution_count": 128,
   "metadata": {},
   "outputs": [
    {
     "data": {
      "text/plain": [
       "funded       2006149\n",
       "notfunded      84630\n",
       "Name: STATUS, dtype: int64"
      ]
     },
     "execution_count": 128,
     "metadata": {},
     "output_type": "execute_result"
    }
   ],
   "source": [
    "sample4['STATUS'].value_counts()"
   ]
  },
  {
   "cell_type": "code",
   "execution_count": 129,
   "metadata": {},
   "outputs": [],
   "source": [
    "sample4['STATUS']=sample4['STATUS'].replace(['funded'],'1')"
   ]
  },
  {
   "cell_type": "code",
   "execution_count": 130,
   "metadata": {},
   "outputs": [],
   "source": [
    "sample4['STATUS']=sample4['STATUS'].replace(['notfunded'],'0')"
   ]
  },
  {
   "cell_type": "code",
   "execution_count": 131,
   "metadata": {},
   "outputs": [
    {
     "data": {
      "text/plain": [
       "1    2006149\n",
       "0      84630\n",
       "Name: STATUS, dtype: int64"
      ]
     },
     "execution_count": 131,
     "metadata": {},
     "output_type": "execute_result"
    }
   ],
   "source": [
    "sample4['STATUS'].value_counts()"
   ]
  },
  {
   "cell_type": "code",
   "execution_count": 132,
   "metadata": {},
   "outputs": [],
   "source": [
    "sample4=sample4.dropna()"
   ]
  },
  {
   "cell_type": "code",
   "execution_count": 133,
   "metadata": {},
   "outputs": [
    {
     "data": {
      "text/plain": [
       "ORIGINAL_LANGUAGE                  0\n",
       "logAmount                          0\n",
       "STATUS                             0\n",
       "IMAGE_ID                           0\n",
       "SECTOR_NAME                        0\n",
       "COUNTRY_NAME                       0\n",
       "CURRENCY_POLICY                    0\n",
       "CURRENCY_EXCHANGE_COVERAGE_RATE    0\n",
       "Days                               0\n",
       "PREDISBURSE                        0\n",
       "LENDER_TERM                        0\n",
       "NUM_JOURNAL_ENTRIES                0\n",
       "NUM_BULK_ENTRIES                   0\n",
       "REPAYMENT_INTERVAL                 0\n",
       "DISTRIBUTION_MODEL                 0\n",
       "dtype: int64"
      ]
     },
     "execution_count": 133,
     "metadata": {},
     "output_type": "execute_result"
    }
   ],
   "source": [
    "#Number of missing values in every column\n",
    "nullValues=sample4.isnull().sum()\n",
    "nullValues"
   ]
  },
  {
   "cell_type": "code",
   "execution_count": 134,
   "metadata": {},
   "outputs": [
    {
     "data": {
      "text/html": [
       "<div>\n",
       "<style scoped>\n",
       "    .dataframe tbody tr th:only-of-type {\n",
       "        vertical-align: middle;\n",
       "    }\n",
       "\n",
       "    .dataframe tbody tr th {\n",
       "        vertical-align: top;\n",
       "    }\n",
       "\n",
       "    .dataframe thead th {\n",
       "        text-align: right;\n",
       "    }\n",
       "</style>\n",
       "<table border=\"1\" class=\"dataframe\">\n",
       "  <thead>\n",
       "    <tr style=\"text-align: right;\">\n",
       "      <th></th>\n",
       "      <th>ORIGINAL_LANGUAGE</th>\n",
       "      <th>logAmount</th>\n",
       "      <th>STATUS</th>\n",
       "      <th>IMAGE_ID</th>\n",
       "      <th>SECTOR_NAME</th>\n",
       "      <th>COUNTRY_NAME</th>\n",
       "      <th>CURRENCY_POLICY</th>\n",
       "      <th>CURRENCY_EXCHANGE_COVERAGE_RATE</th>\n",
       "      <th>Days</th>\n",
       "      <th>PREDISBURSE</th>\n",
       "      <th>LENDER_TERM</th>\n",
       "      <th>NUM_JOURNAL_ENTRIES</th>\n",
       "      <th>NUM_BULK_ENTRIES</th>\n",
       "      <th>REPAYMENT_INTERVAL</th>\n",
       "      <th>DISTRIBUTION_MODEL</th>\n",
       "    </tr>\n",
       "  </thead>\n",
       "  <tbody>\n",
       "    <tr>\n",
       "      <th>0</th>\n",
       "      <td>English</td>\n",
       "      <td>5.703782</td>\n",
       "      <td>1</td>\n",
       "      <td>1.0</td>\n",
       "      <td>Food</td>\n",
       "      <td>Kenya</td>\n",
       "      <td>shared</td>\n",
       "      <td>0.1</td>\n",
       "      <td>5</td>\n",
       "      <td>1</td>\n",
       "      <td>14.0</td>\n",
       "      <td>1</td>\n",
       "      <td>1</td>\n",
       "      <td>monthly</td>\n",
       "      <td>field_partner</td>\n",
       "    </tr>\n",
       "    <tr>\n",
       "      <th>1</th>\n",
       "      <td>English</td>\n",
       "      <td>5.703782</td>\n",
       "      <td>1</td>\n",
       "      <td>1.0</td>\n",
       "      <td>Retail</td>\n",
       "      <td>Kenya</td>\n",
       "      <td>shared</td>\n",
       "      <td>0.1</td>\n",
       "      <td>1</td>\n",
       "      <td>1</td>\n",
       "      <td>14.0</td>\n",
       "      <td>3</td>\n",
       "      <td>2</td>\n",
       "      <td>monthly</td>\n",
       "      <td>field_partner</td>\n",
       "    </tr>\n",
       "    <tr>\n",
       "      <th>2</th>\n",
       "      <td>English</td>\n",
       "      <td>6.163315</td>\n",
       "      <td>1</td>\n",
       "      <td>1.0</td>\n",
       "      <td>Services</td>\n",
       "      <td>Philippines</td>\n",
       "      <td>shared</td>\n",
       "      <td>0.2</td>\n",
       "      <td>22</td>\n",
       "      <td>1</td>\n",
       "      <td>13.0</td>\n",
       "      <td>2</td>\n",
       "      <td>1</td>\n",
       "      <td>monthly</td>\n",
       "      <td>field_partner</td>\n",
       "    </tr>\n",
       "    <tr>\n",
       "      <th>3</th>\n",
       "      <td>English</td>\n",
       "      <td>6.214608</td>\n",
       "      <td>1</td>\n",
       "      <td>1.0</td>\n",
       "      <td>Food</td>\n",
       "      <td>Zimbabwe</td>\n",
       "      <td>shared</td>\n",
       "      <td>0.1</td>\n",
       "      <td>2</td>\n",
       "      <td>0</td>\n",
       "      <td>8.0</td>\n",
       "      <td>2</td>\n",
       "      <td>1</td>\n",
       "      <td>monthly</td>\n",
       "      <td>field_partner</td>\n",
       "    </tr>\n",
       "    <tr>\n",
       "      <th>4</th>\n",
       "      <td>Spanish</td>\n",
       "      <td>6.829794</td>\n",
       "      <td>1</td>\n",
       "      <td>1.0</td>\n",
       "      <td>Construction</td>\n",
       "      <td>Peru</td>\n",
       "      <td>standard</td>\n",
       "      <td>0.0</td>\n",
       "      <td>2</td>\n",
       "      <td>1</td>\n",
       "      <td>11.0</td>\n",
       "      <td>4</td>\n",
       "      <td>2</td>\n",
       "      <td>bullet</td>\n",
       "      <td>field_partner</td>\n",
       "    </tr>\n",
       "  </tbody>\n",
       "</table>\n",
       "</div>"
      ],
      "text/plain": [
       "  ORIGINAL_LANGUAGE  logAmount STATUS  IMAGE_ID   SECTOR_NAME COUNTRY_NAME  \\\n",
       "0           English   5.703782      1       1.0          Food        Kenya   \n",
       "1           English   5.703782      1       1.0        Retail        Kenya   \n",
       "2           English   6.163315      1       1.0      Services  Philippines   \n",
       "3           English   6.214608      1       1.0          Food     Zimbabwe   \n",
       "4           Spanish   6.829794      1       1.0  Construction         Peru   \n",
       "\n",
       "  CURRENCY_POLICY  CURRENCY_EXCHANGE_COVERAGE_RATE  Days  PREDISBURSE  \\\n",
       "0          shared                              0.1     5            1   \n",
       "1          shared                              0.1     1            1   \n",
       "2          shared                              0.2    22            1   \n",
       "3          shared                              0.1     2            0   \n",
       "4        standard                              0.0     2            1   \n",
       "\n",
       "   LENDER_TERM  NUM_JOURNAL_ENTRIES  NUM_BULK_ENTRIES REPAYMENT_INTERVAL  \\\n",
       "0         14.0                    1                 1            monthly   \n",
       "1         14.0                    3                 2            monthly   \n",
       "2         13.0                    2                 1            monthly   \n",
       "3          8.0                    2                 1            monthly   \n",
       "4         11.0                    4                 2             bullet   \n",
       "\n",
       "  DISTRIBUTION_MODEL  \n",
       "0      field_partner  \n",
       "1      field_partner  \n",
       "2      field_partner  \n",
       "3      field_partner  \n",
       "4      field_partner  "
      ]
     },
     "execution_count": 134,
     "metadata": {},
     "output_type": "execute_result"
    }
   ],
   "source": [
    "sample4.head()"
   ]
  },
  {
   "cell_type": "markdown",
   "metadata": {},
   "source": [
    "22. Generate dummies for all categorical variables"
   ]
  },
  {
   "cell_type": "code",
   "execution_count": 135,
   "metadata": {},
   "outputs": [],
   "source": [
    "numericalCols = sample4.select_dtypes(\"number\").columns\n",
    "categoricalCols = sample4.select_dtypes(\"object\").columns\n",
    "numericalCols= list(set(numericalCols))\n",
    "categoricalCols= list(set(categoricalCols))"
   ]
  },
  {
   "cell_type": "code",
   "execution_count": 136,
   "metadata": {},
   "outputs": [
    {
     "data": {
      "text/plain": [
       "['Days',\n",
       " 'LENDER_TERM',\n",
       " 'NUM_BULK_ENTRIES',\n",
       " 'IMAGE_ID',\n",
       " 'NUM_JOURNAL_ENTRIES',\n",
       " 'logAmount',\n",
       " 'PREDISBURSE',\n",
       " 'CURRENCY_EXCHANGE_COVERAGE_RATE']"
      ]
     },
     "execution_count": 136,
     "metadata": {},
     "output_type": "execute_result"
    }
   ],
   "source": [
    "numericalCols"
   ]
  },
  {
   "cell_type": "code",
   "execution_count": 137,
   "metadata": {},
   "outputs": [
    {
     "data": {
      "text/plain": [
       "['CURRENCY_POLICY',\n",
       " 'SECTOR_NAME',\n",
       " 'COUNTRY_NAME',\n",
       " 'DISTRIBUTION_MODEL',\n",
       " 'REPAYMENT_INTERVAL',\n",
       " 'ORIGINAL_LANGUAGE',\n",
       " 'STATUS']"
      ]
     },
     "execution_count": 137,
     "metadata": {},
     "output_type": "execute_result"
    }
   ],
   "source": [
    "categoricalCols"
   ]
  },
  {
   "cell_type": "code",
   "execution_count": 138,
   "metadata": {},
   "outputs": [],
   "source": [
    "sample4 = pd.get_dummies(sample4, columns=['CURRENCY_POLICY','SECTOR_NAME','COUNTRY_NAME','DISTRIBUTION_MODEL','REPAYMENT_INTERVAL','ORIGINAL_LANGUAGE'])"
   ]
  },
  {
   "cell_type": "code",
   "execution_count": 139,
   "metadata": {},
   "outputs": [
    {
     "data": {
      "text/html": [
       "<div>\n",
       "<style scoped>\n",
       "    .dataframe tbody tr th:only-of-type {\n",
       "        vertical-align: middle;\n",
       "    }\n",
       "\n",
       "    .dataframe tbody tr th {\n",
       "        vertical-align: top;\n",
       "    }\n",
       "\n",
       "    .dataframe thead th {\n",
       "        text-align: right;\n",
       "    }\n",
       "</style>\n",
       "<table border=\"1\" class=\"dataframe\">\n",
       "  <thead>\n",
       "    <tr style=\"text-align: right;\">\n",
       "      <th></th>\n",
       "      <th>logAmount</th>\n",
       "      <th>STATUS</th>\n",
       "      <th>IMAGE_ID</th>\n",
       "      <th>CURRENCY_EXCHANGE_COVERAGE_RATE</th>\n",
       "      <th>Days</th>\n",
       "      <th>PREDISBURSE</th>\n",
       "      <th>LENDER_TERM</th>\n",
       "      <th>NUM_JOURNAL_ENTRIES</th>\n",
       "      <th>NUM_BULK_ENTRIES</th>\n",
       "      <th>CURRENCY_POLICY_shared</th>\n",
       "      <th>...</th>\n",
       "      <th>REPAYMENT_INTERVAL_irregular</th>\n",
       "      <th>REPAYMENT_INTERVAL_monthly</th>\n",
       "      <th>ORIGINAL_LANGUAGE_Arabic</th>\n",
       "      <th>ORIGINAL_LANGUAGE_English</th>\n",
       "      <th>ORIGINAL_LANGUAGE_French</th>\n",
       "      <th>ORIGINAL_LANGUAGE_Indonesian</th>\n",
       "      <th>ORIGINAL_LANGUAGE_Portuguese</th>\n",
       "      <th>ORIGINAL_LANGUAGE_Russian</th>\n",
       "      <th>ORIGINAL_LANGUAGE_Spanish</th>\n",
       "      <th>ORIGINAL_LANGUAGE_Vietnamese</th>\n",
       "    </tr>\n",
       "  </thead>\n",
       "  <tbody>\n",
       "    <tr>\n",
       "      <th>0</th>\n",
       "      <td>5.703782</td>\n",
       "      <td>1</td>\n",
       "      <td>1.0</td>\n",
       "      <td>0.1</td>\n",
       "      <td>5</td>\n",
       "      <td>1</td>\n",
       "      <td>14.0</td>\n",
       "      <td>1</td>\n",
       "      <td>1</td>\n",
       "      <td>1</td>\n",
       "      <td>...</td>\n",
       "      <td>0</td>\n",
       "      <td>1</td>\n",
       "      <td>0</td>\n",
       "      <td>1</td>\n",
       "      <td>0</td>\n",
       "      <td>0</td>\n",
       "      <td>0</td>\n",
       "      <td>0</td>\n",
       "      <td>0</td>\n",
       "      <td>0</td>\n",
       "    </tr>\n",
       "    <tr>\n",
       "      <th>1</th>\n",
       "      <td>5.703782</td>\n",
       "      <td>1</td>\n",
       "      <td>1.0</td>\n",
       "      <td>0.1</td>\n",
       "      <td>1</td>\n",
       "      <td>1</td>\n",
       "      <td>14.0</td>\n",
       "      <td>3</td>\n",
       "      <td>2</td>\n",
       "      <td>1</td>\n",
       "      <td>...</td>\n",
       "      <td>0</td>\n",
       "      <td>1</td>\n",
       "      <td>0</td>\n",
       "      <td>1</td>\n",
       "      <td>0</td>\n",
       "      <td>0</td>\n",
       "      <td>0</td>\n",
       "      <td>0</td>\n",
       "      <td>0</td>\n",
       "      <td>0</td>\n",
       "    </tr>\n",
       "    <tr>\n",
       "      <th>2</th>\n",
       "      <td>6.163315</td>\n",
       "      <td>1</td>\n",
       "      <td>1.0</td>\n",
       "      <td>0.2</td>\n",
       "      <td>22</td>\n",
       "      <td>1</td>\n",
       "      <td>13.0</td>\n",
       "      <td>2</td>\n",
       "      <td>1</td>\n",
       "      <td>1</td>\n",
       "      <td>...</td>\n",
       "      <td>0</td>\n",
       "      <td>1</td>\n",
       "      <td>0</td>\n",
       "      <td>1</td>\n",
       "      <td>0</td>\n",
       "      <td>0</td>\n",
       "      <td>0</td>\n",
       "      <td>0</td>\n",
       "      <td>0</td>\n",
       "      <td>0</td>\n",
       "    </tr>\n",
       "    <tr>\n",
       "      <th>3</th>\n",
       "      <td>6.214608</td>\n",
       "      <td>1</td>\n",
       "      <td>1.0</td>\n",
       "      <td>0.1</td>\n",
       "      <td>2</td>\n",
       "      <td>0</td>\n",
       "      <td>8.0</td>\n",
       "      <td>2</td>\n",
       "      <td>1</td>\n",
       "      <td>1</td>\n",
       "      <td>...</td>\n",
       "      <td>0</td>\n",
       "      <td>1</td>\n",
       "      <td>0</td>\n",
       "      <td>1</td>\n",
       "      <td>0</td>\n",
       "      <td>0</td>\n",
       "      <td>0</td>\n",
       "      <td>0</td>\n",
       "      <td>0</td>\n",
       "      <td>0</td>\n",
       "    </tr>\n",
       "    <tr>\n",
       "      <th>4</th>\n",
       "      <td>6.829794</td>\n",
       "      <td>1</td>\n",
       "      <td>1.0</td>\n",
       "      <td>0.0</td>\n",
       "      <td>2</td>\n",
       "      <td>1</td>\n",
       "      <td>11.0</td>\n",
       "      <td>4</td>\n",
       "      <td>2</td>\n",
       "      <td>0</td>\n",
       "      <td>...</td>\n",
       "      <td>0</td>\n",
       "      <td>0</td>\n",
       "      <td>0</td>\n",
       "      <td>0</td>\n",
       "      <td>0</td>\n",
       "      <td>0</td>\n",
       "      <td>0</td>\n",
       "      <td>0</td>\n",
       "      <td>1</td>\n",
       "      <td>0</td>\n",
       "    </tr>\n",
       "  </tbody>\n",
       "</table>\n",
       "<p>5 rows × 128 columns</p>\n",
       "</div>"
      ],
      "text/plain": [
       "   logAmount STATUS  IMAGE_ID  CURRENCY_EXCHANGE_COVERAGE_RATE  Days  \\\n",
       "0   5.703782      1       1.0                              0.1     5   \n",
       "1   5.703782      1       1.0                              0.1     1   \n",
       "2   6.163315      1       1.0                              0.2    22   \n",
       "3   6.214608      1       1.0                              0.1     2   \n",
       "4   6.829794      1       1.0                              0.0     2   \n",
       "\n",
       "   PREDISBURSE  LENDER_TERM  NUM_JOURNAL_ENTRIES  NUM_BULK_ENTRIES  \\\n",
       "0            1         14.0                    1                 1   \n",
       "1            1         14.0                    3                 2   \n",
       "2            1         13.0                    2                 1   \n",
       "3            0          8.0                    2                 1   \n",
       "4            1         11.0                    4                 2   \n",
       "\n",
       "   CURRENCY_POLICY_shared  ...  REPAYMENT_INTERVAL_irregular  \\\n",
       "0                       1  ...                             0   \n",
       "1                       1  ...                             0   \n",
       "2                       1  ...                             0   \n",
       "3                       1  ...                             0   \n",
       "4                       0  ...                             0   \n",
       "\n",
       "   REPAYMENT_INTERVAL_monthly  ORIGINAL_LANGUAGE_Arabic  \\\n",
       "0                           1                         0   \n",
       "1                           1                         0   \n",
       "2                           1                         0   \n",
       "3                           1                         0   \n",
       "4                           0                         0   \n",
       "\n",
       "   ORIGINAL_LANGUAGE_English  ORIGINAL_LANGUAGE_French  \\\n",
       "0                          1                         0   \n",
       "1                          1                         0   \n",
       "2                          1                         0   \n",
       "3                          1                         0   \n",
       "4                          0                         0   \n",
       "\n",
       "   ORIGINAL_LANGUAGE_Indonesian  ORIGINAL_LANGUAGE_Portuguese  \\\n",
       "0                             0                             0   \n",
       "1                             0                             0   \n",
       "2                             0                             0   \n",
       "3                             0                             0   \n",
       "4                             0                             0   \n",
       "\n",
       "   ORIGINAL_LANGUAGE_Russian  ORIGINAL_LANGUAGE_Spanish  \\\n",
       "0                          0                          0   \n",
       "1                          0                          0   \n",
       "2                          0                          0   \n",
       "3                          0                          0   \n",
       "4                          0                          1   \n",
       "\n",
       "   ORIGINAL_LANGUAGE_Vietnamese  \n",
       "0                             0  \n",
       "1                             0  \n",
       "2                             0  \n",
       "3                             0  \n",
       "4                             0  \n",
       "\n",
       "[5 rows x 128 columns]"
      ]
     },
     "execution_count": 139,
     "metadata": {},
     "output_type": "execute_result"
    }
   ],
   "source": [
    "sample4.head()"
   ]
  },
  {
   "cell_type": "code",
   "execution_count": 140,
   "metadata": {},
   "outputs": [
    {
     "data": {
      "text/plain": [
       "array(['logAmount', 'STATUS', 'IMAGE_ID',\n",
       "       'CURRENCY_EXCHANGE_COVERAGE_RATE', 'Days', 'PREDISBURSE',\n",
       "       'LENDER_TERM', 'NUM_JOURNAL_ENTRIES', 'NUM_BULK_ENTRIES',\n",
       "       'CURRENCY_POLICY_shared', 'CURRENCY_POLICY_standard',\n",
       "       'SECTOR_NAME_Agriculture', 'SECTOR_NAME_Arts',\n",
       "       'SECTOR_NAME_Clothing', 'SECTOR_NAME_Construction',\n",
       "       'SECTOR_NAME_Education', 'SECTOR_NAME_Entertainment',\n",
       "       'SECTOR_NAME_Food', 'SECTOR_NAME_Health', 'SECTOR_NAME_Housing',\n",
       "       'SECTOR_NAME_Manufacturing', 'SECTOR_NAME_Personal Use',\n",
       "       'SECTOR_NAME_Retail', 'SECTOR_NAME_Services',\n",
       "       'SECTOR_NAME_Transportation', 'SECTOR_NAME_Wholesale',\n",
       "       'COUNTRY_NAME_Afghanistan', 'COUNTRY_NAME_Albania',\n",
       "       'COUNTRY_NAME_Armenia', 'COUNTRY_NAME_Azerbaijan',\n",
       "       'COUNTRY_NAME_Belize', 'COUNTRY_NAME_Benin',\n",
       "       'COUNTRY_NAME_Bolivia', 'COUNTRY_NAME_Bosnia and Herzegovina',\n",
       "       'COUNTRY_NAME_Brazil', 'COUNTRY_NAME_Bulgaria',\n",
       "       'COUNTRY_NAME_Burkina Faso', 'COUNTRY_NAME_Burundi',\n",
       "       'COUNTRY_NAME_Cambodia', 'COUNTRY_NAME_Cameroon',\n",
       "       'COUNTRY_NAME_Chile', 'COUNTRY_NAME_China',\n",
       "       'COUNTRY_NAME_Colombia', 'COUNTRY_NAME_Congo',\n",
       "       'COUNTRY_NAME_Costa Rica', \"COUNTRY_NAME_Cote D'Ivoire\",\n",
       "       'COUNTRY_NAME_Dominican Republic', 'COUNTRY_NAME_Ecuador',\n",
       "       'COUNTRY_NAME_Egypt', 'COUNTRY_NAME_El Salvador',\n",
       "       'COUNTRY_NAME_Fiji', 'COUNTRY_NAME_Georgia', 'COUNTRY_NAME_Ghana',\n",
       "       'COUNTRY_NAME_Guatemala', 'COUNTRY_NAME_Haiti',\n",
       "       'COUNTRY_NAME_Honduras', 'COUNTRY_NAME_India',\n",
       "       'COUNTRY_NAME_Indonesia', 'COUNTRY_NAME_Iraq',\n",
       "       'COUNTRY_NAME_Israel', 'COUNTRY_NAME_Jordan', 'COUNTRY_NAME_Kenya',\n",
       "       'COUNTRY_NAME_Kosovo', 'COUNTRY_NAME_Kyrgyzstan',\n",
       "       \"COUNTRY_NAME_Lao People's Democratic Republic\",\n",
       "       'COUNTRY_NAME_Lebanon', 'COUNTRY_NAME_Lesotho',\n",
       "       'COUNTRY_NAME_Liberia', 'COUNTRY_NAME_Madagascar',\n",
       "       'COUNTRY_NAME_Malawi', 'COUNTRY_NAME_Mali', 'COUNTRY_NAME_Mexico',\n",
       "       'COUNTRY_NAME_Moldova', 'COUNTRY_NAME_Mongolia',\n",
       "       'COUNTRY_NAME_Mozambique', 'COUNTRY_NAME_Myanmar (Burma)',\n",
       "       'COUNTRY_NAME_Namibia', 'COUNTRY_NAME_Nepal',\n",
       "       'COUNTRY_NAME_Nicaragua', 'COUNTRY_NAME_Nigeria',\n",
       "       'COUNTRY_NAME_Pakistan', 'COUNTRY_NAME_Palestine',\n",
       "       'COUNTRY_NAME_Panama', 'COUNTRY_NAME_Papua New Guinea',\n",
       "       'COUNTRY_NAME_Paraguay', 'COUNTRY_NAME_Peru',\n",
       "       'COUNTRY_NAME_Philippines', 'COUNTRY_NAME_Puerto Rico',\n",
       "       'COUNTRY_NAME_Rwanda',\n",
       "       'COUNTRY_NAME_Saint Vincent and the Grenadines',\n",
       "       'COUNTRY_NAME_Samoa', 'COUNTRY_NAME_Senegal',\n",
       "       'COUNTRY_NAME_Sierra Leone', 'COUNTRY_NAME_Solomon Islands',\n",
       "       'COUNTRY_NAME_Somalia', 'COUNTRY_NAME_South Africa',\n",
       "       'COUNTRY_NAME_South Sudan', 'COUNTRY_NAME_Sri Lanka',\n",
       "       'COUNTRY_NAME_Suriname', 'COUNTRY_NAME_Tajikistan',\n",
       "       'COUNTRY_NAME_Tanzania', 'COUNTRY_NAME_Thailand',\n",
       "       'COUNTRY_NAME_The Democratic Republic of the Congo',\n",
       "       'COUNTRY_NAME_Timor-Leste', 'COUNTRY_NAME_Togo',\n",
       "       'COUNTRY_NAME_Tonga', 'COUNTRY_NAME_Turkey', 'COUNTRY_NAME_Uganda',\n",
       "       'COUNTRY_NAME_Ukraine', 'COUNTRY_NAME_United States',\n",
       "       'COUNTRY_NAME_Vanuatu', 'COUNTRY_NAME_Vietnam',\n",
       "       'COUNTRY_NAME_Yemen', 'COUNTRY_NAME_Zambia',\n",
       "       'COUNTRY_NAME_Zimbabwe', 'DISTRIBUTION_MODEL_direct',\n",
       "       'DISTRIBUTION_MODEL_field_partner', 'REPAYMENT_INTERVAL_bullet',\n",
       "       'REPAYMENT_INTERVAL_irregular', 'REPAYMENT_INTERVAL_monthly',\n",
       "       'ORIGINAL_LANGUAGE_Arabic', 'ORIGINAL_LANGUAGE_English',\n",
       "       'ORIGINAL_LANGUAGE_French', 'ORIGINAL_LANGUAGE_Indonesian',\n",
       "       'ORIGINAL_LANGUAGE_Portuguese', 'ORIGINAL_LANGUAGE_Russian',\n",
       "       'ORIGINAL_LANGUAGE_Spanish', 'ORIGINAL_LANGUAGE_Vietnamese'],\n",
       "      dtype=object)"
      ]
     },
     "execution_count": 140,
     "metadata": {},
     "output_type": "execute_result"
    }
   ],
   "source": [
    "sample4.columns.values"
   ]
  },
  {
   "cell_type": "markdown",
   "metadata": {},
   "source": [
    "23. Prepare training and test datasets"
   ]
  },
  {
   "cell_type": "code",
   "execution_count": 141,
   "metadata": {},
   "outputs": [],
   "source": [
    "from sklearn.model_selection import train_test_split"
   ]
  },
  {
   "cell_type": "code",
   "execution_count": 143,
   "metadata": {},
   "outputs": [],
   "source": [
    "cols=['logAmount','IMAGE_ID',\n",
    "       'CURRENCY_EXCHANGE_COVERAGE_RATE', 'Days', 'PREDISBURSE',\n",
    "       'LENDER_TERM', 'NUM_JOURNAL_ENTRIES', 'NUM_BULK_ENTRIES',\n",
    "       'CURRENCY_POLICY_shared', 'CURRENCY_POLICY_standard',\n",
    "       'SECTOR_NAME_Agriculture', 'SECTOR_NAME_Arts',\n",
    "       'SECTOR_NAME_Clothing', 'SECTOR_NAME_Construction',\n",
    "       'SECTOR_NAME_Education', 'SECTOR_NAME_Entertainment',\n",
    "       'SECTOR_NAME_Food', 'SECTOR_NAME_Health', 'SECTOR_NAME_Housing',\n",
    "       'SECTOR_NAME_Manufacturing', 'SECTOR_NAME_Personal Use',\n",
    "       'SECTOR_NAME_Retail', 'SECTOR_NAME_Services',\n",
    "       'SECTOR_NAME_Transportation', 'SECTOR_NAME_Wholesale',\n",
    "       'COUNTRY_NAME_Afghanistan', 'COUNTRY_NAME_Albania',\n",
    "       'COUNTRY_NAME_Armenia', 'COUNTRY_NAME_Azerbaijan',\n",
    "       'COUNTRY_NAME_Belize', 'COUNTRY_NAME_Benin',\n",
    "       'COUNTRY_NAME_Bolivia', 'COUNTRY_NAME_Bosnia and Herzegovina',\n",
    "       'COUNTRY_NAME_Brazil', 'COUNTRY_NAME_Bulgaria',\n",
    "       'COUNTRY_NAME_Burkina Faso', 'COUNTRY_NAME_Burundi',\n",
    "       'COUNTRY_NAME_Cambodia', 'COUNTRY_NAME_Cameroon',\n",
    "       'COUNTRY_NAME_Chile', 'COUNTRY_NAME_China',\n",
    "       'COUNTRY_NAME_Colombia', 'COUNTRY_NAME_Congo',\n",
    "       'COUNTRY_NAME_Costa Rica', \"COUNTRY_NAME_Cote D'Ivoire\",\n",
    "       'COUNTRY_NAME_Dominican Republic', 'COUNTRY_NAME_Ecuador',\n",
    "       'COUNTRY_NAME_Egypt', 'COUNTRY_NAME_El Salvador',\n",
    "       'COUNTRY_NAME_Fiji', 'COUNTRY_NAME_Georgia', 'COUNTRY_NAME_Ghana',\n",
    "       'COUNTRY_NAME_Guatemala', 'COUNTRY_NAME_Haiti',\n",
    "       'COUNTRY_NAME_Honduras', 'COUNTRY_NAME_India',\n",
    "       'COUNTRY_NAME_Indonesia', 'COUNTRY_NAME_Iraq',\n",
    "       'COUNTRY_NAME_Israel', 'COUNTRY_NAME_Jordan', 'COUNTRY_NAME_Kenya',\n",
    "       'COUNTRY_NAME_Kosovo', 'COUNTRY_NAME_Kyrgyzstan',\n",
    "       \"COUNTRY_NAME_Lao People's Democratic Republic\",\n",
    "       'COUNTRY_NAME_Lebanon', 'COUNTRY_NAME_Lesotho',\n",
    "       'COUNTRY_NAME_Liberia', 'COUNTRY_NAME_Madagascar',\n",
    "       'COUNTRY_NAME_Malawi', 'COUNTRY_NAME_Mali', 'COUNTRY_NAME_Mexico',\n",
    "       'COUNTRY_NAME_Moldova', 'COUNTRY_NAME_Mongolia',\n",
    "       'COUNTRY_NAME_Mozambique', 'COUNTRY_NAME_Myanmar (Burma)',\n",
    "       'COUNTRY_NAME_Namibia', 'COUNTRY_NAME_Nepal',\n",
    "       'COUNTRY_NAME_Nicaragua', 'COUNTRY_NAME_Nigeria',\n",
    "       'COUNTRY_NAME_Pakistan', 'COUNTRY_NAME_Palestine',\n",
    "       'COUNTRY_NAME_Panama', 'COUNTRY_NAME_Papua New Guinea',\n",
    "       'COUNTRY_NAME_Paraguay', 'COUNTRY_NAME_Peru',\n",
    "       'COUNTRY_NAME_Philippines', 'COUNTRY_NAME_Puerto Rico',\n",
    "       'COUNTRY_NAME_Rwanda',\n",
    "       'COUNTRY_NAME_Saint Vincent and the Grenadines',\n",
    "       'COUNTRY_NAME_Samoa', 'COUNTRY_NAME_Senegal',\n",
    "       'COUNTRY_NAME_Sierra Leone', 'COUNTRY_NAME_Solomon Islands',\n",
    "       'COUNTRY_NAME_Somalia', 'COUNTRY_NAME_South Africa',\n",
    "       'COUNTRY_NAME_South Sudan', 'COUNTRY_NAME_Sri Lanka',\n",
    "       'COUNTRY_NAME_Suriname', 'COUNTRY_NAME_Tajikistan',\n",
    "       'COUNTRY_NAME_Tanzania', 'COUNTRY_NAME_Thailand',\n",
    "       'COUNTRY_NAME_The Democratic Republic of the Congo',\n",
    "       'COUNTRY_NAME_Timor-Leste', 'COUNTRY_NAME_Togo',\n",
    "       'COUNTRY_NAME_Tonga', 'COUNTRY_NAME_Turkey', 'COUNTRY_NAME_Uganda',\n",
    "       'COUNTRY_NAME_Ukraine', 'COUNTRY_NAME_United States',\n",
    "       'COUNTRY_NAME_Vanuatu', 'COUNTRY_NAME_Vietnam',\n",
    "       'COUNTRY_NAME_Yemen', 'COUNTRY_NAME_Zambia',\n",
    "       'COUNTRY_NAME_Zimbabwe', 'DISTRIBUTION_MODEL_direct',\n",
    "       'DISTRIBUTION_MODEL_field_partner', 'REPAYMENT_INTERVAL_bullet',\n",
    "       'REPAYMENT_INTERVAL_irregular', 'REPAYMENT_INTERVAL_monthly',\n",
    "       'ORIGINAL_LANGUAGE_Arabic', 'ORIGINAL_LANGUAGE_English',\n",
    "       'ORIGINAL_LANGUAGE_French', 'ORIGINAL_LANGUAGE_Indonesian',\n",
    "       'ORIGINAL_LANGUAGE_Portuguese', 'ORIGINAL_LANGUAGE_Russian',\n",
    "       'ORIGINAL_LANGUAGE_Spanish', 'ORIGINAL_LANGUAGE_Vietnamese']"
   ]
  },
  {
   "cell_type": "code",
   "execution_count": 146,
   "metadata": {},
   "outputs": [],
   "source": [
    "x=sample4[cols]"
   ]
  },
  {
   "cell_type": "code",
   "execution_count": 145,
   "metadata": {},
   "outputs": [],
   "source": [
    "y=sample4['STATUS']"
   ]
  },
  {
   "cell_type": "code",
   "execution_count": 121,
   "metadata": {},
   "outputs": [],
   "source": [
    "x= sample3.loc[:, sample3.columns != 'STATUS']\n",
    "y = sample3.loc[:, sample3.columns == 'STATUS']\n",
    "#from imblearn.over_sampling import SMOTE\n",
    "#os = SMOTE(random_state=0)\n",
    "X_train, X_test, y_train, y_test = train_test_split(x, y, test_size=0.2, random_state=0)\n",
    "\n"
   ]
  },
  {
   "cell_type": "code",
   "execution_count": 124,
   "metadata": {},
   "outputs": [
    {
     "data": {
      "text/plain": [
       "(1637168, 0)"
      ]
     },
     "execution_count": 124,
     "metadata": {},
     "output_type": "execute_result"
    }
   ],
   "source": [
    "y_train.shape"
   ]
  },
  {
   "cell_type": "markdown",
   "metadata": {},
   "source": [
    "24. Fit a logistic regression model."
   ]
  },
  {
   "cell_type": "code",
   "execution_count": 147,
   "metadata": {},
   "outputs": [
    {
     "name": "stderr",
     "output_type": "stream",
     "text": [
      "C:\\Users\\jgsan\\anaconda3\\lib\\site-packages\\sklearn\\linear_model\\_logistic.py:814: ConvergenceWarning: lbfgs failed to converge (status=1):\n",
      "STOP: TOTAL NO. of ITERATIONS REACHED LIMIT.\n",
      "\n",
      "Increase the number of iterations (max_iter) or scale the data as shown in:\n",
      "    https://scikit-learn.org/stable/modules/preprocessing.html\n",
      "Please also refer to the documentation for alternative solver options:\n",
      "    https://scikit-learn.org/stable/modules/linear_model.html#logistic-regression\n",
      "  n_iter_i = _check_optimize_result(\n"
     ]
    },
    {
     "data": {
      "text/plain": [
       "LogisticRegression()"
      ]
     },
     "execution_count": 147,
     "metadata": {},
     "output_type": "execute_result"
    }
   ],
   "source": [
    "from sklearn.linear_model import LogisticRegression\n",
    "from sklearn import metrics\n",
    "X_train, X_test, y_train, y_test = train_test_split(x, y, test_size=0.2, random_state=0)\n",
    "logreg = LogisticRegression()\n",
    "logreg.fit(X_train, y_train)"
   ]
  },
  {
   "cell_type": "markdown",
   "metadata": {},
   "source": [
    "25. Get the predicted results for the test dataset"
   ]
  },
  {
   "cell_type": "code",
   "execution_count": 148,
   "metadata": {},
   "outputs": [
    {
     "name": "stdout",
     "output_type": "stream",
     "text": [
      "Accuracy of logistic regression classifier on test set: 0.98\n"
     ]
    }
   ],
   "source": [
    "y_pred = logreg.predict(X_test)\n",
    "print('Accuracy of logistic regression classifier on test set: {:.2f}'.format(logreg.score(X_test, y_test)))"
   ]
  },
  {
   "cell_type": "markdown",
   "metadata": {},
   "source": [
    "The accuracy rate is good. Therefore, model is a good"
   ]
  },
  {
   "cell_type": "markdown",
   "metadata": {},
   "source": [
    "26. Evaluate the model using accuracy rate and confusion matrix."
   ]
  },
  {
   "cell_type": "code",
   "execution_count": 149,
   "metadata": {},
   "outputs": [
    {
     "name": "stdout",
     "output_type": "stream",
     "text": [
      "[[ 11519   5381]\n",
      " [  2065 390327]]\n"
     ]
    }
   ],
   "source": [
    "from sklearn.metrics import confusion_matrix\n",
    "confusion_matrix = confusion_matrix(y_test, y_pred)\n",
    "print(confusion_matrix)"
   ]
  },
  {
   "cell_type": "markdown",
   "metadata": {},
   "source": [
    "The result tells us we have 11519+390327 correct predictions and 2065+5381 incorrect predictions"
   ]
  },
  {
   "cell_type": "code",
   "execution_count": 150,
   "metadata": {},
   "outputs": [
    {
     "name": "stdout",
     "output_type": "stream",
     "text": [
      "              precision    recall  f1-score   support\n",
      "\n",
      "           0       0.85      0.68      0.76     16900\n",
      "           1       0.99      0.99      0.99    392392\n",
      "\n",
      "    accuracy                           0.98    409292\n",
      "   macro avg       0.92      0.84      0.87    409292\n",
      "weighted avg       0.98      0.98      0.98    409292\n",
      "\n"
     ]
    }
   ],
   "source": [
    "from sklearn.metrics import classification_report\n",
    "print(classification_report(y_test, y_pred))"
   ]
  },
  {
   "cell_type": "markdown",
   "metadata": {},
   "source": [
    "The precision is the ratio tp / (tp + fp) where tp is the number of true positives and fp the number of false positives. The precision is intuitively the ability of the classifier to not label a sample as positive if it is negative.\n",
    "The recall is the ratio tp / (tp + fn) where tp is the number of true positives and fn the number of false negatives. The recall is intuitively the ability of the classifier to find all the positive samples.\n",
    "The F-beta score can be interpreted as a weighted harmonic mean of the precision and recall, where an F-beta score reaches its best value at 1 and worst score at 0.\n",
    "The F-beta score weights the recall more than the precision by a factor of beta. beta = 1.0 means recall and precision are equally important."
   ]
  },
  {
   "cell_type": "markdown",
   "metadata": {},
   "source": [
    "# In the test set, 98% of f1 score denotes that this model is good in predicting whether the loan can be funded or not."
   ]
  },
  {
   "cell_type": "code",
   "execution_count": 155,
   "metadata": {},
   "outputs": [
    {
     "name": "stdout",
     "output_type": "stream",
     "text": [
      "1994956    True\n",
      "2060877    True\n",
      "332898     True\n",
      "1774468    True\n",
      "620587     True\n",
      "           ... \n",
      "1376389    True\n",
      "351746     True\n",
      "2128508    True\n",
      "727472     True\n",
      "1107436    True\n",
      "Name: STATUS, Length: 409292, dtype: bool\n"
     ]
    },
    {
     "data": {
      "text/plain": [
       "<Figure size 432x288 with 0 Axes>"
      ]
     },
     "execution_count": 155,
     "metadata": {},
     "output_type": "execute_result"
    },
    {
     "data": {
      "text/plain": [
       "[<matplotlib.lines.Line2D at 0x1f016ef8730>]"
      ]
     },
     "execution_count": 155,
     "metadata": {},
     "output_type": "execute_result"
    },
    {
     "data": {
      "text/plain": [
       "[<matplotlib.lines.Line2D at 0x1f016ef8b80>]"
      ]
     },
     "execution_count": 155,
     "metadata": {},
     "output_type": "execute_result"
    },
    {
     "data": {
      "text/plain": [
       "(0.0, 1.0)"
      ]
     },
     "execution_count": 155,
     "metadata": {},
     "output_type": "execute_result"
    },
    {
     "data": {
      "text/plain": [
       "(0.0, 1.05)"
      ]
     },
     "execution_count": 155,
     "metadata": {},
     "output_type": "execute_result"
    },
    {
     "data": {
      "text/plain": [
       "Text(0.5, 0, 'False Positive Rate')"
      ]
     },
     "execution_count": 155,
     "metadata": {},
     "output_type": "execute_result"
    },
    {
     "data": {
      "text/plain": [
       "Text(0, 0.5, 'True Positive Rate')"
      ]
     },
     "execution_count": 155,
     "metadata": {},
     "output_type": "execute_result"
    },
    {
     "data": {
      "text/plain": [
       "Text(0.5, 1.0, 'Receiver operating characteristic')"
      ]
     },
     "execution_count": 155,
     "metadata": {},
     "output_type": "execute_result"
    },
    {
     "data": {
      "text/plain": [
       "<matplotlib.legend.Legend at 0x1f016ef8e20>"
      ]
     },
     "execution_count": 155,
     "metadata": {},
     "output_type": "execute_result"
    },
    {
     "data": {
      "image/png": "[encoded data removed]",
      "text/plain": [
       "<Figure size 432x288 with 1 Axes>"
      ]
     },
     "metadata": {
      "needs_background": "light"
     },
     "output_type": "display_data"
    }
   ],
   "source": [
    "from sklearn.metrics import roc_auc_score\n",
    "from sklearn.metrics import roc_curve\n",
    "logit_roc_auc = roc_auc_score(y_test, logreg.predict(X_test))\n",
    "y_test= '1' <= y_test\n",
    "print(y_test)\n",
    "fpr, tpr, thresholds = roc_curve(y_test, logreg.predict_proba(X_test)[:,1])\n",
    "plt.figure()\n",
    "plt.plot(fpr, tpr, label='Logistic Regression (area = %0.2f)' % logit_roc_auc)\n",
    "plt.plot([0, 1], [0, 1],'r--')\n",
    "plt.xlim([0.0, 1.0])\n",
    "plt.ylim([0.0, 1.05])\n",
    "plt.xlabel('False Positive Rate')\n",
    "plt.ylabel('True Positive Rate')\n",
    "plt.title('Receiver operating characteristic')\n",
    "plt.legend(loc=\"lower right\")\n",
    "plt.savefig('Log_ROC')\n",
    "plt.show()"
   ]
  },
  {
   "cell_type": "markdown",
   "metadata": {},
   "source": [
    "The receiver operating characteristic (ROC) curve is another common tool used with binary classifiers. The dotted line represents the ROC curve of a purely random classifier; a good classifier stays as far away from that line as possible (toward the top-left corner)."
   ]
  },
  {
   "cell_type": "markdown",
   "metadata": {},
   "source": [
    "27. Repeat Step 24-26 using another classification method. Which method has better results?"
   ]
  },
  {
   "cell_type": "code",
   "execution_count": 156,
   "metadata": {},
   "outputs": [
    {
     "data": {
      "text/plain": [
       "MLPClassifier(alpha=1e-05, hidden_layer_sizes=(5, 2), random_state=1,\n",
       "              solver='lbfgs')"
      ]
     },
     "execution_count": 156,
     "metadata": {},
     "output_type": "execute_result"
    },
    {
     "data": {
      "text/plain": [
       "array(['1', '1', '1', ..., '1', '1', '1'], dtype='<U1')"
      ]
     },
     "execution_count": 156,
     "metadata": {},
     "output_type": "execute_result"
    },
    {
     "data": {
      "text/plain": [
       "0.9586"
      ]
     },
     "execution_count": 156,
     "metadata": {},
     "output_type": "execute_result"
    }
   ],
   "source": [
    "#Neural networks\n",
    "import sklearn as sk\n",
    "from sklearn.neural_network import MLPClassifier\n",
    "\n",
    "NN = MLPClassifier(solver='lbfgs', alpha=1e-5, hidden_layer_sizes=(5, 2), random_state=1)\n",
    "NN.fit(X, y)\n",
    "NN.predict(X.iloc[460:,:])\n",
    "round(NN.score(X,y), 4)"
   ]
  },
  {
   "cell_type": "code",
   "execution_count": 157,
   "metadata": {},
   "outputs": [
    {
     "data": {
      "text/plain": [
       "RandomForestClassifier(max_depth=2, random_state=0)"
      ]
     },
     "execution_count": 157,
     "metadata": {},
     "output_type": "execute_result"
    },
    {
     "data": {
      "text/plain": [
       "array(['1', '1', '1', ..., '1', '1', '1'], dtype=object)"
      ]
     },
     "execution_count": 157,
     "metadata": {},
     "output_type": "execute_result"
    },
    {
     "data": {
      "text/plain": [
       "0.9586"
      ]
     },
     "execution_count": 157,
     "metadata": {},
     "output_type": "execute_result"
    }
   ],
   "source": [
    "#Random forest classifier\n",
    "import sklearn as sk\n",
    "from sklearn.ensemble import RandomForestClassifier\n",
    "\n",
    "RF = RandomForestClassifier(n_estimators=100, max_depth=2, random_state=0)\n",
    "RF.fit(X, y)\n",
    "RF.predict(X.iloc[460:,:])\n",
    "round(RF.score(X,y), 4)"
   ]
  },
  {
   "cell_type": "markdown",
   "metadata": {},
   "source": [
    "# The logistic regression has better result compared to neural networks and Randomforest"
   ]
  },
  {
   "cell_type": "markdown",
   "metadata": {},
   "source": [
    "Extra question: In your initial project report, you have proposed several descriptive questions. Pick one to explore."
   ]
  },
  {
   "cell_type": "markdown",
   "metadata": {},
   "source": [
    "# #Majority of the loan requests are made by which gender"
   ]
  },
  {
   "cell_type": "code",
   "execution_count": 206,
   "metadata": {},
   "outputs": [
    {
     "data": {
      "text/plain": [
       "<Figure size 640x640 with 0 Axes>"
      ]
     },
     "execution_count": 206,
     "metadata": {},
     "output_type": "execute_result"
    },
    {
     "data": {
      "text/plain": [
       "<Figure size 504x504 with 0 Axes>"
      ]
     },
     "execution_count": 206,
     "metadata": {},
     "output_type": "execute_result"
    },
    {
     "data": {
      "text/plain": [
       "([<matplotlib.patches.Wedge at 0x1f0cb672b50>,\n",
       "  <matplotlib.patches.Wedge at 0x1efd8068fd0>,\n",
       "  <matplotlib.patches.Wedge at 0x1f0cb672d00>],\n",
       " [Text(-0.894148709553811, 0.6407012448897338, 'female'),\n",
       "  Text(0.8941224945826254, -0.6407378283520829, 'male'),\n",
       "  Text(1.0999999990803146, -4.498119420625204e-05, 'unspecified')],\n",
       " [Text(-0.4877174779384423, 0.34947340630349116, '80.2%'),\n",
       "  Text(0.4877031788632501, -0.34949336091931793, '19.8%'),\n",
       "  Text(0.5999999994983534, -2.453519683977384e-05, '0.0%')])"
      ]
     },
     "execution_count": 206,
     "metadata": {},
     "output_type": "execute_result"
    },
    {
     "data": {
      "text/plain": [
       "Text(0.5, 1.0, 'Borrower genders')"
      ]
     },
     "execution_count": 206,
     "metadata": {},
     "output_type": "execute_result"
    },
    {
     "data": {
      "text/plain": [
       "<Figure size 640x640 with 0 Axes>"
      ]
     },
     "metadata": {},
     "output_type": "display_data"
    },
    {
     "data": {
      "image/png": "[encoded data removed]",
      "text/plain": [
       "<Figure size 504x504 with 1 Axes>"
      ]
     },
     "metadata": {},
     "output_type": "display_data"
    }
   ],
   "source": [
    "\n",
    "import collections\n",
    "genders = np.array(df1['BORROWER_GENDERS'])\n",
    "genders_updated = []\n",
    "for gender in genders:\n",
    "    if(type(gender)==str):\n",
    "        gender = gender.replace(',', '').replace(\"'\", '').replace(\"[\", '').replace(\"]\", '').split(' ')\n",
    "        for x in gender:\n",
    "            genders_updated.append(x)\n",
    "borrower_genders = collections.Counter(genders_updated)\n",
    "figure(num=None, figsize=(8, 8), dpi=80)\n",
    "the_grid = GridSpec(3, 1)\n",
    "colors = ['#DD7596', '#8EB897']\n",
    "plt.figure(figsize=(7,7))\n",
    "plt.pie(borrower_genders.values(), labels=borrower_genders.keys(), autopct='%1.1f%%', colors=colors)\n",
    "plt.title('Borrower genders', fontsize=16)\n",
    "plt.show()\n"
   ]
  },
  {
   "cell_type": "code",
   "execution_count": 164,
   "metadata": {},
   "outputs": [
    {
     "name": "stdout",
     "output_type": "stream",
     "text": [
      "Populating the interactive namespace from numpy and matplotlib\n"
     ]
    },
    {
     "name": "stderr",
     "output_type": "stream",
     "text": [
      "C:\\Users\\jgsan\\anaconda3\\lib\\site-packages\\IPython\\core\\magics\\pylab.py:159: UserWarning: pylab import has clobbered these variables: ['sample', 'norm', 'copy']\n",
      "`%matplotlib` prevents importing * from pylab and numpy\n",
      "  warn(\"pylab import has clobbered these variables: %s\"  % clobbered +\n"
     ]
    }
   ],
   "source": [
    "%pylab inline"
   ]
  },
  {
   "cell_type": "markdown",
   "metadata": {},
   "source": [
    "Therefore, we can conclude that the majority of loans are borrowed by female"
   ]
  },
  {
   "cell_type": "markdown",
   "metadata": {},
   "source": [
    "# #Top 10 town which received majority of loans"
   ]
  },
  {
   "cell_type": "code",
   "execution_count": 202,
   "metadata": {},
   "outputs": [
    {
     "data": {
      "text/plain": [
       "<Figure size 864x576 with 0 Axes>"
      ]
     },
     "execution_count": 202,
     "metadata": {},
     "output_type": "execute_result"
    },
    {
     "data": {
      "text/plain": [
       "<AxesSubplot:>"
      ]
     },
     "execution_count": 202,
     "metadata": {},
     "output_type": "execute_result"
    },
    {
     "data": {
      "text/plain": [
       "Text(0.5, 1.0, 'Loan Count by town')"
      ]
     },
     "execution_count": 202,
     "metadata": {},
     "output_type": "execute_result"
    },
    {
     "data": {
      "text/plain": [
       "Text(0.5, 0, 'Loan Count')"
      ]
     },
     "execution_count": 202,
     "metadata": {},
     "output_type": "execute_result"
    },
    {
     "data": {
      "text/plain": [
       "Text(0, 0.5, 'town')"
      ]
     },
     "execution_count": 202,
     "metadata": {},
     "output_type": "execute_result"
    },
    {
     "data": {
      "image/png": "[encoded data removed]",
      "text/plain": [
       "<Figure size 864x576 with 1 Axes>"
      ]
     },
     "metadata": {},
     "output_type": "display_data"
    }
   ],
   "source": [
    "df1['TOWN'] = df1['TOWN_NAME'] + ',' + df1['COUNTRY_NAME']\n",
    "plt.figure(figsize=(12,8))\n",
    "regions = df1['TOWN'].value_counts().head(10)\n",
    "sns.barplot(y=regions.index, x=regions.values, alpha=0.6)\n",
    "plt.title(\"Loan Count by town\", fontsize=16)\n",
    "plt.xlabel(\"Loan Count\", fontsize=15)\n",
    "plt.ylabel(\"town\", fontsize=15)"
   ]
  },
  {
   "cell_type": "code",
   "execution_count": null,
   "metadata": {},
   "outputs": [],
   "source": []
  }
 ],
 "metadata": {
  "kernelspec": {
   "display_name": "Python 3",
   "language": "python",
   "name": "python3"
  },
  "language_info": {
   "codemirror_mode": {
    "name": "ipython",
    "version": 3
   },
   "file_extension": ".py",
   "mimetype": "text/x-python",
   "name": "python",
   "nbconvert_exporter": "python",
   "pygments_lexer": "ipython3",
   "version": "3.8.5"
  }
 },
 "nbformat": 4,
 "nbformat_minor": 2
}
